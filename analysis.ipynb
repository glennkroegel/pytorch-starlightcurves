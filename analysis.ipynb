{
 "cells": [
  {
   "cell_type": "code",
   "execution_count": 14,
   "metadata": {},
   "outputs": [],
   "source": [
    "import pandas as pd\n",
    "import numpy as np\n",
    "from collections import defaultdict, Counter\n",
    "\n",
    "import torch\n",
    "import torch.nn as nn\n",
    "import torch.nn.functional as F\n",
    "import torch.utils.data as data_utils\n",
    "from torch.nn.utils import clip_grad_norm_\n",
    "from torch.nn.utils.rnn import pack_padded_sequence, pad_packed_sequence, pad_sequence\n",
    "from tqdm import tqdm\n",
    "import shutil\n",
    "from utils import count_parameters, accuracy, pooling\n",
    "from config import NUM_EPOCHS, CV_DATA\n",
    "\n",
    "import pyro\n",
    "import pyro.distributions as dist\n",
    "from pyro.distributions import Normal, Categorical\n",
    "from pyro.infer import SVI, Trace_ELBO, TraceEnum_ELBO, config_enumerate\n",
    "from pyro.optim import Adam, ClippedAdam, SGD"
   ]
  },
  {
   "cell_type": "code",
   "execution_count": 2,
   "metadata": {},
   "outputs": [],
   "source": [
    "import matplotlib.pyplot as plt\n",
    "import seaborn as sns"
   ]
  },
  {
   "cell_type": "code",
   "execution_count": 3,
   "metadata": {},
   "outputs": [],
   "source": [
    "%matplotlib inline"
   ]
  },
  {
   "cell_type": "code",
   "execution_count": 4,
   "metadata": {},
   "outputs": [],
   "source": [
    "plt.style.use('ggplot')"
   ]
  },
  {
   "cell_type": "code",
   "execution_count": 46,
   "metadata": {},
   "outputs": [],
   "source": [
    "df = pd.read_csv(CV_DATA, delimiter='\\t', header=None)\n",
    "df.rename({0: 'y'}, axis=1, inplace=True)\n",
    "y = df['y']-1\n",
    "df.drop('y', axis=1, inplace=True)"
   ]
  },
  {
   "cell_type": "code",
   "execution_count": null,
   "metadata": {},
   "outputs": [],
   "source": []
  },
  {
   "cell_type": "code",
   "execution_count": 6,
   "metadata": {},
   "outputs": [
    {
     "data": {
      "text/html": [
       "<div>\n",
       "<style scoped>\n",
       "    .dataframe tbody tr th:only-of-type {\n",
       "        vertical-align: middle;\n",
       "    }\n",
       "\n",
       "    .dataframe tbody tr th {\n",
       "        vertical-align: top;\n",
       "    }\n",
       "\n",
       "    .dataframe thead th {\n",
       "        text-align: right;\n",
       "    }\n",
       "</style>\n",
       "<table border=\"1\" class=\"dataframe\">\n",
       "  <thead>\n",
       "    <tr style=\"text-align: right;\">\n",
       "      <th></th>\n",
       "      <th>1</th>\n",
       "      <th>2</th>\n",
       "      <th>3</th>\n",
       "      <th>4</th>\n",
       "      <th>5</th>\n",
       "      <th>6</th>\n",
       "      <th>7</th>\n",
       "      <th>8</th>\n",
       "      <th>9</th>\n",
       "      <th>10</th>\n",
       "      <th>...</th>\n",
       "      <th>1015</th>\n",
       "      <th>1016</th>\n",
       "      <th>1017</th>\n",
       "      <th>1018</th>\n",
       "      <th>1019</th>\n",
       "      <th>1020</th>\n",
       "      <th>1021</th>\n",
       "      <th>1022</th>\n",
       "      <th>1023</th>\n",
       "      <th>1024</th>\n",
       "    </tr>\n",
       "  </thead>\n",
       "  <tbody>\n",
       "    <tr>\n",
       "      <th>0</th>\n",
       "      <td>-0.569701</td>\n",
       "      <td>-0.567901</td>\n",
       "      <td>-0.565901</td>\n",
       "      <td>-0.563701</td>\n",
       "      <td>-0.561501</td>\n",
       "      <td>-0.559101</td>\n",
       "      <td>-0.556701</td>\n",
       "      <td>-0.554101</td>\n",
       "      <td>-0.551501</td>\n",
       "      <td>-0.548701</td>\n",
       "      <td>...</td>\n",
       "      <td>-0.518401</td>\n",
       "      <td>-0.521501</td>\n",
       "      <td>-0.525101</td>\n",
       "      <td>-0.529001</td>\n",
       "      <td>-0.533201</td>\n",
       "      <td>-0.537901</td>\n",
       "      <td>-0.543001</td>\n",
       "      <td>-0.548501</td>\n",
       "      <td>-0.554501</td>\n",
       "      <td>-0.560801</td>\n",
       "    </tr>\n",
       "    <tr>\n",
       "      <th>1</th>\n",
       "      <td>-0.528303</td>\n",
       "      <td>-0.520903</td>\n",
       "      <td>-0.512903</td>\n",
       "      <td>-0.504303</td>\n",
       "      <td>-0.494903</td>\n",
       "      <td>-0.485003</td>\n",
       "      <td>-0.474403</td>\n",
       "      <td>-0.463203</td>\n",
       "      <td>-0.451303</td>\n",
       "      <td>-0.438903</td>\n",
       "      <td>...</td>\n",
       "      <td>-0.673504</td>\n",
       "      <td>-0.670104</td>\n",
       "      <td>-0.664604</td>\n",
       "      <td>-0.656704</td>\n",
       "      <td>-0.646504</td>\n",
       "      <td>-0.633804</td>\n",
       "      <td>-0.618604</td>\n",
       "      <td>-0.600603</td>\n",
       "      <td>-0.579903</td>\n",
       "      <td>-0.556303</td>\n",
       "    </tr>\n",
       "    <tr>\n",
       "      <th>2</th>\n",
       "      <td>0.164201</td>\n",
       "      <td>0.181901</td>\n",
       "      <td>0.198601</td>\n",
       "      <td>0.214301</td>\n",
       "      <td>0.229001</td>\n",
       "      <td>0.242701</td>\n",
       "      <td>0.255501</td>\n",
       "      <td>0.267401</td>\n",
       "      <td>0.278401</td>\n",
       "      <td>0.288601</td>\n",
       "      <td>...</td>\n",
       "      <td>0.233501</td>\n",
       "      <td>0.225401</td>\n",
       "      <td>0.217301</td>\n",
       "      <td>0.209201</td>\n",
       "      <td>0.201101</td>\n",
       "      <td>0.193101</td>\n",
       "      <td>0.185201</td>\n",
       "      <td>0.177301</td>\n",
       "      <td>0.169401</td>\n",
       "      <td>0.161701</td>\n",
       "    </tr>\n",
       "    <tr>\n",
       "      <th>3</th>\n",
       "      <td>0.321800</td>\n",
       "      <td>0.327001</td>\n",
       "      <td>0.332401</td>\n",
       "      <td>0.337901</td>\n",
       "      <td>0.343501</td>\n",
       "      <td>0.349201</td>\n",
       "      <td>0.355001</td>\n",
       "      <td>0.360801</td>\n",
       "      <td>0.366701</td>\n",
       "      <td>0.372701</td>\n",
       "      <td>...</td>\n",
       "      <td>0.262200</td>\n",
       "      <td>0.268300</td>\n",
       "      <td>0.274400</td>\n",
       "      <td>0.280500</td>\n",
       "      <td>0.286600</td>\n",
       "      <td>0.292600</td>\n",
       "      <td>0.298600</td>\n",
       "      <td>0.304600</td>\n",
       "      <td>0.310500</td>\n",
       "      <td>0.316400</td>\n",
       "    </tr>\n",
       "    <tr>\n",
       "      <th>4</th>\n",
       "      <td>-0.461699</td>\n",
       "      <td>-0.464499</td>\n",
       "      <td>-0.466499</td>\n",
       "      <td>-0.467499</td>\n",
       "      <td>-0.467699</td>\n",
       "      <td>-0.467099</td>\n",
       "      <td>-0.465699</td>\n",
       "      <td>-0.463499</td>\n",
       "      <td>-0.460599</td>\n",
       "      <td>-0.457099</td>\n",
       "      <td>...</td>\n",
       "      <td>-0.465999</td>\n",
       "      <td>-0.465899</td>\n",
       "      <td>-0.466399</td>\n",
       "      <td>-0.467399</td>\n",
       "      <td>-0.468999</td>\n",
       "      <td>-0.471099</td>\n",
       "      <td>-0.473799</td>\n",
       "      <td>-0.477099</td>\n",
       "      <td>-0.480999</td>\n",
       "      <td>-0.485499</td>\n",
       "    </tr>\n",
       "  </tbody>\n",
       "</table>\n",
       "<p>5 rows × 1024 columns</p>\n",
       "</div>"
      ],
      "text/plain": [
       "       1         2         3         4         5         6         7     \\\n",
       "0 -0.569701 -0.567901 -0.565901 -0.563701 -0.561501 -0.559101 -0.556701   \n",
       "1 -0.528303 -0.520903 -0.512903 -0.504303 -0.494903 -0.485003 -0.474403   \n",
       "2  0.164201  0.181901  0.198601  0.214301  0.229001  0.242701  0.255501   \n",
       "3  0.321800  0.327001  0.332401  0.337901  0.343501  0.349201  0.355001   \n",
       "4 -0.461699 -0.464499 -0.466499 -0.467499 -0.467699 -0.467099 -0.465699   \n",
       "\n",
       "       8         9         10    ...      1015      1016      1017      1018  \\\n",
       "0 -0.554101 -0.551501 -0.548701  ... -0.518401 -0.521501 -0.525101 -0.529001   \n",
       "1 -0.463203 -0.451303 -0.438903  ... -0.673504 -0.670104 -0.664604 -0.656704   \n",
       "2  0.267401  0.278401  0.288601  ...  0.233501  0.225401  0.217301  0.209201   \n",
       "3  0.360801  0.366701  0.372701  ...  0.262200  0.268300  0.274400  0.280500   \n",
       "4 -0.463499 -0.460599 -0.457099  ... -0.465999 -0.465899 -0.466399 -0.467399   \n",
       "\n",
       "       1019      1020      1021      1022      1023      1024  \n",
       "0 -0.533201 -0.537901 -0.543001 -0.548501 -0.554501 -0.560801  \n",
       "1 -0.646504 -0.633804 -0.618604 -0.600603 -0.579903 -0.556303  \n",
       "2  0.201101  0.193101  0.185201  0.177301  0.169401  0.161701  \n",
       "3  0.286600  0.292600  0.298600  0.304600  0.310500  0.316400  \n",
       "4 -0.468999 -0.471099 -0.473799 -0.477099 -0.480999 -0.485499  \n",
       "\n",
       "[5 rows x 1024 columns]"
      ]
     },
     "execution_count": 6,
     "metadata": {},
     "output_type": "execute_result"
    }
   ],
   "source": [
    "df.head()"
   ]
  },
  {
   "cell_type": "code",
   "execution_count": null,
   "metadata": {},
   "outputs": [],
   "source": []
  },
  {
   "cell_type": "markdown",
   "metadata": {},
   "source": [
    "### Model"
   ]
  },
  {
   "cell_type": "code",
   "execution_count": 7,
   "metadata": {},
   "outputs": [],
   "source": [
    "from bayesian_nn import *"
   ]
  },
  {
   "cell_type": "code",
   "execution_count": 8,
   "metadata": {},
   "outputs": [],
   "source": [
    "state = torch.load('nn_state.pth.tar')"
   ]
  },
  {
   "cell_type": "code",
   "execution_count": 9,
   "metadata": {},
   "outputs": [],
   "source": [
    "mdl = Classifier()"
   ]
  },
  {
   "cell_type": "code",
   "execution_count": 10,
   "metadata": {},
   "outputs": [
    {
     "data": {
      "text/plain": [
       "<All keys matched successfully>"
      ]
     },
     "execution_count": 10,
     "metadata": {},
     "output_type": "execute_result"
    }
   ],
   "source": [
    "mdl.load_state_dict(state['state_dict'])"
   ]
  },
  {
   "cell_type": "code",
   "execution_count": 11,
   "metadata": {},
   "outputs": [],
   "source": [
    "def predict(x, num_samples=10):\n",
    "    sampled_models = [mdl.guide(None, None) for _ in range(num_samples)]\n",
    "    yhats = [model(x.to(device)).data for model in sampled_models]\n",
    "    mean = torch.mean(torch.stack(yhats), 0)\n",
    "    return mean.argmax(dim=1)"
   ]
  },
  {
   "cell_type": "code",
   "execution_count": 17,
   "metadata": {},
   "outputs": [],
   "source": [
    "x = df.iloc[0].values.reshape(1,-1)\n",
    "x = pooling(x, (1,8))\n",
    "x = torch.FloatTensor(x)"
   ]
  },
  {
   "cell_type": "code",
   "execution_count": 20,
   "metadata": {},
   "outputs": [
    {
     "data": {
      "text/plain": [
       "tensor([1])"
      ]
     },
     "execution_count": 20,
     "metadata": {},
     "output_type": "execute_result"
    }
   ],
   "source": [
    "predict(x)"
   ]
  },
  {
   "cell_type": "code",
   "execution_count": null,
   "metadata": {},
   "outputs": [],
   "source": []
  },
  {
   "cell_type": "markdown",
   "metadata": {},
   "source": [
    "### Calculate certainties "
   ]
  },
  {
   "cell_type": "code",
   "execution_count": 21,
   "metadata": {},
   "outputs": [],
   "source": [
    "def sample_preds(x, num_samples=10):\n",
    "    sampled_models = [mdl.guide(None, None) for _ in range(num_samples)]\n",
    "    logits = [F.log_softmax(model(x.to(device)).data, dim=1) for model in sampled_models]\n",
    "    preds = [a.argmax(dim=1) for a in logits]\n",
    "    res = torch.stack(logits)\n",
    "    u = res.mean(0)\n",
    "    std = res.std(0)\n",
    "    return logits, preds, u, std"
   ]
  },
  {
   "cell_type": "code",
   "execution_count": 22,
   "metadata": {},
   "outputs": [
    {
     "data": {
      "text/plain": [
       "([tensor([[-8.3446e-07, -1.4008e+01, -2.1562e+01]]),\n",
       "  tensor([[-23.1565, -38.6258,   0.0000]]),\n",
       "  tensor([[ -0.0160, -13.8139,  -4.1439]]),\n",
       "  tensor([[-3.1544e+01, -1.4634e+01, -4.7684e-07]]),\n",
       "  tensor([[-1.9669e-05, -1.0838e+01, -1.8073e+01]]),\n",
       "  tensor([[-26.3040, -18.8223,   0.0000]]),\n",
       "  tensor([[-0.0393, -3.6399, -4.3958]]),\n",
       "  tensor([[-8.4033e-03, -9.5115e+00, -4.7922e+00]]),\n",
       "  tensor([[ -0.0727,  -2.6577, -41.6010]]),\n",
       "  tensor([[-8.9881, -0.1143, -2.2269]])],\n",
       " [tensor([0]),\n",
       "  tensor([2]),\n",
       "  tensor([0]),\n",
       "  tensor([2]),\n",
       "  tensor([0]),\n",
       "  tensor([2]),\n",
       "  tensor([0]),\n",
       "  tensor([0]),\n",
       "  tensor([0]),\n",
       "  tensor([1])],\n",
       " tensor([[ -9.0130, -12.6665,  -9.6795]]),\n",
       " tensor([[12.8739, 10.9101, 13.5388]]))"
      ]
     },
     "execution_count": 22,
     "metadata": {},
     "output_type": "execute_result"
    }
   ],
   "source": [
    "sample_preds(x)"
   ]
  },
  {
   "cell_type": "code",
   "execution_count": null,
   "metadata": {},
   "outputs": [],
   "source": []
  },
  {
   "cell_type": "code",
   "execution_count": 26,
   "metadata": {},
   "outputs": [],
   "source": [
    "def summary(ts, num_samples=100):\n",
    "#     ts = ts.reshape(1,-1)\n",
    "#     ts = pooling(ts, (1,8))\n",
    "    x = torch.FloatTensor(ts).unsqueeze(0)\n",
    "    _, preds, u, std = sample_preds(x, num_samples=num_samples)\n",
    "    preds = np.array(preds)\n",
    "    u = u.detach().numpy()\n",
    "    std = std.detach().numpy()\n",
    "    out = {'preds': preds, 'u': u, 'std': std}\n",
    "    return out"
   ]
  },
  {
   "cell_type": "code",
   "execution_count": 27,
   "metadata": {},
   "outputs": [],
   "source": [
    "# num_samples=10\n",
    "# d = {}\n",
    "# for i, ts in tqdm(enumerate(df.values)):\n",
    "#     x = torch.FloatTensor(ts).unsqueeze(0)\n",
    "#     _, preds, u, std = sample_preds(x, num_samples=num_samples)\n",
    "#     preds = np.array(preds)\n",
    "#     u = u.detach().numpy()\n",
    "#     std = std.detach().numpy()\n",
    "#     d[i] = {'preds': preds, 'u': u, 'std': std}"
   ]
  },
  {
   "cell_type": "code",
   "execution_count": 57,
   "metadata": {},
   "outputs": [],
   "source": [
    "idx = 514"
   ]
  },
  {
   "cell_type": "code",
   "execution_count": 60,
   "metadata": {},
   "outputs": [
    {
     "data": {
      "text/plain": [
       "1"
      ]
     },
     "execution_count": 60,
     "metadata": {},
     "output_type": "execute_result"
    }
   ],
   "source": [
    "y[idx]"
   ]
  },
  {
   "cell_type": "code",
   "execution_count": 84,
   "metadata": {},
   "outputs": [],
   "source": [
    "out = summary(df.values[idx], num_samples=100)"
   ]
  },
  {
   "cell_type": "code",
   "execution_count": 85,
   "metadata": {},
   "outputs": [
    {
     "data": {
      "text/plain": [
       "{'preds': array([1, 0, 0, 2, 1, 1, 0, 1, 2, 0, 0, 0, 0, 0, 1, 2, 1, 2, 2, 0, 0, 0,\n",
       "        0, 0, 0, 2, 0, 2, 1, 0, 2, 1, 1, 2, 1, 1, 1, 2, 0, 1, 1, 0, 2, 2,\n",
       "        2, 2, 2, 1, 1, 1, 1, 0, 2, 2, 0, 1, 1, 0, 0, 2, 1, 1, 1, 1, 0, 1,\n",
       "        0, 0, 2, 0, 0, 0, 0, 0, 2, 2, 2, 0, 0, 0, 0, 0, 1, 2, 2, 1, 2, 2,\n",
       "        1, 1, 2, 0, 1, 0, 1, 2, 2, 2, 1, 2]),\n",
       " 'u': array([[-14.313608, -13.238234, -17.056038]], dtype=float32),\n",
       " 'std': array([[18.138685, 15.337047, 23.085642]], dtype=float32)}"
      ]
     },
     "execution_count": 85,
     "metadata": {},
     "output_type": "execute_result"
    }
   ],
   "source": [
    "out"
   ]
  },
  {
   "cell_type": "code",
   "execution_count": 86,
   "metadata": {},
   "outputs": [
    {
     "data": {
      "text/plain": [
       "<matplotlib.axes._subplots.AxesSubplot at 0x7f4bbd29a710>"
      ]
     },
     "execution_count": 86,
     "metadata": {},
     "output_type": "execute_result"
    },
    {
     "data": {
      "image/png": "[encoded data removed]",
      "text/plain": [
       "<Figure size 432x288 with 1 Axes>"
      ]
     },
     "metadata": {},
     "output_type": "display_data"
    }
   ],
   "source": [
    "sns.countplot(out['preds'])"
   ]
  },
  {
   "cell_type": "code",
   "execution_count": 90,
   "metadata": {},
   "outputs": [],
   "source": [
    "from collections import Counter"
   ]
  },
  {
   "cell_type": "code",
   "execution_count": 91,
   "metadata": {},
   "outputs": [
    {
     "data": {
      "text/plain": [
       "Counter({1: 32, 0: 37, 2: 31})"
      ]
     },
     "execution_count": 91,
     "metadata": {},
     "output_type": "execute_result"
    }
   ],
   "source": [
    "Counter(list(out['preds']))"
   ]
  },
  {
   "cell_type": "code",
   "execution_count": 89,
   "metadata": {},
   "outputs": [
    {
     "data": {
      "text/plain": [
       "array([1])"
      ]
     },
     "execution_count": 89,
     "metadata": {},
     "output_type": "execute_result"
    }
   ],
   "source": [
    "out['u'].argmax(1)"
   ]
  },
  {
   "cell_type": "markdown",
   "metadata": {},
   "source": [
    "### Subset "
   ]
  },
  {
   "cell_type": "code",
   "execution_count": 75,
   "metadata": {},
   "outputs": [],
   "source": [
    "ixs = np.arange(100)"
   ]
  },
  {
   "cell_type": "code",
   "execution_count": 78,
   "metadata": {},
   "outputs": [],
   "source": [
    "inputs = df.iloc[ixs].values\n",
    "inputs = pooling(inputs, (1,8))"
   ]
  },
  {
   "cell_type": "code",
   "execution_count": 80,
   "metadata": {},
   "outputs": [
    {
     "data": {
      "text/plain": [
       "(100, 128)"
      ]
     },
     "execution_count": 80,
     "metadata": {},
     "output_type": "execute_result"
    }
   ],
   "source": [
    "inputs.shape"
   ]
  },
  {
   "cell_type": "code",
   "execution_count": 82,
   "metadata": {},
   "outputs": [
    {
     "data": {
      "text/plain": [
       "(128,)"
      ]
     },
     "execution_count": 82,
     "metadata": {},
     "output_type": "execute_result"
    }
   ],
   "source": [
    "for ts in tqdm(inputs):\n",
    "    "
   ]
  },
  {
   "cell_type": "code",
   "execution_count": null,
   "metadata": {},
   "outputs": [],
   "source": []
  },
  {
   "cell_type": "code",
   "execution_count": null,
   "metadata": {},
   "outputs": [],
   "source": []
  },
  {
   "cell_type": "code",
   "execution_count": null,
   "metadata": {},
   "outputs": [],
   "source": []
  },
  {
   "cell_type": "code",
   "execution_count": null,
   "metadata": {},
   "outputs": [],
   "source": []
  },
  {
   "cell_type": "code",
   "execution_count": null,
   "metadata": {},
   "outputs": [],
   "source": []
  },
  {
   "cell_type": "code",
   "execution_count": null,
   "metadata": {},
   "outputs": [],
   "source": []
  },
  {
   "cell_type": "code",
   "execution_count": null,
   "metadata": {},
   "outputs": [],
   "source": []
  },
  {
   "cell_type": "markdown",
   "metadata": {},
   "source": [
    "### Plot series "
   ]
  },
  {
   "cell_type": "code",
   "execution_count": null,
   "metadata": {},
   "outputs": [],
   "source": [
    "def plot_ts(ts):\n",
    "    y = ts.values\n",
    "    x = np.arange(0, len(y), 1)\n",
    "    plt.figure(figsize=(7,5))\n",
    "    sns.lineplot(x, y)\n",
    "    plt.show()"
   ]
  },
  {
   "cell_type": "code",
   "execution_count": null,
   "metadata": {},
   "outputs": [],
   "source": [
    "plot_ts(df.iloc[500])"
   ]
  },
  {
   "cell_type": "code",
   "execution_count": null,
   "metadata": {},
   "outputs": [],
   "source": [
    "def plt_multiple(ixs):\n",
    "    fig, ax = plt.subplots(nrows=2, sharey=True, sharex=True)\n",
    "    for i, ix in enumerate(ixs):\n",
    "        y = df.iloc[ix]\n",
    "        x = np.arange(0, len(y), 1)\n",
    "        sns.lineplot(x,y, ax=ax[i])"
   ]
  },
  {
   "cell_type": "code",
   "execution_count": null,
   "metadata": {},
   "outputs": [],
   "source": [
    "plt_multiple([4, 5])"
   ]
  },
  {
   "cell_type": "code",
   "execution_count": null,
   "metadata": {},
   "outputs": [],
   "source": []
  },
  {
   "cell_type": "code",
   "execution_count": null,
   "metadata": {},
   "outputs": [],
   "source": []
  }
 ],
 "metadata": {
  "kernelspec": {
   "display_name": "Python 3",
   "language": "python",
   "name": "python3"
  },
  "language_info": {
   "codemirror_mode": {
    "name": "ipython",
    "version": 3
   },
   "file_extension": ".py",
   "mimetype": "text/x-python",
   "name": "python",
   "nbconvert_exporter": "python",
   "pygments_lexer": "ipython3",
   "version": "3.6.8"
  }
 },
 "nbformat": 4,
 "nbformat_minor": 2
}
