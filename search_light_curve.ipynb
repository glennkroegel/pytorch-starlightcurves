{
 "cells": [
  {
   "cell_type": "code",
   "execution_count": 1,
   "metadata": {},
   "outputs": [],
   "source": [
    "import torch\n",
    "import pandas as pd\n",
    "import astropy as ap\n",
    "import numpy as np\n",
    "import matplotlib.pyplot as plt \n",
    "import seaborn as sns\n",
    "# from astropy.io import fits\n",
    "import pdb\n",
    "from scipy.ndimage.filters import maximum_filter1d\n",
    "import glob\n",
    "import fitsio as fits\n",
    "import torch\n",
    "import torch.nn as nn\n",
    "import torch.nn.functional as F\n",
    "import torch.utils.data as data_utils\n",
    "from torch.nn.utils import clip_grad_norm_\n",
    "from torch.nn.utils.rnn import pack_padded_sequence, pad_packed_sequence, pad_sequence\n",
    "from torch.distributions.normal import Normal\n",
    "from tqdm import tqdm\n",
    "from utils import collate_interp_sparse\n",
    "import time"
   ]
  },
  {
   "cell_type": "code",
   "execution_count": 2,
   "metadata": {},
   "outputs": [],
   "source": [
    "import sys\n",
    "sys.path.insert(0, '../')\n",
    "sys.path.insert(1, '../latent_ode/')\n",
    "import latent_ode.lib as ode\n",
    "import latent_ode.lib.utils as utils\n",
    "from latent_ode.lib.latent_ode import LatentODE\n",
    "from latent_ode.lib.ode_rnn import ODE_RNN\n",
    "from latent_ode.lib.encoder_decoder import Encoder_z0_ODE_RNN, Decoder\n",
    "from latent_ode.lib.diffeq_solver import DiffeqSolver\n",
    "from latent_ode.lib.ode_func import ODEFunc"
   ]
  },
  {
   "cell_type": "code",
   "execution_count": 3,
   "metadata": {},
   "outputs": [],
   "source": [
    "from ode_rnn import create_ODERNN_model"
   ]
  },
  {
   "cell_type": "code",
   "execution_count": 4,
   "metadata": {},
   "outputs": [],
   "source": [
    "# device = torch.device(\"cuda\" if torch.cuda.is_available() else \"cpu\")\n",
    "device = torch.device(\"cpu\")"
   ]
  },
  {
   "cell_type": "code",
   "execution_count": 5,
   "metadata": {},
   "outputs": [],
   "source": [
    "# obsrv_std = torch.Tensor([0.1]).to(device)\n",
    "# z0_prior = Normal(torch.Tensor([0.0]).to(device), torch.Tensor([1.]).to(device))\n",
    "input_dim = 1\n",
    "latent_dim = 40"
   ]
  },
  {
   "cell_type": "code",
   "execution_count": 6,
   "metadata": {},
   "outputs": [],
   "source": [
    "model = create_ODERNN_model()"
   ]
  },
  {
   "cell_type": "code",
   "execution_count": 10,
   "metadata": {},
   "outputs": [],
   "source": [
    "model_file = 'ode_rnn_state_tess.pth.tar'"
   ]
  },
  {
   "cell_type": "code",
   "execution_count": 11,
   "metadata": {},
   "outputs": [],
   "source": [
    "state = torch.load(model_file, map_location=torch.device('cpu'))"
   ]
  },
  {
   "cell_type": "code",
   "execution_count": 12,
   "metadata": {},
   "outputs": [
    {
     "ename": "RuntimeError",
     "evalue": "Error(s) in loading state_dict for ODE_RNN:\n\tUnexpected key(s) in state_dict: \"ode_gru.z0_diffeq_solver.ode_func.gradient_net.6.weight\", \"z0_diffeq_solver.ode_func.gradient_net.6.weight\". \n\tsize mismatch for ode_gru.GRU_update.update_gate.0.weight: copying a param with shape torch.Size([100, 84]) from checkpoint, the shape in current model is torch.Size([50, 82]).\n\tsize mismatch for ode_gru.GRU_update.update_gate.2.weight: copying a param with shape torch.Size([40, 100]) from checkpoint, the shape in current model is torch.Size([40, 50]).\n\tsize mismatch for ode_gru.GRU_update.reset_gate.0.weight: copying a param with shape torch.Size([100, 84]) from checkpoint, the shape in current model is torch.Size([50, 82]).\n\tsize mismatch for ode_gru.GRU_update.reset_gate.2.weight: copying a param with shape torch.Size([40, 100]) from checkpoint, the shape in current model is torch.Size([40, 50]).\n\tsize mismatch for ode_gru.GRU_update.new_state_net.0.weight: copying a param with shape torch.Size([100, 84]) from checkpoint, the shape in current model is torch.Size([50, 82]).\n\tsize mismatch for ode_gru.GRU_update.new_state_net.2.weight: copying a param with shape torch.Size([80, 100]) from checkpoint, the shape in current model is torch.Size([80, 50]).\n\tsize mismatch for ode_gru.z0_diffeq_solver.ode_func.gradient_net.4.weight: copying a param with shape torch.Size([100, 100]) from checkpoint, the shape in current model is torch.Size([40, 100]).\n\tsize mismatch for z0_diffeq_solver.ode_func.gradient_net.4.weight: copying a param with shape torch.Size([100, 100]) from checkpoint, the shape in current model is torch.Size([40, 100]).\n\tsize mismatch for decoder.0.weight: copying a param with shape torch.Size([100, 40]) from checkpoint, the shape in current model is torch.Size([50, 40]).\n\tsize mismatch for decoder.2.weight: copying a param with shape torch.Size([2, 100]) from checkpoint, the shape in current model is torch.Size([1, 50]).",
     "output_type": "error",
     "traceback": [
      "\u001b[0;31m---------------------------------------------------------------------------\u001b[0m",
      "\u001b[0;31mRuntimeError\u001b[0m                              Traceback (most recent call last)",
      "\u001b[0;32m<ipython-input-12-d17d4a67aeb0>\u001b[0m in \u001b[0;36m<module>\u001b[0;34m\u001b[0m\n\u001b[0;32m----> 1\u001b[0;31m \u001b[0mmodel\u001b[0m\u001b[0;34m.\u001b[0m\u001b[0mload_state_dict\u001b[0m\u001b[0;34m(\u001b[0m\u001b[0mstate\u001b[0m\u001b[0;34m[\u001b[0m\u001b[0;34m'state_dict'\u001b[0m\u001b[0;34m]\u001b[0m\u001b[0;34m)\u001b[0m\u001b[0;34m\u001b[0m\u001b[0;34m\u001b[0m\u001b[0m\n\u001b[0m",
      "\u001b[0;32m~/.local/lib/python3.6/site-packages/torch/nn/modules/module.py\u001b[0m in \u001b[0;36mload_state_dict\u001b[0;34m(self, state_dict, strict)\u001b[0m\n\u001b[1;32m    837\u001b[0m         \u001b[0;32mif\u001b[0m \u001b[0mlen\u001b[0m\u001b[0;34m(\u001b[0m\u001b[0merror_msgs\u001b[0m\u001b[0;34m)\u001b[0m \u001b[0;34m>\u001b[0m \u001b[0;36m0\u001b[0m\u001b[0;34m:\u001b[0m\u001b[0;34m\u001b[0m\u001b[0;34m\u001b[0m\u001b[0m\n\u001b[1;32m    838\u001b[0m             raise RuntimeError('Error(s) in loading state_dict for {}:\\n\\t{}'.format(\n\u001b[0;32m--> 839\u001b[0;31m                                self.__class__.__name__, \"\\n\\t\".join(error_msgs)))\n\u001b[0m\u001b[1;32m    840\u001b[0m         \u001b[0;32mreturn\u001b[0m \u001b[0m_IncompatibleKeys\u001b[0m\u001b[0;34m(\u001b[0m\u001b[0mmissing_keys\u001b[0m\u001b[0;34m,\u001b[0m \u001b[0munexpected_keys\u001b[0m\u001b[0;34m)\u001b[0m\u001b[0;34m\u001b[0m\u001b[0;34m\u001b[0m\u001b[0m\n\u001b[1;32m    841\u001b[0m \u001b[0;34m\u001b[0m\u001b[0m\n",
      "\u001b[0;31mRuntimeError\u001b[0m: Error(s) in loading state_dict for ODE_RNN:\n\tUnexpected key(s) in state_dict: \"ode_gru.z0_diffeq_solver.ode_func.gradient_net.6.weight\", \"z0_diffeq_solver.ode_func.gradient_net.6.weight\". \n\tsize mismatch for ode_gru.GRU_update.update_gate.0.weight: copying a param with shape torch.Size([100, 84]) from checkpoint, the shape in current model is torch.Size([50, 82]).\n\tsize mismatch for ode_gru.GRU_update.update_gate.2.weight: copying a param with shape torch.Size([40, 100]) from checkpoint, the shape in current model is torch.Size([40, 50]).\n\tsize mismatch for ode_gru.GRU_update.reset_gate.0.weight: copying a param with shape torch.Size([100, 84]) from checkpoint, the shape in current model is torch.Size([50, 82]).\n\tsize mismatch for ode_gru.GRU_update.reset_gate.2.weight: copying a param with shape torch.Size([40, 100]) from checkpoint, the shape in current model is torch.Size([40, 50]).\n\tsize mismatch for ode_gru.GRU_update.new_state_net.0.weight: copying a param with shape torch.Size([100, 84]) from checkpoint, the shape in current model is torch.Size([50, 82]).\n\tsize mismatch for ode_gru.GRU_update.new_state_net.2.weight: copying a param with shape torch.Size([80, 100]) from checkpoint, the shape in current model is torch.Size([80, 50]).\n\tsize mismatch for ode_gru.z0_diffeq_solver.ode_func.gradient_net.4.weight: copying a param with shape torch.Size([100, 100]) from checkpoint, the shape in current model is torch.Size([40, 100]).\n\tsize mismatch for z0_diffeq_solver.ode_func.gradient_net.4.weight: copying a param with shape torch.Size([100, 100]) from checkpoint, the shape in current model is torch.Size([40, 100]).\n\tsize mismatch for decoder.0.weight: copying a param with shape torch.Size([100, 40]) from checkpoint, the shape in current model is torch.Size([50, 40]).\n\tsize mismatch for decoder.2.weight: copying a param with shape torch.Size([2, 100]) from checkpoint, the shape in current model is torch.Size([1, 50])."
     ]
    }
   ],
   "source": [
    "model.load_state_dict(state['state_dict'])"
   ]
  },
  {
   "cell_type": "code",
   "execution_count": null,
   "metadata": {},
   "outputs": [],
   "source": [
    "model.eval()"
   ]
  },
  {
   "cell_type": "markdown",
   "metadata": {},
   "source": [
    "### Input vec"
   ]
  },
  {
   "cell_type": "code",
   "execution_count": null,
   "metadata": {},
   "outputs": [],
   "source": [
    "p = pd.read_pickle('pi_signal.pkl')"
   ]
  },
  {
   "cell_type": "code",
   "execution_count": null,
   "metadata": {},
   "outputs": [],
   "source": [
    "p1, p2 = p"
   ]
  },
  {
   "cell_type": "code",
   "execution_count": null,
   "metadata": {},
   "outputs": [],
   "source": [
    "p1"
   ]
  },
  {
   "cell_type": "code",
   "execution_count": null,
   "metadata": {},
   "outputs": [],
   "source": [
    "ts = np.arange(0, 1, 1/len(p1))"
   ]
  },
  {
   "cell_type": "code",
   "execution_count": null,
   "metadata": {},
   "outputs": [],
   "source": [
    "data = torch.FloatTensor((ts, p1))\n",
    "data = data.unsqueeze(0)"
   ]
  },
  {
   "cell_type": "code",
   "execution_count": null,
   "metadata": {},
   "outputs": [],
   "source": [
    "inp = collate_interp_sparse(data)"
   ]
  },
  {
   "cell_type": "code",
   "execution_count": null,
   "metadata": {},
   "outputs": [],
   "source": [
    "observed = inp['observed_data'].to(device)\n",
    "true = inp['data_to_predict'].to(device)\n",
    "mask = inp['observed_mask'].to(device)\n",
    "t = inp['observed_tp'].to(device)\n",
    "x = torch.cat((observed, mask), -1)\n",
    "# try:\n",
    "#     z_u, z_std = model.encoder_z0.forward(x, t)\n",
    "# except:\n",
    "z_u, z_std = model.ode_gru.forward(x, t)"
   ]
  },
  {
   "cell_type": "code",
   "execution_count": null,
   "metadata": {},
   "outputs": [],
   "source": [
    "x.shape"
   ]
  },
  {
   "cell_type": "code",
   "execution_count": null,
   "metadata": {},
   "outputs": [],
   "source": []
  },
  {
   "cell_type": "code",
   "execution_count": null,
   "metadata": {},
   "outputs": [],
   "source": []
  },
  {
   "cell_type": "code",
   "execution_count": null,
   "metadata": {},
   "outputs": [],
   "source": []
  }
 ],
 "metadata": {
  "kernelspec": {
   "display_name": "Python 3",
   "language": "python",
   "name": "python3"
  },
  "language_info": {
   "codemirror_mode": {
    "name": "ipython",
    "version": 3
   },
   "file_extension": ".py",
   "mimetype": "text/x-python",
   "name": "python",
   "nbconvert_exporter": "python",
   "pygments_lexer": "ipython3",
   "version": "3.6.9"
  }
 },
 "nbformat": 4,
 "nbformat_minor": 2
}
