{
 "cells": [
  {
   "cell_type": "code",
   "execution_count": 1,
   "metadata": {},
   "outputs": [],
   "source": [
    "import torch\n",
    "import pandas as pd\n",
    "import astropy as ap\n",
    "import numpy as np\n",
    "import matplotlib.pyplot as plt \n",
    "import seaborn as sns\n",
    "# from astropy.io import fits\n",
    "import pdb\n",
    "from scipy.ndimage.filters import maximum_filter1d\n",
    "import glob\n",
    "import fitsio as fits\n",
    "import torch\n",
    "import torch.nn as nn\n",
    "import torch.nn.functional as F\n",
    "import torch.utils.data as data_utils\n",
    "from torch.nn.utils import clip_grad_norm_\n",
    "from torch.nn.utils.rnn import pack_padded_sequence, pad_packed_sequence, pad_sequence\n",
    "from torch.distributions.normal import Normal\n",
    "from tqdm import tqdm"
   ]
  },
  {
   "cell_type": "code",
   "execution_count": 2,
   "metadata": {},
   "outputs": [],
   "source": [
    "import sys\n",
    "sys.path.insert(0, '../')\n",
    "sys.path.insert(1, '../latent_ode/')\n",
    "import latent_ode.lib as ode\n",
    "import latent_ode.lib.utils as utils\n",
    "from latent_ode.lib.latent_ode import LatentODE\n",
    "from latent_ode.lib.encoder_decoder import Encoder_z0_ODE_RNN, Decoder\n",
    "from latent_ode.lib.diffeq_solver import DiffeqSolver\n",
    "from latent_ode.lib.ode_func import ODEFunc"
   ]
  },
  {
   "cell_type": "code",
   "execution_count": 3,
   "metadata": {},
   "outputs": [],
   "source": [
    "from latent_rnn import create_LatentODE_model"
   ]
  },
  {
   "cell_type": "code",
   "execution_count": 4,
   "metadata": {},
   "outputs": [],
   "source": [
    "device = torch.device(\"cuda\" if torch.cuda.is_available() else \"cpu\")"
   ]
  },
  {
   "cell_type": "markdown",
   "metadata": {},
   "source": [
    "## Loading"
   ]
  },
  {
   "cell_type": "code",
   "execution_count": 5,
   "metadata": {},
   "outputs": [],
   "source": [
    "obsrv_std = torch.Tensor([0.01]).to(device)\n",
    "z0_prior = Normal(torch.Tensor([0.0]).to(device), torch.Tensor([1.]).to(device))\n",
    "input_dim = 1\n",
    "model = create_LatentODE_model(input_dim, z0_prior, obsrv_std)"
   ]
  },
  {
   "cell_type": "code",
   "execution_count": 6,
   "metadata": {},
   "outputs": [],
   "source": [
    "state = torch.load('latent_ode_state.pth.tar')"
   ]
  },
  {
   "cell_type": "code",
   "execution_count": 7,
   "metadata": {},
   "outputs": [
    {
     "data": {
      "text/plain": [
       "<All keys matched successfully>"
      ]
     },
     "execution_count": 7,
     "metadata": {},
     "output_type": "execute_result"
    }
   ],
   "source": [
    "model.load_state_dict(state['state_dict'])"
   ]
  },
  {
   "cell_type": "code",
   "execution_count": 8,
   "metadata": {},
   "outputs": [
    {
     "data": {
      "text/plain": [
       "LatentODE(\n",
       "  (encoder_z0): Encoder_z0_ODE_RNN(\n",
       "    (GRU_update): GRU_unit(\n",
       "      (update_gate): Sequential(\n",
       "        (0): Linear(in_features=102, out_features=100, bias=True)\n",
       "        (1): Tanh()\n",
       "        (2): Linear(in_features=100, out_features=50, bias=True)\n",
       "        (3): Sigmoid()\n",
       "      )\n",
       "      (reset_gate): Sequential(\n",
       "        (0): Linear(in_features=102, out_features=100, bias=True)\n",
       "        (1): Tanh()\n",
       "        (2): Linear(in_features=100, out_features=50, bias=True)\n",
       "        (3): Sigmoid()\n",
       "      )\n",
       "      (new_state_net): Sequential(\n",
       "        (0): Linear(in_features=102, out_features=100, bias=True)\n",
       "        (1): Tanh()\n",
       "        (2): Linear(in_features=100, out_features=100, bias=True)\n",
       "      )\n",
       "    )\n",
       "    (z0_diffeq_solver): DiffeqSolver(\n",
       "      (ode_func): ODEFunc(\n",
       "        (gradient_net): Sequential(\n",
       "          (0): Linear(in_features=50, out_features=100, bias=True)\n",
       "          (1): Tanh()\n",
       "          (2): Linear(in_features=100, out_features=100, bias=True)\n",
       "          (3): Tanh()\n",
       "          (4): Linear(in_features=100, out_features=100, bias=True)\n",
       "          (5): Tanh()\n",
       "          (6): Linear(in_features=100, out_features=50, bias=True)\n",
       "        )\n",
       "      )\n",
       "    )\n",
       "    (transform_z0): Sequential(\n",
       "      (0): Linear(in_features=100, out_features=100, bias=True)\n",
       "      (1): Tanh()\n",
       "      (2): Linear(in_features=100, out_features=60, bias=True)\n",
       "    )\n",
       "  )\n",
       "  (diffeq_solver): DiffeqSolver(\n",
       "    (ode_func): ODEFunc(\n",
       "      (gradient_net): Sequential(\n",
       "        (0): Linear(in_features=30, out_features=100, bias=True)\n",
       "        (1): Tanh()\n",
       "        (2): Linear(in_features=100, out_features=100, bias=True)\n",
       "        (3): Tanh()\n",
       "        (4): Linear(in_features=100, out_features=100, bias=True)\n",
       "        (5): Tanh()\n",
       "        (6): Linear(in_features=100, out_features=30, bias=True)\n",
       "      )\n",
       "    )\n",
       "  )\n",
       "  (decoder): Decoder(\n",
       "    (decoder): Sequential(\n",
       "      (0): Linear(in_features=30, out_features=1, bias=True)\n",
       "    )\n",
       "  )\n",
       ")"
      ]
     },
     "execution_count": 8,
     "metadata": {},
     "output_type": "execute_result"
    }
   ],
   "source": [
    "model.eval()"
   ]
  },
  {
   "cell_type": "code",
   "execution_count": 93,
   "metadata": {},
   "outputs": [],
   "source": [
    "loader = torch.load('tess_train.pt')"
   ]
  },
  {
   "cell_type": "markdown",
   "metadata": {},
   "source": [
    "## Inference"
   ]
  },
  {
   "cell_type": "code",
   "execution_count": 94,
   "metadata": {},
   "outputs": [
    {
     "name": "stderr",
     "output_type": "stream",
     "text": [
      "\n",
      "  0%|          | 0/90 [00:00<?, ?it/s]\u001b[A\n",
      "  1%|          | 1/90 [00:00<00:37,  2.38it/s]\u001b[A\n",
      "  2%|▏         | 2/90 [00:00<00:36,  2.42it/s]\u001b[A\n",
      "  3%|▎         | 3/90 [00:01<00:35,  2.45it/s]\u001b[A\n",
      "  4%|▍         | 4/90 [00:01<00:34,  2.46it/s]\u001b[A\n",
      "  6%|▌         | 5/90 [00:02<00:34,  2.48it/s]\u001b[A\n",
      "  7%|▋         | 6/90 [00:02<00:34,  2.41it/s]\u001b[A\n",
      "  8%|▊         | 7/90 [00:02<00:34,  2.41it/s]\u001b[A\n",
      "  9%|▉         | 8/90 [00:03<00:33,  2.45it/s]\u001b[A\n",
      " 10%|█         | 9/90 [00:03<00:33,  2.41it/s]\u001b[A\n",
      " 11%|█         | 10/90 [00:04<00:32,  2.45it/s]\u001b[A\n",
      " 12%|█▏        | 11/90 [00:04<00:32,  2.46it/s]\u001b[A\n",
      " 13%|█▎        | 12/90 [00:04<00:31,  2.46it/s]\u001b[A\n",
      " 14%|█▍        | 13/90 [00:05<00:31,  2.44it/s]\u001b[A\n",
      " 16%|█▌        | 14/90 [00:05<00:32,  2.37it/s]\u001b[A\n",
      " 17%|█▋        | 15/90 [00:06<00:31,  2.40it/s]\u001b[A\n",
      " 18%|█▊        | 16/90 [00:06<00:30,  2.41it/s]\u001b[A\n",
      " 19%|█▉        | 17/90 [00:06<00:30,  2.42it/s]\u001b[A\n",
      " 20%|██        | 18/90 [00:07<00:29,  2.44it/s]\u001b[A\n",
      " 21%|██        | 19/90 [00:07<00:29,  2.44it/s]\u001b[A\n",
      " 22%|██▏       | 20/90 [00:08<00:28,  2.43it/s]\u001b[A\n",
      " 23%|██▎       | 21/90 [00:08<00:28,  2.44it/s]\u001b[A\n",
      " 24%|██▍       | 22/90 [00:09<00:28,  2.41it/s]\u001b[A\n",
      " 26%|██▌       | 23/90 [00:09<00:27,  2.43it/s]\u001b[A\n",
      " 27%|██▋       | 24/90 [00:09<00:27,  2.44it/s]\u001b[A\n",
      " 28%|██▊       | 25/90 [00:10<00:27,  2.38it/s]\u001b[A\n",
      " 29%|██▉       | 26/90 [00:10<00:28,  2.27it/s]\u001b[A\n",
      " 30%|███       | 27/90 [00:11<00:27,  2.30it/s]\u001b[A\n",
      " 31%|███       | 28/90 [00:11<00:26,  2.33it/s]\u001b[A\n",
      " 32%|███▏      | 29/90 [00:12<00:25,  2.35it/s]\u001b[A\n",
      " 33%|███▎      | 30/90 [00:12<00:25,  2.38it/s]\u001b[A\n",
      " 34%|███▍      | 31/90 [00:12<00:24,  2.40it/s]\u001b[A\n",
      " 36%|███▌      | 32/90 [00:13<00:23,  2.43it/s]\u001b[A\n",
      " 37%|███▋      | 33/90 [00:13<00:23,  2.44it/s]\u001b[A\n",
      " 38%|███▊      | 34/90 [00:14<00:22,  2.45it/s]\u001b[A\n",
      " 39%|███▉      | 35/90 [00:14<00:22,  2.46it/s]\u001b[A\n",
      " 40%|████      | 36/90 [00:14<00:21,  2.47it/s]\u001b[A\n",
      " 41%|████      | 37/90 [00:15<00:21,  2.47it/s]\u001b[A\n",
      " 42%|████▏     | 38/90 [00:15<00:21,  2.47it/s]\u001b[A\n",
      " 43%|████▎     | 39/90 [00:16<00:21,  2.43it/s]\u001b[A\n",
      " 44%|████▍     | 40/90 [00:16<00:20,  2.44it/s]\u001b[A\n",
      " 46%|████▌     | 41/90 [00:16<00:19,  2.46it/s]\u001b[A\n",
      " 47%|████▋     | 42/90 [00:17<00:19,  2.46it/s]\u001b[A\n",
      " 48%|████▊     | 43/90 [00:17<00:19,  2.47it/s]\u001b[A\n",
      " 49%|████▉     | 44/90 [00:18<00:18,  2.47it/s]\u001b[A\n",
      " 50%|█████     | 45/90 [00:18<00:18,  2.47it/s]\u001b[A\n",
      " 51%|█████     | 46/90 [00:18<00:17,  2.48it/s]\u001b[A\n",
      " 52%|█████▏    | 47/90 [00:19<00:17,  2.48it/s]\u001b[A\n",
      " 53%|█████▎    | 48/90 [00:19<00:16,  2.48it/s]\u001b[A\n",
      " 54%|█████▍    | 49/90 [00:20<00:16,  2.47it/s]\u001b[A\n",
      " 56%|█████▌    | 50/90 [00:20<00:16,  2.47it/s]\u001b[A\n",
      " 57%|█████▋    | 51/90 [00:20<00:15,  2.46it/s]\u001b[A\n",
      " 58%|█████▊    | 52/90 [00:21<00:15,  2.46it/s]\u001b[A\n",
      " 59%|█████▉    | 53/90 [00:21<00:14,  2.47it/s]\u001b[A\n",
      " 60%|██████    | 54/90 [00:22<00:14,  2.47it/s]\u001b[A\n",
      " 61%|██████    | 55/90 [00:22<00:14,  2.47it/s]\u001b[A\n",
      " 62%|██████▏   | 56/90 [00:22<00:13,  2.47it/s]\u001b[A\n",
      " 63%|██████▎   | 57/90 [00:23<00:13,  2.48it/s]\u001b[A\n",
      " 64%|██████▍   | 58/90 [00:23<00:12,  2.48it/s]\u001b[A\n",
      " 66%|██████▌   | 59/90 [00:24<00:12,  2.48it/s]\u001b[A\n",
      " 67%|██████▋   | 60/90 [00:24<00:12,  2.48it/s]\u001b[A\n",
      " 68%|██████▊   | 61/90 [00:24<00:11,  2.48it/s]\u001b[A\n",
      " 69%|██████▉   | 62/90 [00:25<00:11,  2.48it/s]\u001b[A\n",
      " 70%|███████   | 63/90 [00:25<00:10,  2.48it/s]\u001b[A\n",
      " 71%|███████   | 64/90 [00:26<00:10,  2.48it/s]\u001b[A\n",
      " 72%|███████▏  | 65/90 [00:26<00:10,  2.47it/s]\u001b[A\n",
      " 73%|███████▎  | 66/90 [00:27<00:09,  2.47it/s]\u001b[A\n",
      " 74%|███████▍  | 67/90 [00:27<00:09,  2.47it/s]\u001b[A\n",
      " 76%|███████▌  | 68/90 [00:27<00:08,  2.47it/s]\u001b[A\n",
      " 77%|███████▋  | 69/90 [00:28<00:08,  2.47it/s]\u001b[A\n",
      " 78%|███████▊  | 70/90 [00:28<00:08,  2.47it/s]\u001b[A\n",
      " 79%|███████▉  | 71/90 [00:29<00:07,  2.47it/s]\u001b[A\n",
      " 80%|████████  | 72/90 [00:29<00:07,  2.47it/s]\u001b[A\n",
      " 81%|████████  | 73/90 [00:29<00:07,  2.39it/s]\u001b[A\n",
      " 82%|████████▏ | 74/90 [00:30<00:06,  2.42it/s]\u001b[A\n",
      " 83%|████████▎ | 75/90 [00:30<00:06,  2.44it/s]\u001b[A\n",
      " 84%|████████▍ | 76/90 [00:31<00:05,  2.45it/s]\u001b[A\n",
      " 86%|████████▌ | 77/90 [00:31<00:05,  2.46it/s]\u001b[A\n",
      " 87%|████████▋ | 78/90 [00:31<00:04,  2.46it/s]\u001b[A\n",
      " 88%|████████▊ | 79/90 [00:32<00:04,  2.47it/s]\u001b[A\n",
      " 89%|████████▉ | 80/90 [00:32<00:04,  2.47it/s]\u001b[A\n",
      " 90%|█████████ | 81/90 [00:33<00:03,  2.43it/s]\u001b[A\n",
      " 91%|█████████ | 82/90 [00:33<00:03,  2.34it/s]\u001b[A\n",
      " 92%|█████████▏| 83/90 [00:34<00:03,  2.28it/s]\u001b[A\n",
      " 93%|█████████▎| 84/90 [00:34<00:02,  2.32it/s]\u001b[A\n",
      " 94%|█████████▍| 85/90 [00:34<00:02,  2.36it/s]\u001b[A\n",
      " 96%|█████████▌| 86/90 [00:35<00:01,  2.39it/s]\u001b[A\n",
      " 97%|█████████▋| 87/90 [00:35<00:01,  2.41it/s]\u001b[A\n",
      " 98%|█████████▊| 88/90 [00:36<00:00,  2.43it/s]\u001b[A\n",
      " 99%|█████████▉| 89/90 [00:36<00:00,  2.45it/s]\u001b[A\n",
      "100%|██████████| 90/90 [00:36<00:00,  2.44it/s]\u001b[A\n"
     ]
    }
   ],
   "source": [
    "z_us = []\n",
    "z_stds = []\n",
    "truths = []\n",
    "for batch in tqdm(loader):\n",
    "    observed = batch['observed_data']\n",
    "    true = batch['data_to_predict']\n",
    "    truths.append(true)\n",
    "    mask = batch['observed_mask']\n",
    "    x = torch.cat((observed, mask), -1)\n",
    "    t = batch['observed_tp']\n",
    "    z_u, z_std = model.encoder_z0.forward(x, t)\n",
    "#     z_u = z_u.squeeze()\n",
    "#     z_u = z_u.detach().cpu().numpy()\n",
    "    z_us.append(z_u)\n",
    "    z_stds.append(z_std)"
   ]
  },
  {
   "cell_type": "code",
   "execution_count": 95,
   "metadata": {},
   "outputs": [],
   "source": [
    "z_us = torch.cat(z_us)\n",
    "z_stds = torch.cat(z_stds)\n",
    "truths = torch.cat(truths)"
   ]
  },
  {
   "cell_type": "code",
   "execution_count": 96,
   "metadata": {},
   "outputs": [
    {
     "data": {
      "text/plain": [
       "torch.Size([90, 1, 30])"
      ]
     },
     "execution_count": 96,
     "metadata": {},
     "output_type": "execute_result"
    }
   ],
   "source": [
    "z_us.shape"
   ]
  },
  {
   "cell_type": "code",
   "execution_count": 97,
   "metadata": {},
   "outputs": [],
   "source": [
    "ix = 8"
   ]
  },
  {
   "cell_type": "code",
   "execution_count": 98,
   "metadata": {},
   "outputs": [],
   "source": [
    "u = z_us[ix]\n",
    "std = z_stds[ix]"
   ]
  },
  {
   "cell_type": "code",
   "execution_count": 99,
   "metadata": {},
   "outputs": [],
   "source": [
    "def sample(z, t):\n",
    "    sol_y = model.diffeq_solver.sample_traj_from_prior(z, t, n_traj_samples = 3)\n",
    "    out = model.decoder(sol_y)\n",
    "    return out"
   ]
  },
  {
   "cell_type": "code",
   "execution_count": 100,
   "metadata": {},
   "outputs": [],
   "source": [
    "t = batch['tp_to_predict']"
   ]
  },
  {
   "cell_type": "code",
   "execution_count": 101,
   "metadata": {},
   "outputs": [],
   "source": [
    "out = sample(u.unsqueeze(0), t)"
   ]
  },
  {
   "cell_type": "code",
   "execution_count": 102,
   "metadata": {},
   "outputs": [],
   "source": [
    "out = out.squeeze()"
   ]
  },
  {
   "cell_type": "code",
   "execution_count": 103,
   "metadata": {},
   "outputs": [
    {
     "data": {
      "text/plain": [
       "tensor(0.8699, device='cuda:0', grad_fn=<MinBackward1>)"
      ]
     },
     "execution_count": 103,
     "metadata": {},
     "output_type": "execute_result"
    }
   ],
   "source": [
    "out.min()"
   ]
  },
  {
   "cell_type": "code",
   "execution_count": 104,
   "metadata": {},
   "outputs": [],
   "source": [
    "t = t.detach().cpu().numpy()\n",
    "out = out.detach().cpu().numpy()"
   ]
  },
  {
   "cell_type": "code",
   "execution_count": 105,
   "metadata": {},
   "outputs": [
    {
     "data": {
      "text/plain": [
       "<matplotlib.axes._subplots.AxesSubplot at 0x7f8aa1bb3860>"
      ]
     },
     "execution_count": 105,
     "metadata": {},
     "output_type": "execute_result"
    },
    {
     "data": {
      "image/png": "[encoded data removed]",
      "text/plain": [
       "<Figure size 432x288 with 1 Axes>"
      ]
     },
     "metadata": {
      "needs_background": "light"
     },
     "output_type": "display_data"
    }
   ],
   "source": [
    "sns.lineplot(x=t, y=out)"
   ]
  },
  {
   "cell_type": "code",
   "execution_count": 106,
   "metadata": {},
   "outputs": [
    {
     "data": {
      "text/plain": [
       "<matplotlib.axes._subplots.AxesSubplot at 0x7f8aa1a8b320>"
      ]
     },
     "execution_count": 106,
     "metadata": {},
     "output_type": "execute_result"
    },
    {
     "data": {
      "image/png": "[encoded data removed]",
      "text/plain": [
       "<Figure size 432x288 with 1 Axes>"
      ]
     },
     "metadata": {
      "needs_background": "light"
     },
     "output_type": "display_data"
    }
   ],
   "source": [
    "sns.lineplot(x=t, y=truths[ix].squeeze().detach().cpu().numpy())"
   ]
  },
  {
   "cell_type": "code",
   "execution_count": null,
   "metadata": {},
   "outputs": [],
   "source": []
  },
  {
   "cell_type": "markdown",
   "metadata": {},
   "source": [
    "### TSNE"
   ]
  },
  {
   "cell_type": "code",
   "execution_count": 107,
   "metadata": {},
   "outputs": [],
   "source": [
    "from sklearn.manifold import TSNE"
   ]
  },
  {
   "cell_type": "code",
   "execution_count": 108,
   "metadata": {},
   "outputs": [
    {
     "data": {
      "text/plain": [
       "torch.Size([90, 1, 30])"
      ]
     },
     "execution_count": 108,
     "metadata": {},
     "output_type": "execute_result"
    }
   ],
   "source": [
    "z_us.shape"
   ]
  },
  {
   "cell_type": "code",
   "execution_count": 109,
   "metadata": {},
   "outputs": [],
   "source": [
    "latents = z_us.squeeze().detach().cpu().numpy()"
   ]
  },
  {
   "cell_type": "code",
   "execution_count": 110,
   "metadata": {},
   "outputs": [
    {
     "data": {
      "text/plain": [
       "(90, 30)"
      ]
     },
     "execution_count": 110,
     "metadata": {},
     "output_type": "execute_result"
    }
   ],
   "source": [
    "latents.shape"
   ]
  },
  {
   "cell_type": "code",
   "execution_count": 114,
   "metadata": {},
   "outputs": [],
   "source": [
    "tsne = TSNE(perplexity=30)"
   ]
  },
  {
   "cell_type": "code",
   "execution_count": 115,
   "metadata": {},
   "outputs": [],
   "source": [
    "xx = tsne.fit_transform(latents)"
   ]
  },
  {
   "cell_type": "code",
   "execution_count": null,
   "metadata": {},
   "outputs": [],
   "source": []
  },
  {
   "cell_type": "code",
   "execution_count": 116,
   "metadata": {},
   "outputs": [
    {
     "data": {
      "text/plain": [
       "<matplotlib.axes._subplots.AxesSubplot at 0x7f8aa15284a8>"
      ]
     },
     "execution_count": 116,
     "metadata": {},
     "output_type": "execute_result"
    },
    {
     "data": {
      "image/png": "[encoded data removed]",
      "text/plain": [
       "<Figure size 432x288 with 1 Axes>"
      ]
     },
     "metadata": {
      "needs_background": "light"
     },
     "output_type": "display_data"
    }
   ],
   "source": [
    "sns.scatterplot(x=xx[:,0], y=xx[:,1])"
   ]
  },
  {
   "cell_type": "code",
   "execution_count": null,
   "metadata": {},
   "outputs": [],
   "source": []
  },
  {
   "cell_type": "code",
   "execution_count": null,
   "metadata": {},
   "outputs": [],
   "source": []
  }
 ],
 "metadata": {
  "kernelspec": {
   "display_name": "Python 3",
   "language": "python",
   "name": "python3"
  },
  "language_info": {
   "codemirror_mode": {
    "name": "ipython",
    "version": 3
   },
   "file_extension": ".py",
   "mimetype": "text/x-python",
   "name": "python",
   "nbconvert_exporter": "python",
   "pygments_lexer": "ipython3",
   "version": "3.7.3"
  }
 },
 "nbformat": 4,
 "nbformat_minor": 2
}
