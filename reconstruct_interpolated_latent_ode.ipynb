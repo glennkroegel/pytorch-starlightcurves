{
 "cells": [
  {
   "cell_type": "code",
   "execution_count": 1,
   "metadata": {},
   "outputs": [],
   "source": [
    "import pandas as pd\n",
    "import astropy as ap\n",
    "import numpy as np\n",
    "import matplotlib.pyplot as plt \n",
    "import seaborn as sns\n",
    "# from astropy.io import fits\n",
    "import pdb\n",
    "from scipy.ndimage.filters import maximum_filter1d\n",
    "import glob\n",
    "import fitsio as fits\n",
    "import torch\n",
    "import torch.nn as nn\n",
    "import torch.nn.functional as F\n",
    "import torch.utils.data as data_utils\n",
    "from torch.nn.utils import clip_grad_norm_\n",
    "from torch.nn.utils.rnn import pack_padded_sequence, pad_packed_sequence, pad_sequence\n",
    "from torch.distributions.normal import Normal\n",
    "from tqdm import tqdm"
   ]
  },
  {
   "cell_type": "code",
   "execution_count": 2,
   "metadata": {},
   "outputs": [],
   "source": [
    "import sys\n",
    "sys.path.insert(0, '../')\n",
    "sys.path.insert(1, '../latent_ode/')\n",
    "import latent_ode.lib as ode\n",
    "import latent_ode.lib.utils as utils\n",
    "from latent_ode.lib.latent_ode import LatentODE\n",
    "from latent_ode.lib.encoder_decoder import Encoder_z0_ODE_RNN, Decoder\n",
    "from latent_ode.lib.diffeq_solver import DiffeqSolver\n",
    "from latent_ode.lib.ode_func import ODEFunc"
   ]
  },
  {
   "cell_type": "code",
   "execution_count": 3,
   "metadata": {},
   "outputs": [],
   "source": [
    "from latent_rnn import create_LatentODE_model"
   ]
  },
  {
   "cell_type": "code",
   "execution_count": 4,
   "metadata": {},
   "outputs": [],
   "source": [
    "device = torch.device(\"cuda\" if torch.cuda.is_available() else \"cpu\")"
   ]
  },
  {
   "cell_type": "markdown",
   "metadata": {},
   "source": [
    "## Loading"
   ]
  },
  {
   "cell_type": "code",
   "execution_count": 5,
   "metadata": {},
   "outputs": [],
   "source": [
    "obsrv_std = torch.Tensor([0.01]).to(device)\n",
    "z0_prior = Normal(torch.Tensor([0.0]).to(device), torch.Tensor([1.]).to(device))\n",
    "input_dim = 1\n",
    "model = create_LatentODE_model(input_dim, z0_prior, obsrv_std)"
   ]
  },
  {
   "cell_type": "code",
   "execution_count": 6,
   "metadata": {},
   "outputs": [],
   "source": [
    "state = torch.load('latent_ode_state.pth.tar')"
   ]
  },
  {
   "cell_type": "code",
   "execution_count": 7,
   "metadata": {},
   "outputs": [
    {
     "data": {
      "text/plain": [
       "<All keys matched successfully>"
      ]
     },
     "execution_count": 7,
     "metadata": {},
     "output_type": "execute_result"
    }
   ],
   "source": [
    "model.load_state_dict(state['state_dict'])"
   ]
  },
  {
   "cell_type": "code",
   "execution_count": 8,
   "metadata": {},
   "outputs": [
    {
     "data": {
      "text/plain": [
       "LatentODE(\n",
       "  (encoder_z0): Encoder_z0_ODE_RNN(\n",
       "    (GRU_update): GRU_unit(\n",
       "      (update_gate): Sequential(\n",
       "        (0): Linear(in_features=42, out_features=100, bias=True)\n",
       "        (1): Tanh()\n",
       "        (2): Linear(in_features=100, out_features=20, bias=True)\n",
       "        (3): Sigmoid()\n",
       "      )\n",
       "      (reset_gate): Sequential(\n",
       "        (0): Linear(in_features=42, out_features=100, bias=True)\n",
       "        (1): Tanh()\n",
       "        (2): Linear(in_features=100, out_features=20, bias=True)\n",
       "        (3): Sigmoid()\n",
       "      )\n",
       "      (new_state_net): Sequential(\n",
       "        (0): Linear(in_features=42, out_features=100, bias=True)\n",
       "        (1): Tanh()\n",
       "        (2): Linear(in_features=100, out_features=40, bias=True)\n",
       "      )\n",
       "    )\n",
       "    (z0_diffeq_solver): DiffeqSolver(\n",
       "      (ode_func): ODEFunc(\n",
       "        (gradient_net): Sequential(\n",
       "          (0): Linear(in_features=20, out_features=100, bias=True)\n",
       "          (1): Tanh()\n",
       "          (2): Linear(in_features=100, out_features=100, bias=True)\n",
       "          (3): Tanh()\n",
       "          (4): Linear(in_features=100, out_features=100, bias=True)\n",
       "          (5): Tanh()\n",
       "          (6): Linear(in_features=100, out_features=20, bias=True)\n",
       "        )\n",
       "      )\n",
       "    )\n",
       "    (transform_z0): Sequential(\n",
       "      (0): Linear(in_features=40, out_features=100, bias=True)\n",
       "      (1): Tanh()\n",
       "      (2): Linear(in_features=100, out_features=20, bias=True)\n",
       "    )\n",
       "  )\n",
       "  (diffeq_solver): DiffeqSolver(\n",
       "    (ode_func): ODEFunc(\n",
       "      (gradient_net): Sequential(\n",
       "        (0): Linear(in_features=10, out_features=100, bias=True)\n",
       "        (1): Tanh()\n",
       "        (2): Linear(in_features=100, out_features=100, bias=True)\n",
       "        (3): Tanh()\n",
       "        (4): Linear(in_features=100, out_features=100, bias=True)\n",
       "        (5): Tanh()\n",
       "        (6): Linear(in_features=100, out_features=10, bias=True)\n",
       "      )\n",
       "    )\n",
       "  )\n",
       "  (decoder): Decoder(\n",
       "    (decoder): Sequential(\n",
       "      (0): Linear(in_features=10, out_features=1, bias=True)\n",
       "    )\n",
       "  )\n",
       ")"
      ]
     },
     "execution_count": 8,
     "metadata": {},
     "output_type": "execute_result"
    }
   ],
   "source": [
    "model.eval()"
   ]
  },
  {
   "cell_type": "code",
   "execution_count": 9,
   "metadata": {},
   "outputs": [],
   "source": [
    "loader = torch.load('tess_train.pt')"
   ]
  },
  {
   "cell_type": "markdown",
   "metadata": {},
   "source": [
    "## Inference"
   ]
  },
  {
   "cell_type": "code",
   "execution_count": 10,
   "metadata": {},
   "outputs": [
    {
     "name": "stderr",
     "output_type": "stream",
     "text": [
      "100%|██████████| 17/17 [00:06<00:00,  2.83it/s]\n"
     ]
    }
   ],
   "source": [
    "z_us = []\n",
    "z_stds = []\n",
    "truths = []\n",
    "for batch in tqdm(loader):\n",
    "    observed = batch['observed_data']\n",
    "    true = batch['data_to_predict']\n",
    "    truths.append(true)\n",
    "    mask = batch['observed_mask']\n",
    "    x = torch.cat((observed, mask), -1)\n",
    "    t = batch['observed_tp']\n",
    "    z_u, z_std = model.encoder_z0.forward(x, t)\n",
    "#     z_u = z_u.squeeze()\n",
    "#     z_u = z_u.detach().cpu().numpy()\n",
    "    z_us.append(z_u.squeeze())\n",
    "    z_stds.append(z_std.squeeze())"
   ]
  },
  {
   "cell_type": "code",
   "execution_count": 11,
   "metadata": {},
   "outputs": [],
   "source": [
    "z_us = torch.cat(z_us)\n",
    "z_stds = torch.cat(z_stds)\n",
    "truths = torch.cat(truths)"
   ]
  },
  {
   "cell_type": "code",
   "execution_count": null,
   "metadata": {},
   "outputs": [],
   "source": []
  },
  {
   "cell_type": "code",
   "execution_count": 12,
   "metadata": {},
   "outputs": [],
   "source": [
    "ix = 5"
   ]
  },
  {
   "cell_type": "code",
   "execution_count": 13,
   "metadata": {},
   "outputs": [],
   "source": [
    "u = z_us[ix]\n",
    "std = z_stds[ix]"
   ]
  },
  {
   "cell_type": "code",
   "execution_count": 14,
   "metadata": {},
   "outputs": [],
   "source": [
    "def sample(z, t):\n",
    "    sol_y = model.diffeq_solver.sample_traj_from_prior(z, t, n_traj_samples = 3)\n",
    "    out = model.decoder(sol_y)\n",
    "    return out"
   ]
  },
  {
   "cell_type": "code",
   "execution_count": 15,
   "metadata": {},
   "outputs": [],
   "source": [
    "t = batch['tp_to_predict']"
   ]
  },
  {
   "cell_type": "code",
   "execution_count": 16,
   "metadata": {},
   "outputs": [],
   "source": [
    "out = sample(u.unsqueeze(0).unsqueeze(0), t)"
   ]
  },
  {
   "cell_type": "code",
   "execution_count": 17,
   "metadata": {},
   "outputs": [],
   "source": [
    "out = out.squeeze()"
   ]
  },
  {
   "cell_type": "code",
   "execution_count": 18,
   "metadata": {},
   "outputs": [
    {
     "data": {
      "text/plain": [
       "tensor(0.9091, grad_fn=<MinBackward1>)"
      ]
     },
     "execution_count": 18,
     "metadata": {},
     "output_type": "execute_result"
    }
   ],
   "source": [
    "out.min()"
   ]
  },
  {
   "cell_type": "code",
   "execution_count": 19,
   "metadata": {},
   "outputs": [],
   "source": [
    "t = t.detach().cpu().numpy()\n",
    "out = out.detach().cpu().numpy()"
   ]
  },
  {
   "cell_type": "code",
   "execution_count": 20,
   "metadata": {},
   "outputs": [
    {
     "data": {
      "text/plain": [
       "<matplotlib.axes._subplots.AxesSubplot at 0x7f1304adcc88>"
      ]
     },
     "execution_count": 20,
     "metadata": {},
     "output_type": "execute_result"
    },
    {
     "data": {
      "image/png": "[encoded data removed]",
      "text/plain": [
       "<Figure size 432x288 with 1 Axes>"
      ]
     },
     "metadata": {
      "needs_background": "light"
     },
     "output_type": "display_data"
    }
   ],
   "source": [
    "sns.lineplot(x=t, y=out)"
   ]
  },
  {
   "cell_type": "code",
   "execution_count": 21,
   "metadata": {},
   "outputs": [
    {
     "data": {
      "text/plain": [
       "<matplotlib.axes._subplots.AxesSubplot at 0x7f1290476898>"
      ]
     },
     "execution_count": 21,
     "metadata": {},
     "output_type": "execute_result"
    },
    {
     "data": {
      "image/png": "[encoded data removed]",
      "text/plain": [
       "<Figure size 432x288 with 1 Axes>"
      ]
     },
     "metadata": {
      "needs_background": "light"
     },
     "output_type": "display_data"
    }
   ],
   "source": [
    "sns.lineplot(x=t, y=truths[ix].squeeze().detach().cpu().numpy())"
   ]
  },
  {
   "cell_type": "code",
   "execution_count": null,
   "metadata": {},
   "outputs": [],
   "source": []
  },
  {
   "cell_type": "code",
   "execution_count": null,
   "metadata": {},
   "outputs": [],
   "source": []
  },
  {
   "cell_type": "code",
   "execution_count": null,
   "metadata": {},
   "outputs": [],
   "source": []
  }
 ],
 "metadata": {
  "kernelspec": {
   "display_name": "Python 3",
   "language": "python",
   "name": "python3"
  },
  "language_info": {
   "codemirror_mode": {
    "name": "ipython",
    "version": 3
   },
   "file_extension": ".py",
   "mimetype": "text/x-python",
   "name": "python",
   "nbconvert_exporter": "python",
   "pygments_lexer": "ipython3",
   "version": "3.6.8"
  }
 },
 "nbformat": 4,
 "nbformat_minor": 2
}
