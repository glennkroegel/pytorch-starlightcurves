{
 "cells": [
  {
   "cell_type": "code",
   "execution_count": 1,
   "metadata": {},
   "outputs": [],
   "source": [
    "import torch\n",
    "import pandas as pd\n",
    "import astropy as ap\n",
    "import numpy as np\n",
    "import matplotlib.pyplot as plt \n",
    "import seaborn as sns\n",
    "# from astropy.io import fits\n",
    "import pdb\n",
    "from scipy.ndimage.filters import maximum_filter1d\n",
    "import glob\n",
    "import fitsio as fits\n",
    "import torch\n",
    "import torch.nn as nn\n",
    "import torch.nn.functional as F\n",
    "import torch.utils.data as data_utils\n",
    "from torch.nn.utils import clip_grad_norm_\n",
    "from torch.nn.utils.rnn import pack_padded_sequence, pad_packed_sequence, pad_sequence\n",
    "from torch.distributions.normal import Normal\n",
    "from tqdm import tqdm"
   ]
  },
  {
   "cell_type": "code",
   "execution_count": 2,
   "metadata": {},
   "outputs": [],
   "source": [
    "import sys\n",
    "sys.path.insert(0, '../')\n",
    "sys.path.insert(1, '../latent_ode/')\n",
    "import latent_ode.lib as ode\n",
    "import latent_ode.lib.utils as utils\n",
    "from latent_ode.lib.latent_ode import LatentODE\n",
    "from latent_ode.lib.encoder_decoder import Encoder_z0_ODE_RNN, Decoder\n",
    "from latent_ode.lib.diffeq_solver import DiffeqSolver\n",
    "from latent_ode.lib.ode_func import ODEFunc"
   ]
  },
  {
   "cell_type": "code",
   "execution_count": 3,
   "metadata": {},
   "outputs": [],
   "source": [
    "from latent_rnn import create_LatentODE_model"
   ]
  },
  {
   "cell_type": "code",
   "execution_count": 4,
   "metadata": {},
   "outputs": [],
   "source": [
    "device = torch.device(\"cuda\" if torch.cuda.is_available() else \"cpu\")"
   ]
  },
  {
   "cell_type": "markdown",
   "metadata": {},
   "source": [
    "## Loading"
   ]
  },
  {
   "cell_type": "code",
   "execution_count": 5,
   "metadata": {},
   "outputs": [],
   "source": [
    "obsrv_std = torch.Tensor([0.01]).to(device)\n",
    "z0_prior = Normal(torch.Tensor([0.0]).to(device), torch.Tensor([1.]).to(device))\n",
    "input_dim = 1\n",
    "model = create_LatentODE_model(input_dim, z0_prior, obsrv_std)"
   ]
  },
  {
   "cell_type": "code",
   "execution_count": 6,
   "metadata": {},
   "outputs": [],
   "source": [
    "# state = torch.load('latent_ode_state.pth.tar')\n",
    "state = torch.load('latent_ode_state.pth.tar', map_location=torch.device('cpu'))"
   ]
  },
  {
   "cell_type": "code",
   "execution_count": 7,
   "metadata": {},
   "outputs": [
    {
     "data": {
      "text/plain": [
       "<All keys matched successfully>"
      ]
     },
     "execution_count": 7,
     "metadata": {},
     "output_type": "execute_result"
    }
   ],
   "source": [
    "model.load_state_dict(state['state_dict'])"
   ]
  },
  {
   "cell_type": "code",
   "execution_count": 8,
   "metadata": {},
   "outputs": [
    {
     "data": {
      "text/plain": [
       "LatentODE(\n",
       "  (encoder_z0): Encoder_z0_ODE_RNN(\n",
       "    (GRU_update): GRU_unit(\n",
       "      (update_gate): Sequential(\n",
       "        (0): Linear(in_features=102, out_features=100, bias=True)\n",
       "        (1): Tanh()\n",
       "        (2): Linear(in_features=100, out_features=50, bias=True)\n",
       "        (3): Sigmoid()\n",
       "      )\n",
       "      (reset_gate): Sequential(\n",
       "        (0): Linear(in_features=102, out_features=100, bias=True)\n",
       "        (1): Tanh()\n",
       "        (2): Linear(in_features=100, out_features=50, bias=True)\n",
       "        (3): Sigmoid()\n",
       "      )\n",
       "      (new_state_net): Sequential(\n",
       "        (0): Linear(in_features=102, out_features=100, bias=True)\n",
       "        (1): Tanh()\n",
       "        (2): Linear(in_features=100, out_features=100, bias=True)\n",
       "      )\n",
       "    )\n",
       "    (z0_diffeq_solver): DiffeqSolver(\n",
       "      (ode_func): ODEFunc(\n",
       "        (gradient_net): Sequential(\n",
       "          (0): Linear(in_features=50, out_features=100, bias=True)\n",
       "          (1): Tanh()\n",
       "          (2): Linear(in_features=100, out_features=100, bias=True)\n",
       "          (3): Tanh()\n",
       "          (4): Linear(in_features=100, out_features=100, bias=True)\n",
       "          (5): Tanh()\n",
       "          (6): Linear(in_features=100, out_features=50, bias=True)\n",
       "        )\n",
       "      )\n",
       "    )\n",
       "    (transform_z0): Sequential(\n",
       "      (0): Linear(in_features=100, out_features=100, bias=True)\n",
       "      (1): Tanh()\n",
       "      (2): Linear(in_features=100, out_features=60, bias=True)\n",
       "    )\n",
       "  )\n",
       "  (diffeq_solver): DiffeqSolver(\n",
       "    (ode_func): ODEFunc(\n",
       "      (gradient_net): Sequential(\n",
       "        (0): Linear(in_features=30, out_features=100, bias=True)\n",
       "        (1): Tanh()\n",
       "        (2): Linear(in_features=100, out_features=100, bias=True)\n",
       "        (3): Tanh()\n",
       "        (4): Linear(in_features=100, out_features=100, bias=True)\n",
       "        (5): Tanh()\n",
       "        (6): Linear(in_features=100, out_features=30, bias=True)\n",
       "      )\n",
       "    )\n",
       "  )\n",
       "  (decoder): Decoder(\n",
       "    (decoder): Sequential(\n",
       "      (0): Linear(in_features=30, out_features=1, bias=True)\n",
       "    )\n",
       "  )\n",
       ")"
      ]
     },
     "execution_count": 8,
     "metadata": {},
     "output_type": "execute_result"
    }
   ],
   "source": [
    "model.eval()"
   ]
  },
  {
   "cell_type": "code",
   "execution_count": 9,
   "metadata": {},
   "outputs": [],
   "source": [
    "loader = torch.load('gaia_train.pt')"
   ]
  },
  {
   "cell_type": "markdown",
   "metadata": {},
   "source": [
    "## Inference"
   ]
  },
  {
   "cell_type": "code",
   "execution_count": 10,
   "metadata": {},
   "outputs": [
    {
     "name": "stderr",
     "output_type": "stream",
     "text": [
      "100%|██████████| 5/5 [00:07<00:00,  1.55s/it]\n"
     ]
    }
   ],
   "source": [
    "z_us = []\n",
    "z_stds = []\n",
    "truths = []\n",
    "ts = []\n",
    "recs = []\n",
    "for batch in tqdm(loader):\n",
    "    observed = batch['observed_data']\n",
    "    true = batch['data_to_predict']\n",
    "    truths.append(true)\n",
    "    mask = batch['observed_mask']\n",
    "    mask_pred = batch['mask_predicted_data']\n",
    "    mask_pred = torch.ones(mask.shape)\n",
    "    x = torch.cat((observed, mask), -1)\n",
    "    x2 = torch.cat((true, mask_pred), -1)\n",
    "    t = batch['observed_tp']\n",
    "    ts.append(t)\n",
    "    z_u, z_std = model.encoder_z0.forward(x, t)\n",
    "    rec = model.get_reconstruction(time_steps_to_predict=t, truth=x, truth_time_steps=t)\n",
    "    recs.append(rec[0])\n",
    "#     z_u = z_u.squeeze()\n",
    "#     z_u = z_u.detach().cpu().numpy()\n",
    "    z_us.append(z_u)\n",
    "    z_stds.append(z_std)"
   ]
  },
  {
   "cell_type": "code",
   "execution_count": 11,
   "metadata": {},
   "outputs": [],
   "source": [
    "z_us = torch.cat(z_us,1).squeeze()\n",
    "z_stds = torch.cat(z_stds,1).squeeze()\n",
    "truths = torch.cat(truths,0).squeeze()"
   ]
  },
  {
   "cell_type": "code",
   "execution_count": 12,
   "metadata": {},
   "outputs": [
    {
     "data": {
      "text/plain": [
       "tensor([2209.8501, 2209.9299, 2210.1001, 2210.1799, 2210.3501, 2210.4299,\n",
       "        2210.6001, 2210.6799, 2210.8501, 2210.9299, 2211.1001, 2211.1799,\n",
       "        2211.3501, 2211.4299, 2211.6001, 2211.6799, 2211.8501, 2211.9299,\n",
       "        2212.1001, 2212.1799, 2212.3501, 2212.4299, 2212.6001, 2212.6799,\n",
       "        2212.8501, 2212.9299, 2213.1001, 2213.1799, 2213.3501, 2213.3601,\n",
       "        2213.4299, 2213.6001, 2213.6101, 2213.6799, 2213.8501, 2213.8601,\n",
       "        2213.9299, 2214.1001, 2214.1101, 2214.1799, 2214.3501, 2214.3601,\n",
       "        2214.4299, 2214.6001, 2214.6101, 2214.6799, 2214.8501, 2214.8601,\n",
       "        2214.9299, 2215.1001, 2215.1101, 2215.1799, 2215.3501, 2215.3601,\n",
       "        2215.4299, 2215.6001, 2215.6101, 2215.6799, 2215.8501, 2215.8601,\n",
       "        2215.9299, 2216.1001, 2216.1101, 2216.1799, 2216.1899, 2216.3501,\n",
       "        2216.3601, 2216.4299, 2216.4399, 2216.6001, 2216.6101, 2216.6799,\n",
       "        2216.6899, 2216.8501, 2216.8601, 2216.9299, 2216.9399, 2217.1001,\n",
       "        2217.1101, 2217.1799, 2217.1899, 2217.3501, 2217.3601, 2217.4299,\n",
       "        2217.4399, 2217.6001, 2217.6101, 2217.6799, 2217.6899, 2217.8501,\n",
       "        2217.8601, 2217.9299, 2217.9399, 2218.1001, 2218.1101, 2218.1799,\n",
       "        2218.1899, 2218.3501, 2218.3601, 2218.4299, 2218.4399, 2218.6101,\n",
       "        2218.6799, 2218.8601, 2218.9299, 2219.1101, 2219.1799, 2219.3601,\n",
       "        2219.4299, 2219.6101, 2219.8601, 2219.9299, 2220.1101, 2220.1799,\n",
       "        2220.3601, 2220.4299, 2220.6799, 2256.8899, 2257.0701, 2257.1399,\n",
       "        2257.1499, 2257.3201, 2257.3899, 2257.3999, 2257.5701, 2257.6399,\n",
       "        2257.6499, 2257.8201, 2257.8899, 2257.8999, 2258.0701, 2258.1399,\n",
       "        2258.1499, 2258.3201, 2258.3999, 2258.5701, 2258.6399, 2258.6499,\n",
       "        2258.8201, 2258.8899, 2258.8999, 2259.0701, 2259.1399, 2259.1499,\n",
       "        2259.3201, 2259.3999, 2259.5701, 2260.3201, 2260.3999, 2260.5701,\n",
       "        2260.6499, 2260.8201, 2260.8999, 2291.8000, 2291.8701, 2291.8799,\n",
       "        2292.0500, 2292.1201, 2292.2900, 2292.3000, 2292.3701, 2292.5500,\n",
       "        2292.6201, 2292.6299, 2292.8000, 2292.8101, 2292.8701, 2293.0400,\n",
       "        2293.0500, 2293.1201, 2293.1299, 2293.3000, 2293.3701, 2293.3799,\n",
       "        2293.5400, 2293.5500, 2293.6201, 2293.6299, 2293.7900, 2293.8000,\n",
       "        2293.8701, 2294.0400, 2294.0500, 2294.1201, 2294.2900, 2294.3000,\n",
       "        2294.3701, 2294.5400, 2294.5500, 2294.6201, 2294.7900, 2294.8000,\n",
       "        2294.8701, 2295.0400, 2295.0500, 2295.1201, 2295.3000, 2295.5500,\n",
       "        2295.6201, 2295.8000, 2295.8701, 2296.0500, 2296.1201, 2296.3000,\n",
       "        2296.3701, 2296.5500, 2296.6201, 2296.8000, 2296.8701, 2297.0500,\n",
       "        2297.1201, 2297.3000, 2297.3701, 2297.5500, 2298.3000, 2298.3701,\n",
       "        2298.6201, 2298.8000, 2298.8701, 2299.0500, 2299.3000, 2299.3701,\n",
       "        2299.5500, 2299.8000, 2300.0500, 2300.3000, 2300.5500, 2301.3000,\n",
       "        2301.3701, 2301.5500, 2301.6201, 2301.8000, 2301.8799, 2302.0500,\n",
       "        2302.1201, 2302.3000, 2302.3799, 2302.5500, 2302.6299, 2302.8000,\n",
       "        2302.8701, 2303.0500, 2303.1201, 2303.3000, 2303.3701, 2303.3799,\n",
       "        2303.5500, 2303.6201, 2303.6299, 2303.8000, 2303.8701, 2303.8799,\n",
       "        2304.0500, 2304.1201, 2304.3000, 2304.3701, 2304.3799, 2304.5500,\n",
       "        2304.6201, 2304.8000, 2304.8701, 2305.0500, 2305.1201, 2305.3000,\n",
       "        2305.3701, 2305.3799, 2305.5500, 2305.6201, 2305.6299, 2305.8000,\n",
       "        2305.8701, 2305.8799, 2306.0500, 2306.1201, 2306.3000, 2306.3701,\n",
       "        2306.5500, 2306.6299, 2306.8000, 2306.8799, 2307.0500, 2307.1201,\n",
       "        2307.1299, 2307.3000, 2307.3701, 2307.3799, 2307.5500, 2307.6299,\n",
       "        2307.8000, 2307.8799, 2308.0500, 2308.1299, 2308.3000, 2308.3701,\n",
       "        2308.3799, 2308.5500, 2308.6299, 2308.8000, 2308.8799, 2309.0500,\n",
       "        2309.1299, 2309.3000, 2309.3101, 2309.3799, 2309.5500, 2309.5601,\n",
       "        2309.6299, 2309.8101, 2309.8799, 2310.0601, 2310.1299, 2310.3101,\n",
       "        2310.3799, 2310.5601, 2310.6299, 2310.8000, 2310.8799, 2311.5500,\n",
       "        2311.6299, 2311.8101, 2311.8799, 2312.0601, 2312.1299, 2312.5601,\n",
       "        2312.6299, 2312.8101, 2312.8799, 2313.0601, 2313.1299])"
      ]
     },
     "execution_count": 12,
     "metadata": {},
     "output_type": "execute_result"
    }
   ],
   "source": [
    "ts[0]"
   ]
  },
  {
   "cell_type": "code",
   "execution_count": 13,
   "metadata": {},
   "outputs": [
    {
     "data": {
      "text/plain": [
       "torch.Size([90, 329])"
      ]
     },
     "execution_count": 13,
     "metadata": {},
     "output_type": "execute_result"
    }
   ],
   "source": [
    "truths.shape"
   ]
  },
  {
   "cell_type": "code",
   "execution_count": 14,
   "metadata": {},
   "outputs": [],
   "source": [
    "recs = torch.cat(recs,1).squeeze()"
   ]
  },
  {
   "cell_type": "code",
   "execution_count": 15,
   "metadata": {},
   "outputs": [
    {
     "data": {
      "text/plain": [
       "torch.Size([90, 329])"
      ]
     },
     "execution_count": 15,
     "metadata": {},
     "output_type": "execute_result"
    }
   ],
   "source": [
    "recs.shape"
   ]
  },
  {
   "cell_type": "code",
   "execution_count": 16,
   "metadata": {},
   "outputs": [
    {
     "data": {
      "text/plain": [
       "(torch.Size([90, 30]), torch.Size([90, 30]), torch.Size([90, 329]))"
      ]
     },
     "execution_count": 16,
     "metadata": {},
     "output_type": "execute_result"
    }
   ],
   "source": [
    "z_us.shape, z_stds.shape, truths.shape"
   ]
  },
  {
   "cell_type": "code",
   "execution_count": 17,
   "metadata": {},
   "outputs": [],
   "source": [
    "ix = 88"
   ]
  },
  {
   "cell_type": "code",
   "execution_count": 18,
   "metadata": {},
   "outputs": [],
   "source": [
    "u = z_us[ix]\n",
    "std = z_stds[ix]"
   ]
  },
  {
   "cell_type": "code",
   "execution_count": 19,
   "metadata": {},
   "outputs": [],
   "source": [
    "def sample(z, t):\n",
    "    sol_y = model.diffeq_solver.sample_traj_from_prior(z, t, n_traj_samples = 1)\n",
    "    out = model.decoder(sol_y)\n",
    "    return out"
   ]
  },
  {
   "cell_type": "code",
   "execution_count": null,
   "metadata": {},
   "outputs": [],
   "source": []
  },
  {
   "cell_type": "code",
   "execution_count": 20,
   "metadata": {},
   "outputs": [],
   "source": [
    "recs = recs.squeeze()"
   ]
  },
  {
   "cell_type": "code",
   "execution_count": 21,
   "metadata": {},
   "outputs": [
    {
     "data": {
      "text/plain": [
       "torch.Size([329])"
      ]
     },
     "execution_count": 21,
     "metadata": {},
     "output_type": "execute_result"
    }
   ],
   "source": [
    "recs[ix].squeeze().shape"
   ]
  },
  {
   "cell_type": "code",
   "execution_count": 22,
   "metadata": {},
   "outputs": [
    {
     "data": {
      "text/plain": [
       "tensor([-1.7681, -1.7450, -1.6993, -1.6792, -1.6384, -1.6200, -1.5818, -1.5642,\n",
       "        -1.5272, -1.5100, -1.4736, -1.4564, -1.4200, -1.4031, -1.3675, -1.3513,\n",
       "        -1.3186, -1.3045, -1.2774, -1.2661, -1.2445, -1.2353, -1.2174, -1.2097,\n",
       "        -1.1943, -1.1875, -1.1738, -1.1676, -1.1550, -1.1543, -1.1493, -1.1377,\n",
       "        -1.1370, -1.1325, -1.1220, -1.1214, -1.1171, -1.1069, -1.1063, -1.1020,\n",
       "        -1.0915, -1.0908, -1.0864, -1.0751, -1.0744, -1.0695, -1.0572, -1.0565,\n",
       "        -1.0512, -1.0377, -1.0368, -1.0311, -1.0164, -1.0155, -1.0093, -0.9938,\n",
       "        -0.9928, -0.9863, -0.9701, -0.9692, -0.9625, -0.9458, -0.9448, -0.9379,\n",
       "        -0.9369, -0.9209, -0.9199, -0.9128, -0.9118, -0.8954, -0.8943, -0.8871,\n",
       "        -0.8861, -0.8693, -0.8683, -0.8609, -0.8598, -0.8426, -0.8416, -0.8340,\n",
       "        -0.8329, -0.8152, -0.8141, -0.8062, -0.8051, -0.7867, -0.7855, -0.7773,\n",
       "        -0.7761, -0.7568, -0.7556, -0.7469, -0.7457, -0.7252, -0.7239, -0.7146,\n",
       "        -0.7133, -0.6913, -0.6899, -0.6799, -0.6785, -0.6531, -0.6422, -0.6130,\n",
       "        -0.6012, -0.5697, -0.5570, -0.5231, -0.5095, -0.4732, -0.4201, -0.4047,\n",
       "        -0.3638, -0.3475, -0.3045, -0.2874, -0.2244,  1.9384,  1.9398,  1.9403,\n",
       "         1.9404,  1.9417,  1.9423,  1.9423,  1.9437,  1.9442,  1.9443,  1.9456,\n",
       "         1.9461,  1.9462,  1.9475,  1.9481,  1.9482,  1.9495,  1.9501,  1.9514,\n",
       "         1.9520,  1.9520,  1.9534,  1.9539,  1.9540,  1.9553,  1.9558,  1.9559,\n",
       "         1.9572,  1.9578,  1.9592,  1.9650,  1.9656,  1.9669,  1.9675,  1.9688,\n",
       "         1.9695,  2.2085,  2.2091,  2.2092,  2.2105,  2.2110,  2.2123,  2.2124,\n",
       "         2.2130,  2.2144,  2.2149,  2.2150,  2.2163,  2.2164,  2.2168,  2.2181,\n",
       "         2.2182,  2.2188,  2.2188,  2.2202,  2.2207,  2.2208,  2.2220,  2.2221,\n",
       "         2.2226,  2.2227,  2.2239,  2.2240,  2.2246,  2.2259,  2.2260,  2.2265,\n",
       "         2.2278,  2.2279,  2.2284,  2.2297,  2.2298,  2.2304,  2.2317,  2.2318,\n",
       "         2.2323,  2.2336,  2.2337,  2.2342,  2.2356,  2.2376,  2.2381,  2.2395,\n",
       "         2.2400,  2.2414,  2.2420,  2.2433,  2.2439,  2.2453,  2.2458,  2.2472,\n",
       "         2.2478,  2.2491,  2.2497,  2.2511,  2.2516,  2.2530,  2.2588,  2.2593,\n",
       "         2.2614,  2.2628,  2.2633,  2.2647,  2.2666,  2.2672,  2.2686,  2.2705,\n",
       "         2.2724,  2.2744,  2.2763,  2.2821,  2.2826,  2.2840,  2.2846,  2.2860,\n",
       "         2.2866,  2.2879,  2.2885,  2.2898,  2.2905,  2.2918,  2.2924,  2.2937,\n",
       "         2.2943,  2.2956,  2.2962,  2.2976,  2.2981,  2.2982,  2.2995,  2.3001,\n",
       "         2.3001,  2.3014,  2.3020,  2.3021,  2.3034,  2.3039,  2.3053,  2.3059,\n",
       "         2.3059,  2.3072,  2.3078,  2.3092,  2.3097,  2.3111,  2.3117,  2.3130,\n",
       "         2.3136,  2.3137,  2.3150,  2.3155,  2.3156,  2.3169,  2.3175,  2.3175,\n",
       "         2.3188,  2.3194,  2.3208,  2.3213,  2.3227,  2.3233,  2.3247,  2.3253,\n",
       "         2.3266,  2.3271,  2.3272,  2.3285,  2.3291,  2.3291,  2.3304,  2.3311,\n",
       "         2.3324,  2.3330,  2.3343,  2.3349,  2.3363,  2.3368,  2.3369,  2.3382,\n",
       "         2.3388,  2.3401,  2.3408,  2.3421,  2.3427,  2.3440,  2.3441,  2.3446,\n",
       "         2.3459,  2.3460,  2.3465,  2.3479,  2.3485,  2.3499,  2.3504,  2.3518,\n",
       "         2.3523,  2.3537,  2.3543,  2.3556,  2.3562,  2.3614,  2.3620,  2.3634,\n",
       "         2.3639,  2.3653,  2.3659,  2.3692,  2.3698,  2.3711,  2.3717,  2.3731,\n",
       "         2.3736], grad_fn=<SelectBackward>)"
      ]
     },
     "execution_count": 22,
     "metadata": {},
     "output_type": "execute_result"
    }
   ],
   "source": [
    "recs[ix]"
   ]
  },
  {
   "cell_type": "code",
   "execution_count": 40,
   "metadata": {},
   "outputs": [
    {
     "data": {
      "text/plain": [
       "<matplotlib.axes._subplots.AxesSubplot at 0x7f4354d62320>"
      ]
     },
     "execution_count": 40,
     "metadata": {},
     "output_type": "execute_result"
    },
    {
     "data": {
      "image/png": "[encoded data removed]",
      "text/plain": [
       "<Figure size 432x288 with 1 Axes>"
      ]
     },
     "metadata": {
      "needs_background": "light"
     },
     "output_type": "display_data"
    }
   ],
   "source": [
    "# sns.lineplot(x=ts[0][:100], y=recs[ix][:100].squeeze().detach().cpu().numpy())\n",
    "sns.lineplot(x=ts[0], y=recs[ix].squeeze().detach().cpu().numpy())"
   ]
  },
  {
   "cell_type": "code",
   "execution_count": 24,
   "metadata": {},
   "outputs": [
    {
     "data": {
      "text/plain": [
       "torch.Size([90, 329])"
      ]
     },
     "execution_count": 24,
     "metadata": {},
     "output_type": "execute_result"
    }
   ],
   "source": [
    "truths.shape"
   ]
  },
  {
   "cell_type": "code",
   "execution_count": 25,
   "metadata": {
    "scrolled": true
   },
   "outputs": [
    {
     "data": {
      "text/plain": [
       "<matplotlib.axes._subplots.AxesSubplot at 0x7f435ff39a90>"
      ]
     },
     "execution_count": 25,
     "metadata": {},
     "output_type": "execute_result"
    },
    {
     "data": {
      "image/png": "[encoded data removed]",
      "text/plain": [
       "<Figure size 432x288 with 1 Axes>"
      ]
     },
     "metadata": {
      "needs_background": "light"
     },
     "output_type": "display_data"
    }
   ],
   "source": [
    "# sns.lineplot(x=ts[0][:100], y=truths[ix][:100].squeeze().detach().cpu().numpy())\n",
    "sns.lineplot(x=ts[0], y=truths[ix].squeeze().detach().cpu().numpy())"
   ]
  },
  {
   "cell_type": "code",
   "execution_count": null,
   "metadata": {},
   "outputs": [],
   "source": []
  },
  {
   "cell_type": "code",
   "execution_count": null,
   "metadata": {},
   "outputs": [],
   "source": []
  },
  {
   "cell_type": "markdown",
   "metadata": {},
   "source": [
    "### TSNE"
   ]
  },
  {
   "cell_type": "code",
   "execution_count": 26,
   "metadata": {},
   "outputs": [],
   "source": [
    "from sklearn.manifold import TSNE"
   ]
  },
  {
   "cell_type": "code",
   "execution_count": 27,
   "metadata": {},
   "outputs": [
    {
     "data": {
      "text/plain": [
       "torch.Size([90, 30])"
      ]
     },
     "execution_count": 27,
     "metadata": {},
     "output_type": "execute_result"
    }
   ],
   "source": [
    "z_us.shape"
   ]
  },
  {
   "cell_type": "code",
   "execution_count": 28,
   "metadata": {},
   "outputs": [],
   "source": [
    "latents = z_us.squeeze().detach().cpu().numpy()"
   ]
  },
  {
   "cell_type": "code",
   "execution_count": 29,
   "metadata": {},
   "outputs": [
    {
     "data": {
      "text/plain": [
       "(90, 30)"
      ]
     },
     "execution_count": 29,
     "metadata": {},
     "output_type": "execute_result"
    }
   ],
   "source": [
    "latents.shape"
   ]
  },
  {
   "cell_type": "code",
   "execution_count": 30,
   "metadata": {},
   "outputs": [],
   "source": [
    "tsne = TSNE(perplexity=10)"
   ]
  },
  {
   "cell_type": "code",
   "execution_count": 31,
   "metadata": {},
   "outputs": [],
   "source": [
    "xx = tsne.fit_transform(latents)"
   ]
  },
  {
   "cell_type": "code",
   "execution_count": null,
   "metadata": {},
   "outputs": [],
   "source": []
  },
  {
   "cell_type": "code",
   "execution_count": 32,
   "metadata": {},
   "outputs": [
    {
     "data": {
      "text/plain": [
       "<matplotlib.axes._subplots.AxesSubplot at 0x7f435edce128>"
      ]
     },
     "execution_count": 32,
     "metadata": {},
     "output_type": "execute_result"
    },
    {
     "data": {
      "image/png": "[encoded data removed]",
      "text/plain": [
       "<Figure size 432x288 with 1 Axes>"
      ]
     },
     "metadata": {
      "needs_background": "light"
     },
     "output_type": "display_data"
    }
   ],
   "source": [
    "sns.scatterplot(x=xx[:,0], y=xx[:,1])"
   ]
  },
  {
   "cell_type": "code",
   "execution_count": 33,
   "metadata": {},
   "outputs": [],
   "source": [
    "df = pd.DataFrame(xx, columns=['x1','x2'])\n",
    "df['minimums'] = [np.round(x.min().item(),2) for x in truths]"
   ]
  },
  {
   "cell_type": "code",
   "execution_count": 34,
   "metadata": {},
   "outputs": [
    {
     "data": {
      "text/plain": [
       "<matplotlib.axes._subplots.AxesSubplot at 0x7f4357d649b0>"
      ]
     },
     "execution_count": 34,
     "metadata": {},
     "output_type": "execute_result"
    },
    {
     "data": {
      "image/png": "[encoded data removed]",
      "text/plain": [
       "<Figure size 432x288 with 1 Axes>"
      ]
     },
     "metadata": {
      "needs_background": "light"
     },
     "output_type": "display_data"
    }
   ],
   "source": [
    "sns.scatterplot(x='x1', y='x2', data=df, hue='minimums')"
   ]
  },
  {
   "cell_type": "code",
   "execution_count": 35,
   "metadata": {},
   "outputs": [],
   "source": [
    "g=df.loc[(df['x1']<-100) & (df['x2']<-100)]\n",
    "g=df.loc[(df['x1']>0) & (df['x2']>100)]"
   ]
  },
  {
   "cell_type": "code",
   "execution_count": 36,
   "metadata": {},
   "outputs": [],
   "source": [
    "gx = g.index"
   ]
  },
  {
   "cell_type": "code",
   "execution_count": 37,
   "metadata": {},
   "outputs": [
    {
     "data": {
      "text/plain": [
       "90"
      ]
     },
     "execution_count": 37,
     "metadata": {},
     "output_type": "execute_result"
    }
   ],
   "source": [
    "len(truths)"
   ]
  },
  {
   "cell_type": "code",
   "execution_count": 38,
   "metadata": {},
   "outputs": [],
   "source": [
    "ls=truths[gx]"
   ]
  },
  {
   "cell_type": "code",
   "execution_count": 39,
   "metadata": {},
   "outputs": [
    {
     "data": {
      "image/png": "[encoded data removed]",
      "text/plain": [
       "<Figure size 360x216 with 1 Axes>"
      ]
     },
     "metadata": {
      "needs_background": "light"
     },
     "output_type": "display_data"
    },
    {
     "data": {
      "image/png": "[encoded data removed]",
      "text/plain": [
       "<Figure size 360x216 with 1 Axes>"
      ]
     },
     "metadata": {
      "needs_background": "light"
     },
     "output_type": "display_data"
    },
    {
     "data": {
      "image/png": "[encoded data removed]",
      "text/plain": [
       "<Figure size 360x216 with 1 Axes>"
      ]
     },
     "metadata": {
      "needs_background": "light"
     },
     "output_type": "display_data"
    },
    {
     "data": {
      "image/png": "[encoded data removed]",
      "text/plain": [
       "<Figure size 360x216 with 1 Axes>"
      ]
     },
     "metadata": {
      "needs_background": "light"
     },
     "output_type": "display_data"
    },
    {
     "data": {
      "image/png": "[encoded data removed]",
      "text/plain": [
       "<Figure size 360x216 with 1 Axes>"
      ]
     },
     "metadata": {
      "needs_background": "light"
     },
     "output_type": "display_data"
    },
    {
     "ename": "IndexError",
     "evalue": "list index out of range",
     "output_type": "error",
     "traceback": [
      "\u001b[0;31m---------------------------------------------------------------------------\u001b[0m",
      "\u001b[0;31mIndexError\u001b[0m                                Traceback (most recent call last)",
      "\u001b[0;32m<ipython-input-39-07863cb7a06c>\u001b[0m in \u001b[0;36m<module>\u001b[0;34m\u001b[0m\n\u001b[1;32m      2\u001b[0m     \u001b[0mx\u001b[0m \u001b[0;34m=\u001b[0m \u001b[0mp\u001b[0m\u001b[0;34m.\u001b[0m\u001b[0mdetach\u001b[0m\u001b[0;34m(\u001b[0m\u001b[0;34m)\u001b[0m\u001b[0;34m.\u001b[0m\u001b[0mcpu\u001b[0m\u001b[0;34m(\u001b[0m\u001b[0;34m)\u001b[0m\u001b[0;34m.\u001b[0m\u001b[0msqueeze\u001b[0m\u001b[0;34m(\u001b[0m\u001b[0;34m)\u001b[0m\u001b[0;34m.\u001b[0m\u001b[0mnumpy\u001b[0m\u001b[0;34m(\u001b[0m\u001b[0;34m)\u001b[0m\u001b[0;34m\u001b[0m\u001b[0;34m\u001b[0m\u001b[0m\n\u001b[1;32m      3\u001b[0m     \u001b[0mplt\u001b[0m\u001b[0;34m.\u001b[0m\u001b[0mfigure\u001b[0m\u001b[0;34m(\u001b[0m\u001b[0mfigsize\u001b[0m\u001b[0;34m=\u001b[0m\u001b[0;34m(\u001b[0m\u001b[0;36m5\u001b[0m\u001b[0;34m,\u001b[0m\u001b[0;36m3\u001b[0m\u001b[0;34m)\u001b[0m\u001b[0;34m)\u001b[0m\u001b[0;34m\u001b[0m\u001b[0;34m\u001b[0m\u001b[0m\n\u001b[0;32m----> 4\u001b[0;31m     \u001b[0msns\u001b[0m\u001b[0;34m.\u001b[0m\u001b[0mlineplot\u001b[0m\u001b[0;34m(\u001b[0m\u001b[0mx\u001b[0m\u001b[0;34m=\u001b[0m\u001b[0mts\u001b[0m\u001b[0;34m[\u001b[0m\u001b[0mi\u001b[0m\u001b[0;34m]\u001b[0m\u001b[0;34m,\u001b[0m \u001b[0my\u001b[0m\u001b[0;34m=\u001b[0m\u001b[0mx\u001b[0m\u001b[0;34m)\u001b[0m\u001b[0;34m\u001b[0m\u001b[0;34m\u001b[0m\u001b[0m\n\u001b[0m\u001b[1;32m      5\u001b[0m     \u001b[0mplt\u001b[0m\u001b[0;34m.\u001b[0m\u001b[0mshow\u001b[0m\u001b[0;34m(\u001b[0m\u001b[0;34m)\u001b[0m\u001b[0;34m\u001b[0m\u001b[0;34m\u001b[0m\u001b[0m\n",
      "\u001b[0;31mIndexError\u001b[0m: list index out of range"
     ]
    },
    {
     "data": {
      "text/plain": [
       "<Figure size 360x216 with 0 Axes>"
      ]
     },
     "metadata": {},
     "output_type": "display_data"
    }
   ],
   "source": [
    "for i, p in enumerate(truths):\n",
    "    x = p.detach().cpu().squeeze().numpy()\n",
    "    plt.figure(figsize=(5,3))\n",
    "    sns.lineplot(x=ts[i], y=x)\n",
    "    plt.show()"
   ]
  },
  {
   "cell_type": "code",
   "execution_count": null,
   "metadata": {},
   "outputs": [],
   "source": []
  },
  {
   "cell_type": "code",
   "execution_count": null,
   "metadata": {},
   "outputs": [],
   "source": []
  },
  {
   "cell_type": "code",
   "execution_count": null,
   "metadata": {},
   "outputs": [],
   "source": []
  },
  {
   "cell_type": "code",
   "execution_count": null,
   "metadata": {},
   "outputs": [],
   "source": []
  },
  {
   "cell_type": "code",
   "execution_count": null,
   "metadata": {},
   "outputs": [],
   "source": []
  }
 ],
 "metadata": {
  "kernelspec": {
   "display_name": "Python 3",
   "language": "python",
   "name": "python3"
  },
  "language_info": {
   "codemirror_mode": {
    "name": "ipython",
    "version": 3
   },
   "file_extension": ".py",
   "mimetype": "text/x-python",
   "name": "python",
   "nbconvert_exporter": "python",
   "pygments_lexer": "ipython3",
   "version": "3.6.8"
  }
 },
 "nbformat": 4,
 "nbformat_minor": 2
}
