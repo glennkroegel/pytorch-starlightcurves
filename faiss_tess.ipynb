{
 "cells": [
  {
   "cell_type": "code",
   "execution_count": null,
   "metadata": {},
   "outputs": [],
   "source": [
    "import pandas as pd\n",
    "import astropy as ap\n",
    "import numpy as np\n",
    "import matplotlib.pyplot as plt \n",
    "import seaborn as sns"
   ]
  },
  {
   "cell_type": "code",
   "execution_count": null,
   "metadata": {},
   "outputs": [],
   "source": [
    "import faiss"
   ]
  },
  {
   "cell_type": "code",
   "execution_count": null,
   "metadata": {},
   "outputs": [],
   "source": [
    "infile = 'vecs/tess_ode.pkl'"
   ]
  },
  {
   "cell_type": "code",
   "execution_count": null,
   "metadata": {},
   "outputs": [],
   "source": [
    "data = pd.read_pickle(infile)"
   ]
  },
  {
   "cell_type": "code",
   "execution_count": null,
   "metadata": {},
   "outputs": [],
   "source": [
    "vecs = np.stack(list(data.values()))"
   ]
  },
  {
   "cell_type": "code",
   "execution_count": null,
   "metadata": {},
   "outputs": [],
   "source": [
    "vecs = vecs/np.linalg.norm(vecs, axis=1).reshape(-1,1)"
   ]
  },
  {
   "cell_type": "code",
   "execution_count": null,
   "metadata": {},
   "outputs": [],
   "source": [
    "i2f = dict(enumerate(list(data.keys())))"
   ]
  },
  {
   "cell_type": "code",
   "execution_count": null,
   "metadata": {},
   "outputs": [],
   "source": []
  },
  {
   "cell_type": "code",
   "execution_count": null,
   "metadata": {},
   "outputs": [],
   "source": [
    "i2f"
   ]
  },
  {
   "cell_type": "code",
   "execution_count": null,
   "metadata": {},
   "outputs": [],
   "source": []
  },
  {
   "cell_type": "markdown",
   "metadata": {},
   "source": [
    "### Build DB"
   ]
  },
  {
   "cell_type": "code",
   "execution_count": null,
   "metadata": {},
   "outputs": [],
   "source": [
    "d = vecs.shape[1]; d"
   ]
  },
  {
   "cell_type": "code",
   "execution_count": null,
   "metadata": {},
   "outputs": [],
   "source": [
    "db = faiss.IndexFlatIP(d)"
   ]
  },
  {
   "cell_type": "code",
   "execution_count": null,
   "metadata": {},
   "outputs": [],
   "source": [
    "db.add(vecs)"
   ]
  },
  {
   "cell_type": "code",
   "execution_count": null,
   "metadata": {},
   "outputs": [],
   "source": [
    "db.ntotal"
   ]
  },
  {
   "cell_type": "code",
   "execution_count": null,
   "metadata": {},
   "outputs": [],
   "source": []
  },
  {
   "cell_type": "markdown",
   "metadata": {},
   "source": [
    "### Input vec"
   ]
  },
  {
   "cell_type": "code",
   "execution_count": null,
   "metadata": {},
   "outputs": [],
   "source": [
    "indir = 'tess/16_17/z_normalized/'\n",
    "filenames = [indir+x+'.npy' for x in list(data.keys())]"
   ]
  },
  {
   "cell_type": "code",
   "execution_count": null,
   "metadata": {},
   "outputs": [],
   "source": [
    "tsne_res = pd.read_pickle('tess_tsne.pkl')"
   ]
  },
  {
   "cell_type": "code",
   "execution_count": null,
   "metadata": {},
   "outputs": [],
   "source": [
    "df = pd.DataFrame(zip(filenames, tsne_res[:,0], tsne_res[:,1]),\n",
    "                      columns = ['file','x1', 'x2'])"
   ]
  },
  {
   "cell_type": "code",
   "execution_count": null,
   "metadata": {},
   "outputs": [],
   "source": [
    "plot_bounds = (5,7, 18, 20)"
   ]
  },
  {
   "cell_type": "code",
   "execution_count": null,
   "metadata": {},
   "outputs": [],
   "source": [
    "s = df.loc[(df['x1'] > plot_bounds[0]) & (df['x1'] < plot_bounds[1])\n",
    "       & (df['x2'] > plot_bounds[2]) & (df['x2'] < plot_bounds[3]) ]"
   ]
  },
  {
   "cell_type": "code",
   "execution_count": null,
   "metadata": {},
   "outputs": [],
   "source": [
    "def plot_one(sample):\n",
    "    file = sample['file'].values[0]\n",
    "    ts = np.load(file)[1]\n",
    "    plt.figure(figsize=(5,5))\n",
    "    #     ax.set_title('cluster: ' + str(ixs[i]) + '  ' + 'score: ' + str(probs[i]))\n",
    "    ax=sns.lineplot(x=np.arange(len(ts)), y=ts, color='k', alpha=0.8)\n",
    "    ax.set(yticks=[], xticks=[])\n",
    "    obj_id = file2id(file)\n",
    "    fname = file.split(indir)[-1][:-4]\n",
    "    return ax, ts, obj_id, fname"
   ]
  },
  {
   "cell_type": "code",
   "execution_count": null,
   "metadata": {},
   "outputs": [],
   "source": [
    "def file2id(file):\n",
    "    return file.split(indir)[-1].split('-')[2]"
   ]
  },
  {
   "cell_type": "code",
   "execution_count": null,
   "metadata": {},
   "outputs": [],
   "source": [
    "ax, ts, obj_id, fname = plot_one(s.sample(n=1))\n",
    "input_vec = data[fname]"
   ]
  },
  {
   "cell_type": "code",
   "execution_count": null,
   "metadata": {},
   "outputs": [],
   "source": [
    "input_vec"
   ]
  },
  {
   "cell_type": "code",
   "execution_count": null,
   "metadata": {},
   "outputs": [],
   "source": [
    "fname"
   ]
  },
  {
   "cell_type": "code",
   "execution_count": null,
   "metadata": {},
   "outputs": [],
   "source": [
    "np.linalg.norm(input_vec)"
   ]
  },
  {
   "cell_type": "code",
   "execution_count": null,
   "metadata": {},
   "outputs": [],
   "source": [
    "input_vec = input_vec/np.linalg.norm(input_vec)\n",
    "input_vec = input_vec.reshape(1,-1)"
   ]
  },
  {
   "cell_type": "code",
   "execution_count": null,
   "metadata": {},
   "outputs": [],
   "source": [
    "%timeit db.search(input_vec, k=5)"
   ]
  },
  {
   "cell_type": "code",
   "execution_count": null,
   "metadata": {},
   "outputs": [],
   "source": []
  },
  {
   "cell_type": "code",
   "execution_count": null,
   "metadata": {},
   "outputs": [],
   "source": [
    "probs, ixs = db.search(input_vec, k=6)\n",
    "ixs = ixs[0]\n",
    "probs = probs[0]"
   ]
  },
  {
   "cell_type": "code",
   "execution_count": null,
   "metadata": {},
   "outputs": [],
   "source": [
    "dict(zip([i2f[i] for i in ixs], probs))"
   ]
  },
  {
   "cell_type": "markdown",
   "metadata": {},
   "source": [
    "### Quick sample"
   ]
  },
  {
   "cell_type": "code",
   "execution_count": null,
   "metadata": {},
   "outputs": [],
   "source": [
    "def roulette(sample):\n",
    "    file = sample['file'].values[0]\n",
    "    ts = np.load(file)[1]\n",
    "#     plt.figure(figsize=(5,5))\n",
    "#     #     ax.set_title('cluster: ' + str(ixs[i]) + '  ' + 'score: ' + str(probs[i]))\n",
    "#     ax=sns.lineplot(x=np.arange(len(ts)), y=ts, color='k', alpha=0.8)\n",
    "#     ax.set(yticks=[], xticks=[])\n",
    "    obj_id = file2id(file)\n",
    "    fname = file.split(indir)[-1][:-4]\n",
    "    input_vec = data[fname]\n",
    "    input_vec = input_vec/np.linalg.norm(input_vec)\n",
    "    input_vec = input_vec.reshape(1,-1)\n",
    "    probs, ixs = db.search(input_vec, k=4)\n",
    "    ixs = ixs[0]\n",
    "    files = [indir+i2f[i]+'.npy' for i in ixs.reshape(-1)]\n",
    "    curves = [np.load(f)[1] for f in files]\n",
    "    obj_ids = [file2id(f) for f in files]\n",
    "    return obj_ids, curves"
   ]
  },
  {
   "cell_type": "code",
   "execution_count": null,
   "metadata": {},
   "outputs": [],
   "source": [
    "plot_bounds = (-100,100, -100,100)"
   ]
  },
  {
   "cell_type": "code",
   "execution_count": null,
   "metadata": {},
   "outputs": [],
   "source": [
    "s = df.loc[(df['x1'] > plot_bounds[0]) & (df['x1'] < plot_bounds[1])\n",
    "       & (df['x2'] > plot_bounds[2]) & (df['x2'] < plot_bounds[3]) ]"
   ]
  },
  {
   "cell_type": "code",
   "execution_count": null,
   "metadata": {},
   "outputs": [],
   "source": [
    "res = roulette(s.sample(n=1))"
   ]
  },
  {
   "cell_type": "code",
   "execution_count": null,
   "metadata": {},
   "outputs": [],
   "source": [
    "obj_ids, ys = res\n",
    "def make_plot():\n",
    "    f, axes = plt.subplots(1, 4, figsize=(20, 5), sharey=True)\n",
    "    for i in range(len(ys)):\n",
    "        ax = axes[i]\n",
    "        ax.set_xticks(ticks=[])\n",
    "        ax.set_yticks(ticks=[])\n",
    "        ax.set_title('id: ' + str(obj_ids[i]))\n",
    "        if i == 0:\n",
    "            sns.lineplot(x=np.arange(len(ys[i])), y=ys[i], color='r', alpha=0.6, ax=ax)\n",
    "        else:\n",
    "            sns.lineplot(x=np.arange(len(ys[i])), y=ys[i], color='k', alpha=0.8, ax=ax)\n",
    "    return f"
   ]
  },
  {
   "cell_type": "code",
   "execution_count": null,
   "metadata": {},
   "outputs": [],
   "source": [
    "f"
   ]
  },
  {
   "cell_type": "code",
   "execution_count": null,
   "metadata": {},
   "outputs": [],
   "source": [
    "obj_ids"
   ]
  },
  {
   "cell_type": "code",
   "execution_count": null,
   "metadata": {},
   "outputs": [],
   "source": [
    "f.savefig('plots/2.png')"
   ]
  },
  {
   "cell_type": "markdown",
   "metadata": {},
   "source": [
    "### Random plots"
   ]
  },
  {
   "cell_type": "code",
   "execution_count": null,
   "metadata": {},
   "outputs": [],
   "source": [
    "# for _ in range(50):\n",
    "#     obj_ids, ys = roulette(s.sample(n=1))\n",
    "#     inp_id = obj_ids[0]\n",
    "#     f = make_plot()\n",
    "#     f.savefig('plots/'+inp_id+'.png')"
   ]
  },
  {
   "cell_type": "code",
   "execution_count": null,
   "metadata": {},
   "outputs": [],
   "source": []
  },
  {
   "cell_type": "code",
   "execution_count": null,
   "metadata": {},
   "outputs": [],
   "source": []
  },
  {
   "cell_type": "code",
   "execution_count": null,
   "metadata": {},
   "outputs": [],
   "source": []
  },
  {
   "cell_type": "code",
   "execution_count": null,
   "metadata": {},
   "outputs": [],
   "source": []
  },
  {
   "cell_type": "markdown",
   "metadata": {},
   "source": [
    "### Batch Query"
   ]
  },
  {
   "cell_type": "code",
   "execution_count": null,
   "metadata": {},
   "outputs": [],
   "source": [
    "vecs.shape"
   ]
  },
  {
   "cell_type": "code",
   "execution_count": null,
   "metadata": {},
   "outputs": [],
   "source": [
    "len(i2f)"
   ]
  },
  {
   "cell_type": "code",
   "execution_count": null,
   "metadata": {},
   "outputs": [],
   "source": [
    "%timeit db.search(vecs, k=2)"
   ]
  },
  {
   "cell_type": "code",
   "execution_count": null,
   "metadata": {},
   "outputs": [],
   "source": [
    "probs, ixs = db.search(vecs, k=2)"
   ]
  },
  {
   "cell_type": "code",
   "execution_count": null,
   "metadata": {},
   "outputs": [],
   "source": [
    "max_probs = probs[:,1]"
   ]
  },
  {
   "cell_type": "code",
   "execution_count": null,
   "metadata": {},
   "outputs": [],
   "source": [
    "temp = dict(enumerate(max_probs))"
   ]
  },
  {
   "cell_type": "code",
   "execution_count": null,
   "metadata": {},
   "outputs": [],
   "source": [
    "res={i2f[i]:v for i,v in temp.items()}"
   ]
  },
  {
   "cell_type": "code",
   "execution_count": null,
   "metadata": {},
   "outputs": [],
   "source": [
    "topk = sorted(res.items(), key=lambda x: x[1])"
   ]
  },
  {
   "cell_type": "code",
   "execution_count": null,
   "metadata": {},
   "outputs": [],
   "source": [
    "top20 = [indir+x[0]+'.npy' for x in topk[:20]]"
   ]
  },
  {
   "cell_type": "code",
   "execution_count": null,
   "metadata": {},
   "outputs": [],
   "source": [
    "top20"
   ]
  },
  {
   "cell_type": "code",
   "execution_count": null,
   "metadata": {},
   "outputs": [],
   "source": [
    "file2id(top20[0])"
   ]
  },
  {
   "cell_type": "code",
   "execution_count": null,
   "metadata": {},
   "outputs": [],
   "source": [
    "i = 0\n",
    "j = 0\n",
    "fig, axes = plt.subplots(5, 4, figsize=(40, 40), sharey=False)\n",
    "for f in top20:\n",
    "    obj = file2id(f)\n",
    "    y = np.load(f)[1]\n",
    "    if i % 5 == 0:\n",
    "        i = 0\n",
    "    if j % 4 == 0:\n",
    "        j = 0\n",
    "    ax = axes[i][j]\n",
    "    ax.set_xticks(ticks=[])\n",
    "    ax.set_yticks(ticks=[])\n",
    "    ax.set_title('id: ' + str(obj))\n",
    "    sns.lineplot(x=np.arange(len(y)), y=y, color='r', alpha=0.6, ax=ax)\n",
    "    i += 1\n",
    "    j += 1\n",
    "fig.savefig('most_dissimilar.png', tight_layout=True)"
   ]
  },
  {
   "cell_type": "code",
   "execution_count": null,
   "metadata": {},
   "outputs": [],
   "source": [
    "for f in top20:\n",
    "    d = np.load(f)[1]\n",
    "    plt.figure()\n",
    "    sns.lineplot(x=np.arange(len(d)), y=d)\n",
    "    plt.show()"
   ]
  },
  {
   "cell_type": "code",
   "execution_count": null,
   "metadata": {},
   "outputs": [],
   "source": []
  },
  {
   "cell_type": "code",
   "execution_count": null,
   "metadata": {},
   "outputs": [],
   "source": []
  },
  {
   "cell_type": "code",
   "execution_count": null,
   "metadata": {},
   "outputs": [],
   "source": []
  }
 ],
 "metadata": {
  "kernelspec": {
   "display_name": "Python 3",
   "language": "python",
   "name": "python3"
  },
  "language_info": {
   "codemirror_mode": {
    "name": "ipython",
    "version": 3
   },
   "file_extension": ".py",
   "mimetype": "text/x-python",
   "name": "python",
   "nbconvert_exporter": "python",
   "pygments_lexer": "ipython3",
   "version": "3.6.9"
  }
 },
 "nbformat": 4,
 "nbformat_minor": 2
}
