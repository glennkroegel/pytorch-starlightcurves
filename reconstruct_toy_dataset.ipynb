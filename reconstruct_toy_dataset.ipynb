{
 "cells": [
  {
   "cell_type": "code",
   "execution_count": 1,
   "metadata": {},
   "outputs": [],
   "source": [
    "import torch\n",
    "import pandas as pd\n",
    "import astropy as ap\n",
    "import numpy as np\n",
    "import matplotlib.pyplot as plt \n",
    "import seaborn as sns\n",
    "# from astropy.io import fits\n",
    "import pdb\n",
    "from scipy.ndimage.filters import maximum_filter1d\n",
    "import glob\n",
    "import fitsio as fits\n",
    "import torch\n",
    "import torch.nn as nn\n",
    "import torch.nn.functional as F\n",
    "import torch.utils.data as data_utils\n",
    "from torch.nn.utils import clip_grad_norm_\n",
    "from torch.nn.utils.rnn import pack_padded_sequence, pad_packed_sequence, pad_sequence\n",
    "from torch.distributions.normal import Normal\n",
    "from tqdm import tqdm"
   ]
  },
  {
   "cell_type": "code",
   "execution_count": 2,
   "metadata": {},
   "outputs": [],
   "source": [
    "import sys\n",
    "sys.path.insert(0, '../')\n",
    "sys.path.insert(1, '../latent_ode/')\n",
    "import latent_ode.lib as ode\n",
    "import latent_ode.lib.utils as utils\n",
    "from latent_ode.lib.latent_ode import LatentODE\n",
    "from latent_ode.lib.encoder_decoder import Encoder_z0_ODE_RNN, Decoder\n",
    "from latent_ode.lib.diffeq_solver import DiffeqSolver\n",
    "from latent_ode.lib.ode_func import ODEFunc"
   ]
  },
  {
   "cell_type": "code",
   "execution_count": 3,
   "metadata": {},
   "outputs": [],
   "source": [
    "from latent_rnn import create_LatentODE_model"
   ]
  },
  {
   "cell_type": "code",
   "execution_count": 4,
   "metadata": {},
   "outputs": [],
   "source": [
    "device = torch.device(\"cuda\" if torch.cuda.is_available() else \"cpu\")\n",
    "# device = torch.device(\"cpu\")"
   ]
  },
  {
   "cell_type": "code",
   "execution_count": 5,
   "metadata": {},
   "outputs": [],
   "source": [
    "obsrv_std = torch.Tensor([0.01]).to(device)\n",
    "z0_prior = Normal(torch.Tensor([0.0]).to(device), torch.Tensor([1.]).to(device))\n",
    "input_dim = 1\n",
    "model = create_LatentODE_model(input_dim, z0_prior, obsrv_std)"
   ]
  },
  {
   "cell_type": "code",
   "execution_count": 6,
   "metadata": {},
   "outputs": [],
   "source": [
    "# state = torch.load('latent_ode_state.pth.tar')\n",
    "state = torch.load('latent_ode_state.pth.tar', map_location=torch.device('cpu'))"
   ]
  },
  {
   "cell_type": "code",
   "execution_count": 7,
   "metadata": {},
   "outputs": [
    {
     "data": {
      "text/plain": [
       "<All keys matched successfully>"
      ]
     },
     "execution_count": 7,
     "metadata": {},
     "output_type": "execute_result"
    }
   ],
   "source": [
    "model.load_state_dict(state['state_dict'])"
   ]
  },
  {
   "cell_type": "code",
   "execution_count": 8,
   "metadata": {},
   "outputs": [
    {
     "data": {
      "text/plain": [
       "LatentODE(\n",
       "  (encoder_z0): Encoder_z0_ODE_RNN(\n",
       "    (GRU_update): GRU_unit(\n",
       "      (update_gate): Sequential(\n",
       "        (0): Linear(in_features=42, out_features=20, bias=True)\n",
       "        (1): Tanh()\n",
       "        (2): Linear(in_features=20, out_features=20, bias=True)\n",
       "        (3): Sigmoid()\n",
       "      )\n",
       "      (reset_gate): Sequential(\n",
       "        (0): Linear(in_features=42, out_features=20, bias=True)\n",
       "        (1): Tanh()\n",
       "        (2): Linear(in_features=20, out_features=20, bias=True)\n",
       "        (3): Sigmoid()\n",
       "      )\n",
       "      (new_state_net): Sequential(\n",
       "        (0): Linear(in_features=42, out_features=20, bias=True)\n",
       "        (1): Tanh()\n",
       "        (2): Linear(in_features=20, out_features=40, bias=True)\n",
       "      )\n",
       "    )\n",
       "    (z0_diffeq_solver): DiffeqSolver(\n",
       "      (ode_func): ODEFunc(\n",
       "        (gradient_net): Sequential(\n",
       "          (0): Linear(in_features=20, out_features=20, bias=True)\n",
       "          (1): Tanh()\n",
       "          (2): Linear(in_features=20, out_features=20, bias=True)\n",
       "          (3): Tanh()\n",
       "          (4): Linear(in_features=20, out_features=20, bias=True)\n",
       "        )\n",
       "      )\n",
       "    )\n",
       "    (transform_z0): Sequential(\n",
       "      (0): Linear(in_features=40, out_features=100, bias=True)\n",
       "      (1): Tanh()\n",
       "      (2): Linear(in_features=100, out_features=80, bias=True)\n",
       "    )\n",
       "  )\n",
       "  (diffeq_solver): DiffeqSolver(\n",
       "    (ode_func): ODEFunc(\n",
       "      (gradient_net): Sequential(\n",
       "        (0): Linear(in_features=40, out_features=20, bias=True)\n",
       "        (1): Tanh()\n",
       "        (2): Linear(in_features=20, out_features=20, bias=True)\n",
       "        (3): Tanh()\n",
       "        (4): Linear(in_features=20, out_features=40, bias=True)\n",
       "      )\n",
       "    )\n",
       "  )\n",
       "  (decoder): Decoder(\n",
       "    (decoder): Sequential(\n",
       "      (0): Linear(in_features=40, out_features=1, bias=True)\n",
       "    )\n",
       "  )\n",
       ")"
      ]
     },
     "execution_count": 8,
     "metadata": {},
     "output_type": "execute_result"
    }
   ],
   "source": [
    "model.eval()"
   ]
  },
  {
   "cell_type": "code",
   "execution_count": 9,
   "metadata": {},
   "outputs": [],
   "source": [
    "loader = torch.load('toy_train.pt')"
   ]
  },
  {
   "cell_type": "markdown",
   "metadata": {},
   "source": [
    "## Inference"
   ]
  },
  {
   "cell_type": "code",
   "execution_count": 10,
   "metadata": {},
   "outputs": [],
   "source": [
    "def sample(z, t):\n",
    "    sol_y = model.diffeq_solver.sample_traj_from_prior(z, t, n_traj_samples = 1)\n",
    "    out = model.decoder(sol_y)\n",
    "    return out"
   ]
  },
  {
   "cell_type": "code",
   "execution_count": 11,
   "metadata": {},
   "outputs": [
    {
     "name": "stderr",
     "output_type": "stream",
     "text": [
      "100%|██████████| 18/18 [00:07<00:00,  2.39it/s]\n"
     ]
    }
   ],
   "source": [
    "z_us = []\n",
    "z_stds = []\n",
    "truths = []\n",
    "ts = []\n",
    "recs = []\n",
    "samples = []\n",
    "for batch in tqdm(loader):\n",
    "    observed = batch['observed_data']\n",
    "    true = batch['data_to_predict']\n",
    "    truths.extend([x for x in true])\n",
    "    mask = batch['observed_mask']\n",
    "    mask_pred = batch['mask_predicted_data']\n",
    "#     mask_pred = torch.ones(mask.shape)\n",
    "    x = torch.cat((observed, mask), -1)\n",
    "    if not mask_pred:\n",
    "        mask_pred = torch.ones(true.shape)\n",
    "    x2 = torch.cat((true, mask_pred), -1)\n",
    "    t = batch['observed_tp']\n",
    "    truth_time_steps = t[mask.nonzero()]\n",
    "    ts.append(t.detach().cpu())\n",
    "    z_u, z_std = model.encoder_z0.forward(x, t)\n",
    "    rec = model.get_reconstruction(time_steps_to_predict=t, truth=x2, truth_time_steps=t)[0].detach().cpu().squeeze()\n",
    "    recs.extend([x for x in rec])\n",
    "#     z_u = z_u.squeeze()\n",
    "    s = sample(z_u, t)[0]\n",
    "    samples.extend([x for x in s])\n",
    "    z_u = z_u.detach().cpu()\n",
    "    z_std = z_std.detach().cpu()\n",
    "    z_us.append(z_u)\n",
    "    z_stds.append(z_std)"
   ]
  },
  {
   "cell_type": "code",
   "execution_count": 12,
   "metadata": {},
   "outputs": [
    {
     "data": {
      "text/plain": [
       "tensor([[ 0.0042, -0.0094, -0.0231, -0.0352, -0.0447, -0.0535, -0.0616, -0.0688,\n",
       "         -0.0751, -0.0805, -0.0851, -0.0890, -0.0925, -0.0956, -0.0984, -0.1012,\n",
       "         -0.1038, -0.1063, -0.1088, -0.1112, -0.1136, -0.1160, -0.1183, -0.1207,\n",
       "         -0.1229, -0.1252, -0.1274, -0.1296, -0.1317, -0.1338, -0.1359, -0.1380,\n",
       "         -0.1400, -0.1419, -0.1439, -0.1458, -0.1477, -0.1495, -0.1513, -0.1531,\n",
       "         -0.1549, -0.1566, -0.1583, -0.1600, -0.1617, -0.1633, -0.1649, -0.1665,\n",
       "         -0.1681],\n",
       "        [ 0.4671,  0.4581,  0.4491,  0.4401,  0.4312,  0.4222,  0.4132,  0.4042,\n",
       "          0.3952,  0.3861,  0.3768,  0.3674,  0.3577,  0.3479,  0.3381,  0.3283,\n",
       "          0.3185,  0.3088,  0.2993,  0.2908,  0.2836,  0.2773,  0.2715,  0.2659,\n",
       "          0.2604,  0.2550,  0.2496,  0.2443,  0.2392,  0.2341,  0.2295,  0.2257,\n",
       "          0.2231,  0.2220,  0.2220,  0.2228,  0.2241,  0.2257,  0.2275,  0.2294,\n",
       "          0.2313,  0.2334,  0.2355,  0.2377,  0.2399,  0.2420,  0.2442,  0.2467,\n",
       "          0.2494],\n",
       "        [ 0.1405,  0.1295,  0.1187,  0.1079,  0.0972,  0.0866,  0.0761,  0.0657,\n",
       "          0.0578,  0.0514,  0.0449,  0.0380,  0.0310,  0.0241,  0.0173,  0.0105,\n",
       "          0.0038, -0.0030, -0.0099, -0.0168, -0.0239, -0.0310, -0.0382, -0.0455,\n",
       "         -0.0528, -0.0603, -0.0679, -0.0755, -0.0833, -0.0911, -0.0991, -0.1072,\n",
       "         -0.1154, -0.1239, -0.1325, -0.1414, -0.1505, -0.1599, -0.1697, -0.1802,\n",
       "         -0.1913, -0.2029, -0.2150, -0.2274, -0.2401, -0.2529, -0.2659, -0.2791,\n",
       "         -0.2923],\n",
       "        [ 0.3842,  0.3727,  0.3609,  0.3477,  0.3336,  0.3194,  0.3052,  0.2911,\n",
       "          0.2772,  0.2634,  0.2499,  0.2367,  0.2238,  0.2112,  0.1988,  0.1865,\n",
       "          0.1742,  0.1620,  0.1499,  0.1378,  0.1260,  0.1144,  0.1031,  0.0923,\n",
       "          0.0819,  0.0720,  0.0624,  0.0530,  0.0436,  0.0340,  0.0240,  0.0134,\n",
       "          0.0024, -0.0091, -0.0208, -0.0327, -0.0447, -0.0567, -0.0687, -0.0807,\n",
       "         -0.0926, -0.1044, -0.1161, -0.1277, -0.1391, -0.1504, -0.1616, -0.1727,\n",
       "         -0.1836],\n",
       "        [ 0.0104,  0.0032, -0.0062, -0.0165, -0.0250, -0.0298, -0.0336, -0.0372,\n",
       "         -0.0408, -0.0441, -0.0473, -0.0502, -0.0529, -0.0555, -0.0580, -0.0605,\n",
       "         -0.0629, -0.0652, -0.0675, -0.0697, -0.0720, -0.0742, -0.0764, -0.0786,\n",
       "         -0.0809, -0.0831, -0.0854, -0.0877, -0.0901, -0.0925, -0.0949, -0.0973,\n",
       "         -0.0999, -0.1024, -0.1050, -0.1077, -0.1104, -0.1131, -0.1159, -0.1188,\n",
       "         -0.1216, -0.1245, -0.1274, -0.1303, -0.1332, -0.1359, -0.1383, -0.1403,\n",
       "         -0.1418],\n",
       "        [ 0.1876,  0.1755,  0.1631,  0.1509,  0.1399,  0.1310,  0.1229,  0.1154,\n",
       "          0.1082,  0.1013,  0.0947,  0.0884,  0.0825,  0.0769,  0.0716,  0.0665,\n",
       "          0.0617,  0.0571,  0.0527,  0.0484,  0.0442,  0.0401,  0.0361,  0.0322,\n",
       "          0.0284,  0.0246,  0.0209,  0.0172,  0.0136,  0.0100,  0.0064,  0.0029,\n",
       "         -0.0006, -0.0041, -0.0076, -0.0111, -0.0146, -0.0180, -0.0215, -0.0249,\n",
       "         -0.0284, -0.0320, -0.0356, -0.0393, -0.0432, -0.0473, -0.0516, -0.0562,\n",
       "         -0.0611],\n",
       "        [-0.0264, -0.0375, -0.0484, -0.0588, -0.0687, -0.0782, -0.0875, -0.0968,\n",
       "         -0.1060, -0.1151, -0.1242, -0.1330, -0.1410, -0.1474, -0.1527, -0.1574,\n",
       "         -0.1617, -0.1658, -0.1696, -0.1731, -0.1764, -0.1795, -0.1824, -0.1852,\n",
       "         -0.1880, -0.1907, -0.1933, -0.1960, -0.1987, -0.2013, -0.2040, -0.2066,\n",
       "         -0.2092, -0.2119, -0.2145, -0.2172, -0.2198, -0.2224, -0.2251, -0.2277,\n",
       "         -0.2304, -0.2330, -0.2357, -0.2383, -0.2410, -0.2436, -0.2463, -0.2489,\n",
       "         -0.2516],\n",
       "        [-0.1391, -0.1492, -0.1593, -0.1694, -0.1794, -0.1897, -0.2005, -0.2117,\n",
       "         -0.2235, -0.2355, -0.2474, -0.2576, -0.2650, -0.2709, -0.2761, -0.2808,\n",
       "         -0.2851, -0.2893, -0.2934, -0.2973, -0.3012, -0.3050, -0.3087, -0.3125,\n",
       "         -0.3162, -0.3200, -0.3238, -0.3276, -0.3315, -0.3356, -0.3398, -0.3443,\n",
       "         -0.3491, -0.3542, -0.3597, -0.3656, -0.3719, -0.3785, -0.3854, -0.3926,\n",
       "         -0.4001, -0.4078, -0.4157, -0.4237, -0.4319, -0.4402, -0.4485, -0.4570,\n",
       "         -0.4656],\n",
       "        [ 0.2248,  0.2136,  0.2021,  0.1909,  0.1807,  0.1723,  0.1656,  0.1606,\n",
       "          0.1570,  0.1547,  0.1534,  0.1527,  0.1525,  0.1525,  0.1527,  0.1530,\n",
       "          0.1533,  0.1537,  0.1542,  0.1547,  0.1552,  0.1557,  0.1562,  0.1568,\n",
       "          0.1574,  0.1580,  0.1586,  0.1593,  0.1600,  0.1608,  0.1617,  0.1628,\n",
       "          0.1640,  0.1653,  0.1669,  0.1686,  0.1703,  0.1723,  0.1743,  0.1766,\n",
       "          0.1790,  0.1813,  0.1835,  0.1851,  0.1864,  0.1875,  0.1885,  0.1895,\n",
       "          0.1905],\n",
       "        [-0.4050, -0.4123, -0.4195, -0.4266, -0.4330, -0.4383, -0.4426, -0.4461,\n",
       "         -0.4493, -0.4523, -0.4552, -0.4582, -0.4611, -0.4640, -0.4669, -0.4699,\n",
       "         -0.4728, -0.4758, -0.4788, -0.4818, -0.4849, -0.4881, -0.4914, -0.4950,\n",
       "         -0.4987, -0.5026, -0.5069, -0.5115, -0.5163, -0.5214, -0.5267, -0.5320,\n",
       "         -0.5373, -0.5424, -0.5473, -0.5516, -0.5554, -0.5587, -0.5615, -0.5640,\n",
       "         -0.5661, -0.5678, -0.5691, -0.5701, -0.5708, -0.5712, -0.5714, -0.5713,\n",
       "         -0.5711]])"
      ]
     },
     "execution_count": 12,
     "metadata": {},
     "output_type": "execute_result"
    }
   ],
   "source": [
    "rec"
   ]
  },
  {
   "cell_type": "code",
   "execution_count": 30,
   "metadata": {},
   "outputs": [],
   "source": [
    "ix = 7"
   ]
  },
  {
   "cell_type": "code",
   "execution_count": 31,
   "metadata": {},
   "outputs": [],
   "source": [
    "y = samples[ix].detach().cpu().numpy().reshape(1,-1)\n",
    "# y = recs[ix].numpy().reshape(1,-1)\n",
    "x = t.detach().cpu().numpy().reshape(1,-1)\n",
    "y_true = truths[ix].detach().cpu().numpy().reshape(1,-1)"
   ]
  },
  {
   "cell_type": "code",
   "execution_count": 32,
   "metadata": {},
   "outputs": [],
   "source": [
    "d_predict = np.concatenate([x, y], axis=0).T\n",
    "d_true = np.concatenate([x, y_true], axis=0).T"
   ]
  },
  {
   "cell_type": "code",
   "execution_count": 33,
   "metadata": {},
   "outputs": [],
   "source": [
    "df_predict = pd.DataFrame(d_predict, columns = ['t', 'value'])\n",
    "df_predict['type'] = 'prediction'\n",
    "df_truth = pd.DataFrame(d_true, columns = ['t', 'value'])\n",
    "df_truth['type'] = 'truth'\n",
    "df = pd.concat([df_predict, df_truth], 0)"
   ]
  },
  {
   "cell_type": "code",
   "execution_count": 34,
   "metadata": {},
   "outputs": [
    {
     "data": {
      "text/plain": [
       "<matplotlib.axes._subplots.AxesSubplot at 0x7f4eb191b390>"
      ]
     },
     "execution_count": 34,
     "metadata": {},
     "output_type": "execute_result"
    },
    {
     "data": {
      "image/png": "[encoded data removed]",
      "text/plain": [
       "<Figure size 432x288 with 1 Axes>"
      ]
     },
     "metadata": {
      "needs_background": "light"
     },
     "output_type": "display_data"
    }
   ],
   "source": [
    "sns.scatterplot(x='t', y='value', data=df, hue='type')"
   ]
  },
  {
   "cell_type": "code",
   "execution_count": 25,
   "metadata": {},
   "outputs": [
    {
     "data": {
      "text/plain": [
       "tensor([[ 0.4301],\n",
       "        [ 0.7765],\n",
       "        [ 0.9720],\n",
       "        [ 0.9785],\n",
       "        [ 0.7948],\n",
       "        [ 0.4566],\n",
       "        [ 0.0295],\n",
       "        [-0.4032],\n",
       "        [-0.7576],\n",
       "        [-0.9647],\n",
       "        [-0.9842],\n",
       "        [-0.8124],\n",
       "        [-0.4826],\n",
       "        [-0.0590],\n",
       "        [ 0.3760],\n",
       "        [ 0.7380],\n",
       "        [ 0.9565],\n",
       "        [ 0.9890],\n",
       "        [ 0.8293],\n",
       "        [ 0.5083],\n",
       "        [ 0.0885],\n",
       "        [-0.3485],\n",
       "        [-0.7177],\n",
       "        [-0.9474],\n",
       "        [-0.9929],\n",
       "        [-0.8454],\n",
       "        [-0.5335],\n",
       "        [-0.1179],\n",
       "        [ 0.3207],\n",
       "        [ 0.6969],\n",
       "        [ 0.9376],\n",
       "        [ 0.9960],\n",
       "        [ 0.8608],\n",
       "        [ 0.5582],\n",
       "        [ 0.1471],\n",
       "        [-0.2926],\n",
       "        [-0.6754],\n",
       "        [-0.9269],\n",
       "        [-0.9982],\n",
       "        [-0.8755],\n",
       "        [-0.5825],\n",
       "        [-0.1763],\n",
       "        [ 0.2642],\n",
       "        [ 0.6533],\n",
       "        [ 0.9154],\n",
       "        [ 0.9995],\n",
       "        [ 0.8893],\n",
       "        [ 0.6062],\n",
       "        [ 0.2053]])"
      ]
     },
     "execution_count": 25,
     "metadata": {},
     "output_type": "execute_result"
    }
   ],
   "source": [
    "true[0]"
   ]
  },
  {
   "cell_type": "code",
   "execution_count": 19,
   "metadata": {},
   "outputs": [
    {
     "data": {
      "text/plain": [
       "tensor([[ 0.4301],\n",
       "        [ 0.0000],\n",
       "        [ 0.0000],\n",
       "        [ 0.9785],\n",
       "        [ 0.0000],\n",
       "        [ 0.0000],\n",
       "        [ 0.0000],\n",
       "        [-0.4032],\n",
       "        [-0.7576],\n",
       "        [-0.0000],\n",
       "        [-0.0000],\n",
       "        [-0.0000],\n",
       "        [-0.4826],\n",
       "        [-0.0000],\n",
       "        [ 0.3760],\n",
       "        [ 0.0000],\n",
       "        [ 0.9565],\n",
       "        [ 0.0000],\n",
       "        [ 0.0000],\n",
       "        [ 0.5083],\n",
       "        [ 0.0000],\n",
       "        [-0.0000],\n",
       "        [-0.7177],\n",
       "        [-0.0000],\n",
       "        [-0.0000],\n",
       "        [-0.0000],\n",
       "        [-0.0000],\n",
       "        [-0.1179],\n",
       "        [ 0.0000],\n",
       "        [ 0.6969],\n",
       "        [ 0.9376],\n",
       "        [ 0.0000],\n",
       "        [ 0.0000],\n",
       "        [ 0.5582],\n",
       "        [ 0.0000],\n",
       "        [-0.2926],\n",
       "        [-0.6754],\n",
       "        [-0.0000],\n",
       "        [-0.9982],\n",
       "        [-0.0000],\n",
       "        [-0.5825],\n",
       "        [-0.0000],\n",
       "        [ 0.2642],\n",
       "        [ 0.6533],\n",
       "        [ 0.0000],\n",
       "        [ 0.0000],\n",
       "        [ 0.0000],\n",
       "        [ 0.0000],\n",
       "        [ 0.0000]])"
      ]
     },
     "execution_count": 19,
     "metadata": {},
     "output_type": "execute_result"
    }
   ],
   "source": [
    "observed[0]"
   ]
  },
  {
   "cell_type": "code",
   "execution_count": null,
   "metadata": {},
   "outputs": [],
   "source": []
  }
 ],
 "metadata": {
  "kernelspec": {
   "display_name": "Python 3",
   "language": "python",
   "name": "python3"
  },
  "language_info": {
   "codemirror_mode": {
    "name": "ipython",
    "version": 3
   },
   "file_extension": ".py",
   "mimetype": "text/x-python",
   "name": "python",
   "nbconvert_exporter": "python",
   "pygments_lexer": "ipython3",
   "version": "3.6.8"
  }
 },
 "nbformat": 4,
 "nbformat_minor": 2
}
