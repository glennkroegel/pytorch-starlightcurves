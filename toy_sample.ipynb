{
 "cells": [
  {
   "cell_type": "code",
   "execution_count": 1,
   "metadata": {},
   "outputs": [],
   "source": [
    "import sys\n",
    "sys.path.insert(1, '/home/glenn/src/latent_ode/')\n",
    "from generate_timeseries import *"
   ]
  },
  {
   "cell_type": "code",
   "execution_count": 2,
   "metadata": {},
   "outputs": [],
   "source": [
    "import matplotlib.pyplot as plt\n",
    "import seaborn as sns"
   ]
  },
  {
   "cell_type": "code",
   "execution_count": 3,
   "metadata": {},
   "outputs": [],
   "source": [
    "%matplotlib inline"
   ]
  },
  {
   "cell_type": "code",
   "execution_count": 4,
   "metadata": {},
   "outputs": [],
   "source": [
    "init = 0\n",
    "# final = 1"
   ]
  },
  {
   "cell_type": "code",
   "execution_count": 5,
   "metadata": {},
   "outputs": [],
   "source": [
    "tmax = 500\n",
    "tmin = 0\n",
    "xs = np.arange(tmin, tmax)"
   ]
  },
  {
   "cell_type": "code",
   "execution_count": 14,
   "metadata": {},
   "outputs": [],
   "source": [
    "ts = np.sort(np.random.choice(xs, 100))"
   ]
  },
  {
   "cell_type": "code",
   "execution_count": 15,
   "metadata": {},
   "outputs": [
    {
     "data": {
      "text/plain": [
       "array([  0,   7,  16,  18,  18,  24,  33,  36,  37,  42,  42,  42,  45,\n",
       "        45,  45,  45,  45,  45,  54,  84,  84, 113, 113, 122, 122, 126,\n",
       "       126, 126, 132, 142, 151, 159, 159, 165, 173, 179, 190, 196, 201,\n",
       "       201, 201, 202, 202, 206, 208, 210, 210, 223, 234, 239, 243, 270,\n",
       "       270, 275, 275, 283, 294, 294, 299, 299, 300, 301, 301, 301, 302,\n",
       "       303, 303, 307, 315, 322, 322, 322, 322, 329, 329, 329, 329, 330,\n",
       "       348, 348, 348, 362, 362, 362, 362, 366, 366, 374, 374, 394, 426,\n",
       "       426, 429, 429, 429, 450, 450, 472, 475, 480])"
      ]
     },
     "execution_count": 15,
     "metadata": {},
     "output_type": "execute_result"
    }
   ],
   "source": [
    "ts"
   ]
  },
  {
   "cell_type": "code",
   "execution_count": 16,
   "metadata": {},
   "outputs": [
    {
     "data": {
      "text/plain": [
       "array([[0., 0.]])"
      ]
     },
     "execution_count": 16,
     "metadata": {},
     "output_type": "execute_result"
    }
   ],
   "source": [
    "generate_periodic(xs[0:1], init_freq=0.1, init_amplitude=init, starting_point=0, phi_offset=0.)"
   ]
  },
  {
   "cell_type": "code",
   "execution_count": 17,
   "metadata": {},
   "outputs": [],
   "source": [
    "f = Periodic_1d()"
   ]
  },
  {
   "cell_type": "code",
   "execution_count": 18,
   "metadata": {},
   "outputs": [],
   "source": [
    "x = f.sample_traj(xs)\n",
    "x_np = x.squeeze().detach().cpu().numpy()"
   ]
  },
  {
   "cell_type": "code",
   "execution_count": 19,
   "metadata": {},
   "outputs": [
    {
     "data": {
      "text/plain": [
       "array([-0.12561893,  1.2784193 ,  1.0700399 , -1.0723982 , -1.3538785 ,\n",
       "       -0.93594605, -0.13665587, -0.84910715,  2.3709016 ,  0.12201402,\n",
       "        0.24322143,  0.44114012,  2.1995182 ,  1.4661095 , -0.4077074 ,\n",
       "        0.5901945 ,  2.7321832 ,  1.8923339 , -1.4718707 , -1.8910381 ,\n",
       "       -2.1021562 ,  1.9691131 ,  0.27655706, -0.3381435 , -0.4791877 ,\n",
       "        3.373467  ,  3.0286179 ,  2.8512852 ,  2.344282  ,  1.5109859 ,\n",
       "       -0.7645327 ,  2.086897  , -3.0652242 , -0.9664932 ,  3.41177   ,\n",
       "        3.0107563 , -1.5392616 ,  0.41859967, -3.720866  ,  3.469346  ,\n",
       "       -2.1561792 ,  4.6774044 ,  0.17602411,  3.0779128 ,  1.4167709 ,\n",
       "       -3.1713166 , -3.6836367 , -2.687006  , -4.0434194 ,  1.9410725 ,\n",
       "       -4.6492987 ,  0.44925383, -2.1305957 , -1.7737434 ,  6.3927784 ,\n",
       "       -4.926758  ,  6.096209  , -3.6389306 , -6.1329937 ,  2.21412   ,\n",
       "       -5.9423394 ,  4.97421   ,  5.0710354 , -4.7952514 , -4.810667  ,\n",
       "       -2.9823055 ,  6.3126082 ,  7.477969  ,  7.243445  , -2.3590384 ,\n",
       "       -1.6950231 , -6.253478  ,  0.9288728 ,  1.7841237 ,  3.3135715 ,\n",
       "        2.4418561 , -7.4300117 ,  5.228529  ,  5.1677475 ,  8.566833  ,\n",
       "       -4.1414695 ,  8.737146  ,  3.265438  , -4.14167   ,  1.6294575 ,\n",
       "        7.2217298 ,  2.844118  ,  2.662116  , -8.379764  , -2.3442922 ,\n",
       "        9.419036  ,  0.6827909 , -9.317292  , -9.140178  , -8.543396  ,\n",
       "       -7.7454534 , -6.932531  , -2.7531102 , -0.12471479, -0.03973454],\n",
       "      dtype=float32)"
      ]
     },
     "execution_count": 19,
     "metadata": {},
     "output_type": "execute_result"
    }
   ],
   "source": [
    "x_np"
   ]
  },
  {
   "cell_type": "code",
   "execution_count": 20,
   "metadata": {},
   "outputs": [
    {
     "data": {
      "text/plain": [
       "<matplotlib.axes._subplots.AxesSubplot at 0x7f004cf4f208>"
      ]
     },
     "execution_count": 20,
     "metadata": {},
     "output_type": "execute_result"
    },
    {
     "data": {
      "image/png": "[encoded data removed]",
      "text/plain": [
       "<Figure size 432x288 with 1 Axes>"
      ]
     },
     "metadata": {
      "needs_background": "light"
     },
     "output_type": "display_data"
    }
   ],
   "source": [
    "sns.lineplot(x=xs, y=x_np)"
   ]
  },
  {
   "cell_type": "code",
   "execution_count": null,
   "metadata": {},
   "outputs": [],
   "source": [
    "l = int(x.size(1)*0.8)"
   ]
  },
  {
   "cell_type": "code",
   "execution_count": null,
   "metadata": {},
   "outputs": [],
   "source": [
    "x_train = x[0][:l]\n",
    "x_test = x[0][l:]"
   ]
  },
  {
   "cell_type": "code",
   "execution_count": 22,
   "metadata": {},
   "outputs": [],
   "source": [
    "ts = torch.Tensor(ts)"
   ]
  },
  {
   "cell_type": "code",
   "execution_count": 23,
   "metadata": {},
   "outputs": [
    {
     "data": {
      "text/plain": [
       "tensor([  0.,   7.,  16.,  18.,  18.,  24.,  33.,  36.,  37.,  42.,  42.,  42.,\n",
       "         45.,  45.,  45.,  45.,  45.,  45.,  54.,  84.,  84., 113., 113., 122.,\n",
       "        122., 126., 126., 126., 132., 142., 151., 159., 159., 165., 173., 179.,\n",
       "        190., 196., 201., 201., 201., 202., 202., 206., 208., 210., 210., 223.,\n",
       "        234., 239., 243., 270., 270., 275., 275., 283., 294., 294., 299., 299.,\n",
       "        300., 301., 301., 301., 302., 303., 303., 307., 315., 322., 322., 322.,\n",
       "        322., 329., 329., 329., 329., 330., 348., 348., 348., 362., 362., 362.,\n",
       "        362., 366., 366., 374., 374., 394., 426., 426., 429., 429., 429., 450.,\n",
       "        450., 472., 475., 480.])"
      ]
     },
     "execution_count": 23,
     "metadata": {},
     "output_type": "execute_result"
    }
   ],
   "source": [
    "ts"
   ]
  },
  {
   "cell_type": "code",
   "execution_count": null,
   "metadata": {},
   "outputs": [],
   "source": [
    "data_dict = {'data': xs, 'time_steps': ts}"
   ]
  },
  {
   "cell_type": "code",
   "execution_count": null,
   "metadata": {},
   "outputs": [],
   "source": []
  },
  {
   "cell_type": "code",
   "execution_count": 30,
   "metadata": {},
   "outputs": [],
   "source": [
    "dataset = f.sample_traj(ts, n_samples = 32, noise_weight = 0.1)"
   ]
  },
  {
   "cell_type": "code",
   "execution_count": 35,
   "metadata": {},
   "outputs": [
    {
     "data": {
      "text/plain": [
       "torch.Size([32, 100, 1])"
      ]
     },
     "execution_count": 35,
     "metadata": {},
     "output_type": "execute_result"
    }
   ],
   "source": [
    "dataset.shape"
   ]
  },
  {
   "cell_type": "code",
   "execution_count": 37,
   "metadata": {},
   "outputs": [
    {
     "data": {
      "text/plain": [
       "<matplotlib.axes._subplots.AxesSubplot at 0x7f004b0aed68>"
      ]
     },
     "execution_count": 37,
     "metadata": {},
     "output_type": "execute_result"
    },
    {
     "data": {
      "image/png": "[encoded data removed]",
      "text/plain": [
       "<Figure size 432x288 with 1 Axes>"
      ]
     },
     "metadata": {
      "needs_background": "light"
     },
     "output_type": "display_data"
    }
   ],
   "source": [
    "sns.lineplot(x=ts, y=dataset[10].squeeze().numpy())"
   ]
  },
  {
   "cell_type": "code",
   "execution_count": 38,
   "metadata": {},
   "outputs": [
    {
     "data": {
      "text/plain": [
       "torch.Size([32, 100, 1])"
      ]
     },
     "execution_count": 38,
     "metadata": {},
     "output_type": "execute_result"
    }
   ],
   "source": [
    "dataset.shape"
   ]
  },
  {
   "cell_type": "code",
   "execution_count": null,
   "metadata": {},
   "outputs": [],
   "source": []
  },
  {
   "cell_type": "code",
   "execution_count": null,
   "metadata": {},
   "outputs": [],
   "source": []
  },
  {
   "cell_type": "code",
   "execution_count": null,
   "metadata": {},
   "outputs": [],
   "source": []
  },
  {
   "cell_type": "code",
   "execution_count": null,
   "metadata": {},
   "outputs": [],
   "source": []
  }
 ],
 "metadata": {
  "kernelspec": {
   "display_name": "Python 3",
   "language": "python",
   "name": "python3"
  },
  "language_info": {
   "codemirror_mode": {
    "name": "ipython",
    "version": 3
   },
   "file_extension": ".py",
   "mimetype": "text/x-python",
   "name": "python",
   "nbconvert_exporter": "python",
   "pygments_lexer": "ipython3",
   "version": "3.6.8"
  }
 },
 "nbformat": 4,
 "nbformat_minor": 2
}
