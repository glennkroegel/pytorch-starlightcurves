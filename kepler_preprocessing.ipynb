{
 "cells": [
  {
   "cell_type": "code",
   "execution_count": 1,
   "metadata": {},
   "outputs": [],
   "source": [
    "# import pandas as pd\n",
    "import astropy as ap\n",
    "import numpy as np\n",
    "import matplotlib.pyplot as plt \n",
    "import seaborn as sns\n",
    "# from astropy.io import fits\n",
    "import pdb\n",
    "from scipy.ndimage.filters import maximum_filter1d\n",
    "import glob\n",
    "import fitsio as fits"
   ]
  },
  {
   "cell_type": "code",
   "execution_count": 2,
   "metadata": {},
   "outputs": [],
   "source": [
    "from multiprocessing.pool import Pool"
   ]
  },
  {
   "cell_type": "code",
   "execution_count": 3,
   "metadata": {},
   "outputs": [],
   "source": [
    "indir = 'kepler/q17/'"
   ]
  },
  {
   "cell_type": "code",
   "execution_count": 4,
   "metadata": {},
   "outputs": [],
   "source": [
    "outdir = 'kepler/processed/'\n",
    "os.makedirs(outdir, exist_ok=True)"
   ]
  },
  {
   "cell_type": "code",
   "execution_count": 5,
   "metadata": {},
   "outputs": [],
   "source": [
    "files = glob.glob(os.path.join(indir, '*.fits'))"
   ]
  },
  {
   "cell_type": "code",
   "execution_count": null,
   "metadata": {},
   "outputs": [],
   "source": []
  },
  {
   "cell_type": "code",
   "execution_count": 8,
   "metadata": {},
   "outputs": [],
   "source": [
    "data = fits.read('kepler/q17/kplr010000069-2013131215648_llc.fits')"
   ]
  },
  {
   "cell_type": "code",
   "execution_count": 18,
   "metadata": {},
   "outputs": [],
   "source": [
    "data = data.astype([(x, '<f8') for x in data.dtype.names])\n",
    "time = data['TIME']\n",
    "bool_time = ~np.isnan(time)\n",
    "sap_flux = data['SAP_FLUX']\n",
    "sap_flux_o_err = data['SAP_FLUX']/data['SAP_FLUX_ERR']\n",
    "sap_flux_o_err = sap_flux_o_err/np.nanmax(sap_flux_o_err)"
   ]
  },
  {
   "cell_type": "code",
   "execution_count": 25,
   "metadata": {},
   "outputs": [
    {
     "data": {
      "text/plain": [
       "0.020434426493011415"
      ]
     },
     "execution_count": 25,
     "metadata": {},
     "output_type": "execute_result"
    }
   ],
   "source": [
    "np.nanmax(np.diff(time))"
   ]
  },
  {
   "cell_type": "code",
   "execution_count": 20,
   "metadata": {},
   "outputs": [
    {
     "data": {
      "text/plain": [
       "<matplotlib.axes._subplots.AxesSubplot at 0x7f1d2c62e588>"
      ]
     },
     "execution_count": 20,
     "metadata": {},
     "output_type": "execute_result"
    },
    {
     "data": {
      "image/png": "[encoded data removed]",
      "text/plain": [
       "<Figure size 432x288 with 1 Axes>"
      ]
     },
     "metadata": {
      "needs_background": "light"
     },
     "output_type": "display_data"
    }
   ],
   "source": [
    "sns.lineplot(x=time.reshape(-1),y=sap_flux_o_err)"
   ]
  },
  {
   "cell_type": "code",
   "execution_count": 13,
   "metadata": {},
   "outputs": [
    {
     "data": {
      "text/plain": [
       "array([2386.11374981, 2384.56957171, 2386.01546244, ..., 2388.11871848,\n",
       "       2386.42236679, 2386.89540672])"
      ]
     },
     "execution_count": 13,
     "metadata": {},
     "output_type": "execute_result"
    }
   ],
   "source": [
    "sap_flux_o_err"
   ]
  },
  {
   "cell_type": "code",
   "execution_count": null,
   "metadata": {},
   "outputs": [],
   "source": []
  },
  {
   "cell_type": "code",
   "execution_count": null,
   "metadata": {},
   "outputs": [],
   "source": []
  },
  {
   "cell_type": "markdown",
   "metadata": {},
   "source": [
    "### Process"
   ]
  },
  {
   "cell_type": "code",
   "execution_count": null,
   "metadata": {},
   "outputs": [],
   "source": [
    "def proc(filename, w=50, max_len=250):\n",
    "    outname = outdir + filename.split(indir)[1]\n",
    "    outname = outname.split('.')[0] + '.npy'\n",
    "    try:\n",
    "        data = fits.read(filename, ext=None)\n",
    "    except:\n",
    "        return\n",
    "    data = data.astype([(x, '<f8') for x in data.dtype.names])\n",
    "    time = data['TIME']\n",
    "    bool_time = ~np.isnan(time)\n",
    "    sap_flux_o_err = data['SAP_FLUX']/data['SAP_FLUX_ERR']\n",
    "    sap_flux_o_err = sap_flux_o_err/np.nanmax(sap_flux_o_err)\n",
    "    bool_flux = ~np.isnan(sap_flux_o_err)\n",
    "    valid = (bool_flux == bool_time) & (bool_time == True)\n",
    "    time = time[valid]\n",
    "    sap_flux_o_err = sap_flux_o_err[valid]\n",
    "    assert(time.shape == sap_flux_o_err.shape)\n",
    "    sap_flux_o_err = maximum_filter1d(sap_flux_o_err, size=w)\n",
    "    res = np.stack([time, sap_flux_o_err])\n",
    "    res = res[:, ::w]\n",
    "    try:\n",
    "        res = res[:, :max_len]\n",
    "    except:\n",
    "        return\n",
    "    np.save(outname, res)    "
   ]
  },
  {
   "cell_type": "code",
   "execution_count": null,
   "metadata": {},
   "outputs": [],
   "source": [
    "pool = Pool(7)"
   ]
  },
  {
   "cell_type": "code",
   "execution_count": null,
   "metadata": {},
   "outputs": [],
   "source": [
    "a = pool.map(proc, files)"
   ]
  },
  {
   "cell_type": "code",
   "execution_count": null,
   "metadata": {},
   "outputs": [],
   "source": [
    "pool.close()\n",
    "pool.join()"
   ]
  },
  {
   "cell_type": "code",
   "execution_count": null,
   "metadata": {},
   "outputs": [],
   "source": []
  },
  {
   "cell_type": "code",
   "execution_count": null,
   "metadata": {},
   "outputs": [],
   "source": []
  },
  {
   "cell_type": "code",
   "execution_count": null,
   "metadata": {},
   "outputs": [],
   "source": [
    "t, y = proc(files[12])"
   ]
  },
  {
   "cell_type": "code",
   "execution_count": null,
   "metadata": {},
   "outputs": [],
   "source": [
    "sns.lineplot(t,y)"
   ]
  },
  {
   "cell_type": "code",
   "execution_count": null,
   "metadata": {},
   "outputs": [],
   "source": [
    "x = np.stack([t,y])"
   ]
  },
  {
   "cell_type": "code",
   "execution_count": null,
   "metadata": {},
   "outputs": [],
   "source": [
    "x.shape"
   ]
  },
  {
   "cell_type": "code",
   "execution_count": null,
   "metadata": {},
   "outputs": [],
   "source": []
  },
  {
   "cell_type": "code",
   "execution_count": null,
   "metadata": {},
   "outputs": [],
   "source": [
    "test = files[10]"
   ]
  },
  {
   "cell_type": "code",
   "execution_count": null,
   "metadata": {},
   "outputs": [],
   "source": [
    "def proc2(filename, w=50, max_len=250):\n",
    "    outname = outdir + filename.split(indir)[1]\n",
    "    outname = outname.split('.')[0] + '.npy'\n",
    "    try:\n",
    "        data = fits.read(filename, ext=None)\n",
    "    except:\n",
    "        return\n",
    "    data = data.astype([(x, '<f8') for x in data.dtype.names])\n",
    "    time = data['TIME']\n",
    "    bool_time = ~np.isnan(time)\n",
    "    sap_flux_o_err = data['SAP_FLUX']/data['SAP_FLUX_ERR']\n",
    "    sap_flux_o_err = sap_flux_o_err/np.nanmax(sap_flux_o_err)\n",
    "    bool_flux = ~np.isnan(sap_flux_o_err)\n",
    "    valid = (bool_flux == bool_time) & (bool_time == True)\n",
    "    time = time[valid]\n",
    "    sap_flux_o_err = sap_flux_o_err[valid]\n",
    "    assert(time.shape == sap_flux_o_err.shape)\n",
    "    sap_flux_o_err = maximum_filter1d(sap_flux_o_err, size=w)\n",
    "    res = np.stack([time, sap_flux_o_err])\n",
    "    res = res[:, ::w]\n",
    "    res = res[:, :250]\n",
    "    return time, sap_flux_o_err, res"
   ]
  },
  {
   "cell_type": "code",
   "execution_count": null,
   "metadata": {},
   "outputs": [],
   "source": [
    "time, y, res = proc2(test)"
   ]
  },
  {
   "cell_type": "code",
   "execution_count": null,
   "metadata": {},
   "outputs": [],
   "source": [
    "res.shape"
   ]
  },
  {
   "cell_type": "code",
   "execution_count": null,
   "metadata": {},
   "outputs": [],
   "source": [
    "sns.lineplot(x=res[0], y=res[1])"
   ]
  },
  {
   "cell_type": "code",
   "execution_count": null,
   "metadata": {},
   "outputs": [],
   "source": [
    "dts = time[1:] - time[0:-1]"
   ]
  },
  {
   "cell_type": "code",
   "execution_count": null,
   "metadata": {},
   "outputs": [],
   "source": [
    "dts.min()"
   ]
  },
  {
   "cell_type": "code",
   "execution_count": null,
   "metadata": {},
   "outputs": [],
   "source": []
  },
  {
   "cell_type": "code",
   "execution_count": null,
   "metadata": {},
   "outputs": [],
   "source": []
  },
  {
   "cell_type": "code",
   "execution_count": null,
   "metadata": {},
   "outputs": [],
   "source": []
  },
  {
   "cell_type": "code",
   "execution_count": null,
   "metadata": {},
   "outputs": [],
   "source": []
  }
 ],
 "metadata": {
  "kernelspec": {
   "display_name": "Python 3",
   "language": "python",
   "name": "python3"
  },
  "language_info": {
   "codemirror_mode": {
    "name": "ipython",
    "version": 3
   },
   "file_extension": ".py",
   "mimetype": "text/x-python",
   "name": "python",
   "nbconvert_exporter": "python",
   "pygments_lexer": "ipython3",
   "version": "3.6.9"
  }
 },
 "nbformat": 4,
 "nbformat_minor": 2
}
