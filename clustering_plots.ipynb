{
 "cells": [
  {
   "cell_type": "code",
   "execution_count": null,
   "metadata": {},
   "outputs": [],
   "source": [
    "import pandas as pd\n",
    "import numpy as np\n",
    "from sklearn.manifold import TSNE\n",
    "from sklearn.cluster import DBSCAN, OPTICS, AgglomerativeClustering, KMeans\n",
    "import matplotlib.pyplot as plt \n",
    "%matplotlib inline\n",
    "import seaborn as sns\n",
    "from tqdm import tqdm\n",
    "import hdbscan"
   ]
  },
  {
   "cell_type": "code",
   "execution_count": null,
   "metadata": {},
   "outputs": [],
   "source": [
    "infile = 'vecs/tess_ode.pkl'\n",
    "# infile = 'gaia2d_vecs.pkl'"
   ]
  },
  {
   "cell_type": "code",
   "execution_count": null,
   "metadata": {},
   "outputs": [],
   "source": [
    "data = pd.read_pickle(infile)"
   ]
  },
  {
   "cell_type": "code",
   "execution_count": null,
   "metadata": {},
   "outputs": [],
   "source": [
    "data = {k:v for k,v in data.items() if type(v) == np.ndarray}"
   ]
  },
  {
   "cell_type": "code",
   "execution_count": null,
   "metadata": {},
   "outputs": [],
   "source": [
    "clusters = 'random'"
   ]
  },
  {
   "cell_type": "code",
   "execution_count": null,
   "metadata": {},
   "outputs": [],
   "source": [
    "vecs = np.stack(list(data.values()))"
   ]
  },
  {
   "cell_type": "code",
   "execution_count": null,
   "metadata": {},
   "outputs": [],
   "source": [
    "vecs.shape"
   ]
  },
  {
   "cell_type": "markdown",
   "metadata": {},
   "source": [
    "### DBSCAN"
   ]
  },
  {
   "cell_type": "code",
   "execution_count": null,
   "metadata": {},
   "outputs": [],
   "source": [
    "# alg = DBSCAN(min_samples=5, n_jobs=-1)\n",
    "# alg = OPTICS(min_samples=10, n_jobs=-1, cluster_method='dbscan')\n",
    "# alg = AgglomerativeClustering(n_clusters=10)\n",
    "# alg = KMeans(n_clusters=20)\n",
    "alg = hdbscan.HDBSCAN(min_cluster_size=10, leaf_size=10, min_samples=10)"
   ]
  },
  {
   "cell_type": "code",
   "execution_count": null,
   "metadata": {},
   "outputs": [],
   "source": [
    "clusters = alg.fit_predict(vecs)"
   ]
  },
  {
   "cell_type": "code",
   "execution_count": null,
   "metadata": {},
   "outputs": [],
   "source": [
    "np.unique(clusters)"
   ]
  },
  {
   "cell_type": "markdown",
   "metadata": {},
   "source": [
    "### TSNE"
   ]
  },
  {
   "cell_type": "code",
   "execution_count": null,
   "metadata": {},
   "outputs": [],
   "source": [
    "res = pd.read_pickle('tess_tsne.pkl')"
   ]
  },
  {
   "cell_type": "code",
   "execution_count": null,
   "metadata": {},
   "outputs": [],
   "source": [
    "tsne = TSNE(n_components=2, perplexity=80)"
   ]
  },
  {
   "cell_type": "code",
   "execution_count": null,
   "metadata": {},
   "outputs": [],
   "source": [
    "res = tsne.fit_transform(vecs)"
   ]
  },
  {
   "cell_type": "code",
   "execution_count": null,
   "metadata": {},
   "outputs": [],
   "source": [
    "# pd.to_pickle(res, 'tess_tsne.pkl')"
   ]
  },
  {
   "cell_type": "markdown",
   "metadata": {},
   "source": [
    "### TSNE Post Clustering"
   ]
  },
  {
   "cell_type": "code",
   "execution_count": null,
   "metadata": {},
   "outputs": [],
   "source": [
    "res2 = pd.read_pickle('tess_tsne.pkl')"
   ]
  },
  {
   "cell_type": "code",
   "execution_count": null,
   "metadata": {},
   "outputs": [],
   "source": [
    "res2.shape"
   ]
  },
  {
   "cell_type": "code",
   "execution_count": null,
   "metadata": {},
   "outputs": [],
   "source": [
    "# res2 = res2/res2.max(0)"
   ]
  },
  {
   "cell_type": "code",
   "execution_count": null,
   "metadata": {},
   "outputs": [],
   "source": [
    "x1s = res2[:,0]\n",
    "x2s = res2[:,1]"
   ]
  },
  {
   "cell_type": "code",
   "execution_count": null,
   "metadata": {},
   "outputs": [],
   "source": [
    "x1s = (x1s-x1s.min())/(x1s.max()-x1s.min())\n",
    "x2s = (x2s-x2s.min())/(x2s.max()-x2s.min())"
   ]
  },
  {
   "cell_type": "code",
   "execution_count": null,
   "metadata": {},
   "outputs": [],
   "source": [
    "res2[:,0] = x1s\n",
    "res2[:,1] = x2s"
   ]
  },
  {
   "cell_type": "code",
   "execution_count": null,
   "metadata": {},
   "outputs": [],
   "source": [
    "# alg = DBSCAN(min_samples=50, n_jobs=-1, algorithm='ball_tree')\n",
    "# alg = OPTICS(min_samples=50, metric='minkowski', p=2, cluster_method='xi')\n",
    "# alg = KMeans(n_clusters=10)\n",
    "alg = hdbscan.HDBSCAN(min_cluster_size=10)"
   ]
  },
  {
   "cell_type": "code",
   "execution_count": null,
   "metadata": {},
   "outputs": [],
   "source": [
    "clusters2 = alg.fit_predict(res)"
   ]
  },
  {
   "cell_type": "code",
   "execution_count": null,
   "metadata": {},
   "outputs": [],
   "source": [
    "clusters2.max()"
   ]
  },
  {
   "cell_type": "markdown",
   "metadata": {},
   "source": [
    "### Summary"
   ]
  },
  {
   "cell_type": "code",
   "execution_count": null,
   "metadata": {},
   "outputs": [],
   "source": [
    "indir = 'tess/16_17/z_normalized/'\n",
    "filenames = [indir+x+'.npy' for x in list(data.keys())]"
   ]
  },
  {
   "cell_type": "code",
   "execution_count": null,
   "metadata": {},
   "outputs": [],
   "source": []
  },
  {
   "cell_type": "code",
   "execution_count": null,
   "metadata": {},
   "outputs": [],
   "source": [
    "clusters"
   ]
  },
  {
   "cell_type": "code",
   "execution_count": null,
   "metadata": {},
   "outputs": [],
   "source": [
    "# df = pd.DataFrame(zip(filenames, res2[:,0], res2[:,1], clusters),\n",
    "#                   columns = ['file', 'x1', 'x2', 'cluster'])\n",
    "# df = pd.DataFrame(zip(res2[:,0], res2[:,1], clusters2),\n",
    "#                   columns = ['x1', 'x2', 'cluster'])\n",
    "# df = pd.DataFrame(zip(res[:,0], res[:,1], clusters),\n",
    "#                   columns = ['x1', 'x2', 'cluster'])\n",
    "if clusters == 'random':\n",
    "    print(clusters)\n",
    "    df = pd.DataFrame(zip(filenames, res[:,0], res[:,1]),\n",
    "                      columns = ['file','x1', 'x2'])\n",
    "    df['cluster'] = 'random'"
   ]
  },
  {
   "cell_type": "code",
   "execution_count": null,
   "metadata": {},
   "outputs": [],
   "source": [
    "plt.figure(figsize=(15,10), dpi=600)\n",
    "# sns.scatterplot(x='x1', y='x2', hue='cluster', data=df, \n",
    "#                 palette=sns.color_palette(\"Paired\", df.cluster.nunique()))\n",
    "ax=sns.scatterplot(x='x1', y='x2', data=df, s=5, alpha=0.6, color='r')\n",
    "ax.axis('off')\n",
    "plt.savefig('tess_tsne.pdf')\n",
    "# plt.savefig('tess_tsne.svg')"
   ]
  },
  {
   "cell_type": "code",
   "execution_count": null,
   "metadata": {},
   "outputs": [],
   "source": [
    "df['has_cluster'] = 0"
   ]
  },
  {
   "cell_type": "code",
   "execution_count": null,
   "metadata": {},
   "outputs": [],
   "source": [
    "df['has_cluster'].loc[df['cluster'] != -1] = 1"
   ]
  },
  {
   "cell_type": "code",
   "execution_count": null,
   "metadata": {
    "scrolled": false
   },
   "outputs": [],
   "source": [
    "plt.figure(figsize=(15,10))\n",
    "# sns.scatterplot(x='x1', y='x2', hue='cluster', data=df, \n",
    "#                 palette=sns.color_palette(\"Paired\", df.cluster.nunique()))\n",
    "ax=sns.scatterplot(x='x1', y='x2', data=df, s=5, alpha=0.6, color='r')\n",
    "ax.axis('on')\n",
    "# plt.savefig('tess_tsne.pdf')"
   ]
  },
  {
   "cell_type": "markdown",
   "metadata": {},
   "source": [
    "### Random plots"
   ]
  },
  {
   "cell_type": "code",
   "execution_count": null,
   "metadata": {},
   "outputs": [],
   "source": [
    "import random"
   ]
  },
  {
   "cell_type": "code",
   "execution_count": null,
   "metadata": {},
   "outputs": [],
   "source": [
    "def plot_random(save=True, plot_bounds=None):\n",
    "    if not plot_bounds:\n",
    "        s = df.sample(n=1)\n",
    "    else:\n",
    "        s = df.loc[(df['x1'] > plot_bounds[0]) & (df['x1'] < plot_bounds[1])\n",
    "       & (df['x2'] > plot_bounds[2]) & (df['x2'] < plot_bounds[3]) ]\n",
    "        s = s.sample(n=1)\n",
    "    file = s.file.values[0]\n",
    "    cluster = s.cluster.values[0]\n",
    "    entry = s.file\n",
    "    x1 = s.x1.apply(lambda x: np.round(x,2)).values[0]\n",
    "    x2 = s.x2.apply(lambda x: np.round(x,2)).values[0]\n",
    "    outstr = str(cluster)+'_x1_'+str(x1)+'_x2_'+str(x2)\n",
    "    data = np.load(file)[1]\n",
    "    plt.figure(figsize=(5,5))\n",
    "    #     ax.set_title('cluster: ' + str(ixs[i]) + '  ' + 'score: ' + str(probs[i]))\n",
    "    ax=sns.lineplot(x=np.arange(len(data)), y=data, color='k', alpha=0.8)\n",
    "    ax.set(yticks=[], xticks=[])\n",
    "    if save:\n",
    "        plt.savefig('tess_tsne/'+outstr+'.svg')\n",
    "    return ax\n"
   ]
  },
  {
   "cell_type": "code",
   "execution_count": null,
   "metadata": {},
   "outputs": [],
   "source": [
    "plot_bounds = (-50,-40, -10, 0)"
   ]
  },
  {
   "cell_type": "code",
   "execution_count": null,
   "metadata": {},
   "outputs": [],
   "source": [
    "for _ in range(5):\n",
    "    plot_random(save=True, plot_bounds=plot_bounds)"
   ]
  },
  {
   "cell_type": "code",
   "execution_count": null,
   "metadata": {},
   "outputs": [],
   "source": []
  },
  {
   "cell_type": "markdown",
   "metadata": {},
   "source": [
    "### TS Stats / TSNE Hue"
   ]
  },
  {
   "cell_type": "code",
   "execution_count": null,
   "metadata": {},
   "outputs": [],
   "source": [
    "df['dip'] = 0\n",
    "df['maximums'] = 0\n",
    "df['max_fluctuation'] = 0\n",
    "df['variance'] = 0"
   ]
  },
  {
   "cell_type": "code",
   "execution_count": null,
   "metadata": {},
   "outputs": [],
   "source": [
    "for row, value in tqdm(df.iterrows()):\n",
    "    file = value['file']\n",
    "    data = np.load(file)[1]\n",
    "    # features\n",
    "    dip = data.min()\n",
    "    maxval = data.max()\n",
    "    maxfluc = maxval-dip\n",
    "    var = data.var()\n",
    "    df.at[row, 'dip'] = dip\n",
    "    df.at[row, 'maximums'] = maxval\n",
    "    df.at[row, 'max_fluctuation'] = maxfluc\n",
    "    df.at[row, 'variance'] = var"
   ]
  },
  {
   "cell_type": "code",
   "execution_count": null,
   "metadata": {},
   "outputs": [],
   "source": [
    "# plt.figure(figsize=(7,5))\n",
    "# # sns.scatterplot(x='x1', y='x2', hue='cluster', data=df, \n",
    "# #                 palette=sns.color_palette(\"Paired\", df.cluster.nunique()))\n",
    "# ax=sns.scatterplot(x='x1', y='x2', data=df, s=5, alpha=1.0, hue='dip')\n",
    "# ax.axis('off')"
   ]
  },
  {
   "cell_type": "code",
   "execution_count": null,
   "metadata": {},
   "outputs": [],
   "source": []
  },
  {
   "cell_type": "code",
   "execution_count": null,
   "metadata": {},
   "outputs": [],
   "source": []
  },
  {
   "cell_type": "code",
   "execution_count": null,
   "metadata": {},
   "outputs": [],
   "source": []
  },
  {
   "cell_type": "code",
   "execution_count": null,
   "metadata": {},
   "outputs": [],
   "source": []
  },
  {
   "cell_type": "code",
   "execution_count": null,
   "metadata": {},
   "outputs": [],
   "source": []
  },
  {
   "cell_type": "markdown",
   "metadata": {},
   "source": [
    "### Cluster plot"
   ]
  },
  {
   "cell_type": "code",
   "execution_count": null,
   "metadata": {},
   "outputs": [],
   "source": [
    "samples = dict(df.groupby('cluster')['file'].apply(lambda x: random.choice(list(x))))"
   ]
  },
  {
   "cell_type": "code",
   "execution_count": null,
   "metadata": {},
   "outputs": [],
   "source": [
    "d = {}\n",
    "for cluster, file in samples.items():\n",
    "    entry = df.loc[df['file'] == file]\n",
    "    x1 = entry['x1'].apply(lambda x: np.round(x,0)).values[0]\n",
    "    x2 = entry['x2'].apply(lambda x: np.round(x,0)).values[0]\n",
    "    outstr = str(cluster)+'_x1_'+str(x1)+'_x2_'+str(x2)\n",
    "    d[cluster] = np.load(file)[1]"
   ]
  },
  {
   "cell_type": "code",
   "execution_count": null,
   "metadata": {},
   "outputs": [],
   "source": [
    "f, axes = plt.subplots(len(np.unique(clusters)),1, figsize=(4, 25), sharey=True)\n",
    "for i in range(len(d)):\n",
    "    if i == 0:\n",
    "        continue\n",
    "    ax = axes[i-1]\n",
    "    ax.set_xticks(ticks=[])\n",
    "    ax.set_yticks(ticks=[])\n",
    "#     ax.set_title('cluster: ' + str(ixs[i]) + '  ' + 'score: ' + str(probs[i]))\n",
    "    sns.lineplot(x=np.arange(len(d[i])), y=d[i], color='b', ax=ax)"
   ]
  },
  {
   "cell_type": "code",
   "execution_count": null,
   "metadata": {},
   "outputs": [],
   "source": []
  },
  {
   "cell_type": "code",
   "execution_count": null,
   "metadata": {},
   "outputs": [],
   "source": []
  },
  {
   "cell_type": "code",
   "execution_count": null,
   "metadata": {},
   "outputs": [],
   "source": []
  },
  {
   "cell_type": "code",
   "execution_count": null,
   "metadata": {},
   "outputs": [],
   "source": []
  }
 ],
 "metadata": {
  "kernelspec": {
   "display_name": "Python 3",
   "language": "python",
   "name": "python3"
  },
  "language_info": {
   "codemirror_mode": {
    "name": "ipython",
    "version": 3
   },
   "file_extension": ".py",
   "mimetype": "text/x-python",
   "name": "python",
   "nbconvert_exporter": "python",
   "pygments_lexer": "ipython3",
   "version": "3.6.9"
  }
 },
 "nbformat": 4,
 "nbformat_minor": 2
}
