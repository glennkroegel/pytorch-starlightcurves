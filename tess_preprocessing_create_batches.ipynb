{
 "cells": [
  {
   "cell_type": "code",
   "execution_count": 1,
   "metadata": {},
   "outputs": [],
   "source": [
    "import numpy as np\n",
    "import pandas as pd\n",
    "import glob\n",
    "import os\n",
    "import matplotlib.pyplot as plt\n",
    "import torch\n",
    "from tqdm import tqdm\n",
    "from sklearn.model_selection import train_test_split"
   ]
  },
  {
   "cell_type": "code",
   "execution_count": 2,
   "metadata": {},
   "outputs": [],
   "source": [
    "indir = 'tess/all_data/z_normalized/'"
   ]
  },
  {
   "cell_type": "code",
   "execution_count": 3,
   "metadata": {},
   "outputs": [],
   "source": [
    "sectors = os.listdir(indir)"
   ]
  },
  {
   "cell_type": "code",
   "execution_count": 4,
   "metadata": {},
   "outputs": [
    {
     "data": {
      "text/plain": [
       "['2', '5', '3', '9', '10', '6', '4', '7', '1', '8']"
      ]
     },
     "execution_count": 4,
     "metadata": {},
     "output_type": "execute_result"
    }
   ],
   "source": [
    "sectors"
   ]
  },
  {
   "cell_type": "code",
   "execution_count": 5,
   "metadata": {},
   "outputs": [],
   "source": [
    "res = {}\n",
    "for i in sectors:\n",
    "    sector = str(i)\n",
    "    c = os.path.join(indir, sector, '*.npy')\n",
    "    files = glob.glob(c)\n",
    "    for f in files:\n",
    "        d = np.load(f)\n",
    "        t1 = d[0].min()\n",
    "        t2 = d[0].max()\n",
    "        l = len(d[0])\n",
    "        basename = os.path.basename(f)\n",
    "        summary = {'path': f, 't1': t1, 't2': t2, 'l': l, 'sector': sector}\n",
    "        res[basename] = summary"
   ]
  },
  {
   "cell_type": "code",
   "execution_count": 6,
   "metadata": {},
   "outputs": [],
   "source": [
    "df = pd.DataFrame(res).T"
   ]
  },
  {
   "cell_type": "code",
   "execution_count": 7,
   "metadata": {},
   "outputs": [
    {
     "data": {
      "text/html": [
       "<div>\n",
       "<style scoped>\n",
       "    .dataframe tbody tr th:only-of-type {\n",
       "        vertical-align: middle;\n",
       "    }\n",
       "\n",
       "    .dataframe tbody tr th {\n",
       "        vertical-align: top;\n",
       "    }\n",
       "\n",
       "    .dataframe thead th {\n",
       "        text-align: right;\n",
       "    }\n",
       "</style>\n",
       "<table border=\"1\" class=\"dataframe\">\n",
       "  <thead>\n",
       "    <tr style=\"text-align: right;\">\n",
       "      <th></th>\n",
       "      <th>path</th>\n",
       "      <th>t1</th>\n",
       "      <th>t2</th>\n",
       "      <th>l</th>\n",
       "      <th>sector</th>\n",
       "    </tr>\n",
       "  </thead>\n",
       "  <tbody>\n",
       "    <tr>\n",
       "      <th>tess2018234235059-s0002-0000000047389361-0121-s_lc.npy</th>\n",
       "      <td>tess/all_data/z_normalized/2/tess2018234235059...</td>\n",
       "      <td>1354.11</td>\n",
       "      <td>1381.48</td>\n",
       "      <td>374</td>\n",
       "      <td>2</td>\n",
       "    </tr>\n",
       "    <tr>\n",
       "      <th>tess2018234235059-s0002-0000000281813454-0121-s_lc.npy</th>\n",
       "      <td>tess/all_data/z_normalized/2/tess2018234235059...</td>\n",
       "      <td>1354.11</td>\n",
       "      <td>1381.49</td>\n",
       "      <td>374</td>\n",
       "      <td>2</td>\n",
       "    </tr>\n",
       "    <tr>\n",
       "      <th>tess2018234235059-s0002-0000000231053158-0121-s_lc.npy</th>\n",
       "      <td>tess/all_data/z_normalized/2/tess2018234235059...</td>\n",
       "      <td>1354.11</td>\n",
       "      <td>1381.47</td>\n",
       "      <td>374</td>\n",
       "      <td>2</td>\n",
       "    </tr>\n",
       "    <tr>\n",
       "      <th>tess2018234235059-s0002-0000000070797900-0121-s_lc.npy</th>\n",
       "      <td>tess/all_data/z_normalized/2/tess2018234235059...</td>\n",
       "      <td>1354.11</td>\n",
       "      <td>1381.47</td>\n",
       "      <td>374</td>\n",
       "      <td>2</td>\n",
       "    </tr>\n",
       "    <tr>\n",
       "      <th>tess2018234235059-s0002-0000000051993161-0121-s_lc.npy</th>\n",
       "      <td>tess/all_data/z_normalized/2/tess2018234235059...</td>\n",
       "      <td>1354.11</td>\n",
       "      <td>1381.49</td>\n",
       "      <td>374</td>\n",
       "      <td>2</td>\n",
       "    </tr>\n",
       "  </tbody>\n",
       "</table>\n",
       "</div>"
      ],
      "text/plain": [
       "                                                                                                 path  \\\n",
       "tess2018234235059-s0002-0000000047389361-0121-s...  tess/all_data/z_normalized/2/tess2018234235059...   \n",
       "tess2018234235059-s0002-0000000281813454-0121-s...  tess/all_data/z_normalized/2/tess2018234235059...   \n",
       "tess2018234235059-s0002-0000000231053158-0121-s...  tess/all_data/z_normalized/2/tess2018234235059...   \n",
       "tess2018234235059-s0002-0000000070797900-0121-s...  tess/all_data/z_normalized/2/tess2018234235059...   \n",
       "tess2018234235059-s0002-0000000051993161-0121-s...  tess/all_data/z_normalized/2/tess2018234235059...   \n",
       "\n",
       "                                                         t1       t2    l  \\\n",
       "tess2018234235059-s0002-0000000047389361-0121-s...  1354.11  1381.48  374   \n",
       "tess2018234235059-s0002-0000000281813454-0121-s...  1354.11  1381.49  374   \n",
       "tess2018234235059-s0002-0000000231053158-0121-s...  1354.11  1381.47  374   \n",
       "tess2018234235059-s0002-0000000070797900-0121-s...  1354.11  1381.47  374   \n",
       "tess2018234235059-s0002-0000000051993161-0121-s...  1354.11  1381.49  374   \n",
       "\n",
       "                                                   sector  \n",
       "tess2018234235059-s0002-0000000047389361-0121-s...      2  \n",
       "tess2018234235059-s0002-0000000281813454-0121-s...      2  \n",
       "tess2018234235059-s0002-0000000231053158-0121-s...      2  \n",
       "tess2018234235059-s0002-0000000070797900-0121-s...      2  \n",
       "tess2018234235059-s0002-0000000051993161-0121-s...      2  "
      ]
     },
     "execution_count": 7,
     "metadata": {},
     "output_type": "execute_result"
    }
   ],
   "source": [
    "df.head()"
   ]
  },
  {
   "cell_type": "code",
   "execution_count": 8,
   "metadata": {},
   "outputs": [
    {
     "data": {
      "text/plain": [
       "sector\n",
       "1                                                 [385]\n",
       "10    [330, 327, 354, 323, 326, 319, 312, 309, 318, ...\n",
       "2                                                 [374]\n",
       "3                        [384, 382, 381, 386, 385, 387]\n",
       "4                                            [319, 320]\n",
       "5                                            [359, 355]\n",
       "6                                                 [298]\n",
       "7                                            [328, 329]\n",
       "8                                  [291, 288, 290, 287]\n",
       "9     [319, 300, 315, 328, 320, 316, 318, 331, 322, ...\n",
       "Name: l, dtype: object"
      ]
     },
     "execution_count": 8,
     "metadata": {},
     "output_type": "execute_result"
    }
   ],
   "source": [
    "df.groupby('sector')['l'].unique()"
   ]
  },
  {
   "cell_type": "code",
   "execution_count": null,
   "metadata": {},
   "outputs": [],
   "source": []
  },
  {
   "cell_type": "code",
   "execution_count": 9,
   "metadata": {},
   "outputs": [],
   "source": [
    "groups=df.groupby(['sector','l'])['path'].apply(lambda x: list(x)).tolist()"
   ]
  },
  {
   "cell_type": "code",
   "execution_count": 10,
   "metadata": {},
   "outputs": [
    {
     "data": {
      "text/plain": [
       "45"
      ]
     },
     "execution_count": 10,
     "metadata": {},
     "output_type": "execute_result"
    }
   ],
   "source": [
    "len(groups)"
   ]
  },
  {
   "cell_type": "code",
   "execution_count": 11,
   "metadata": {},
   "outputs": [],
   "source": [
    "bs = 100\n",
    "batches = []\n",
    "for group in groups:\n",
    "    mini_batches=[group[i:(i+bs)] for i in range(0, len(group), bs)]\n",
    "    for b in mini_batches:\n",
    "        batches.append(b)"
   ]
  },
  {
   "cell_type": "code",
   "execution_count": 12,
   "metadata": {},
   "outputs": [
    {
     "data": {
      "text/plain": [
       "1756"
      ]
     },
     "execution_count": 12,
     "metadata": {},
     "output_type": "execute_result"
    }
   ],
   "source": [
    "len(batches)"
   ]
  },
  {
   "cell_type": "code",
   "execution_count": 13,
   "metadata": {},
   "outputs": [
    {
     "data": {
      "text/plain": [
       "['tess/all_data/z_normalized/1/tess2018206045859-s0001-0000000167167306-0120-s_lc.npy',\n",
       " 'tess/all_data/z_normalized/1/tess2018206045859-s0001-0000000389088085-0120-s_lc.npy',\n",
       " 'tess/all_data/z_normalized/1/tess2018206045859-s0001-0000000088330115-0120-s_lc.npy',\n",
       " 'tess/all_data/z_normalized/1/tess2018206045859-s0001-0000000143982389-0120-s_lc.npy',\n",
       " 'tess/all_data/z_normalized/1/tess2018206045859-s0001-0000000038508010-0120-s_lc.npy',\n",
       " 'tess/all_data/z_normalized/1/tess2018206045859-s0001-0000000441410194-0120-s_lc.npy',\n",
       " 'tess/all_data/z_normalized/1/tess2018206045859-s0001-0000000052195290-0120-s_lc.npy',\n",
       " 'tess/all_data/z_normalized/1/tess2018206045859-s0001-0000000234517168-0120-s_lc.npy',\n",
       " 'tess/all_data/z_normalized/1/tess2018206045859-s0001-0000000294329266-0120-s_lc.npy',\n",
       " 'tess/all_data/z_normalized/1/tess2018206045859-s0001-0000000306824150-0120-s_lc.npy',\n",
       " 'tess/all_data/z_normalized/1/tess2018206045859-s0001-0000000235040302-0120-s_lc.npy',\n",
       " 'tess/all_data/z_normalized/1/tess2018206045859-s0001-0000000271999903-0120-s_lc.npy',\n",
       " 'tess/all_data/z_normalized/1/tess2018206045859-s0001-0000000355446873-0120-s_lc.npy',\n",
       " 'tess/all_data/z_normalized/1/tess2018206045859-s0001-0000000441119508-0120-s_lc.npy',\n",
       " 'tess/all_data/z_normalized/1/tess2018206045859-s0001-0000000161335095-0120-s_lc.npy',\n",
       " 'tess/all_data/z_normalized/1/tess2018206045859-s0001-0000000220491897-0120-s_lc.npy',\n",
       " 'tess/all_data/z_normalized/1/tess2018206045859-s0001-0000000182293676-0120-s_lc.npy',\n",
       " 'tess/all_data/z_normalized/1/tess2018206045859-s0001-0000000091478374-0120-s_lc.npy',\n",
       " 'tess/all_data/z_normalized/1/tess2018206045859-s0001-0000000426031594-0120-s_lc.npy',\n",
       " 'tess/all_data/z_normalized/1/tess2018206045859-s0001-0000000350840417-0120-s_lc.npy',\n",
       " 'tess/all_data/z_normalized/1/tess2018206045859-s0001-0000000260188017-0120-s_lc.npy',\n",
       " 'tess/all_data/z_normalized/1/tess2018206045859-s0001-0000000150107262-0120-s_lc.npy',\n",
       " 'tess/all_data/z_normalized/1/tess2018206045859-s0001-0000000062220436-0120-s_lc.npy',\n",
       " 'tess/all_data/z_normalized/1/tess2018206045859-s0001-0000000161175809-0120-s_lc.npy',\n",
       " 'tess/all_data/z_normalized/1/tess2018206045859-s0001-0000000349310205-0120-s_lc.npy',\n",
       " 'tess/all_data/z_normalized/1/tess2018206045859-s0001-0000000229801745-0120-s_lc.npy',\n",
       " 'tess/all_data/z_normalized/1/tess2018206045859-s0001-0000000231712871-0120-s_lc.npy',\n",
       " 'tess/all_data/z_normalized/1/tess2018206045859-s0001-0000000262824351-0120-s_lc.npy',\n",
       " 'tess/all_data/z_normalized/1/tess2018206045859-s0001-0000000293164978-0120-s_lc.npy',\n",
       " 'tess/all_data/z_normalized/1/tess2018206045859-s0001-0000000391810734-0120-s_lc.npy',\n",
       " 'tess/all_data/z_normalized/1/tess2018206045859-s0001-0000000025080867-0120-s_lc.npy',\n",
       " 'tess/all_data/z_normalized/1/tess2018206045859-s0001-0000000139123569-0120-s_lc.npy',\n",
       " 'tess/all_data/z_normalized/1/tess2018206045859-s0001-0000000024751068-0120-s_lc.npy',\n",
       " 'tess/all_data/z_normalized/1/tess2018206045859-s0001-0000000238180641-0120-s_lc.npy',\n",
       " 'tess/all_data/z_normalized/1/tess2018206045859-s0001-0000000139148181-0120-s_lc.npy',\n",
       " 'tess/all_data/z_normalized/1/tess2018206045859-s0001-0000000143923191-0120-s_lc.npy',\n",
       " 'tess/all_data/z_normalized/1/tess2018206045859-s0001-0000000350843192-0120-s_lc.npy',\n",
       " 'tess/all_data/z_normalized/1/tess2018206045859-s0001-0000000181043668-0120-s_lc.npy',\n",
       " 'tess/all_data/z_normalized/1/tess2018206045859-s0001-0000000238809285-0120-s_lc.npy',\n",
       " 'tess/all_data/z_normalized/1/tess2018206045859-s0001-0000000197764361-0120-s_lc.npy',\n",
       " 'tess/all_data/z_normalized/1/tess2018206045859-s0001-0000000382604704-0120-s_lc.npy',\n",
       " 'tess/all_data/z_normalized/1/tess2018206045859-s0001-0000000279157165-0120-s_lc.npy',\n",
       " 'tess/all_data/z_normalized/1/tess2018206045859-s0001-0000000089433321-0120-s_lc.npy',\n",
       " 'tess/all_data/z_normalized/1/tess2018206045859-s0001-0000000327712061-0120-s_lc.npy',\n",
       " 'tess/all_data/z_normalized/1/tess2018206045859-s0001-0000000260419365-0120-s_lc.npy',\n",
       " 'tess/all_data/z_normalized/1/tess2018206045859-s0001-0000000150355764-0120-s_lc.npy',\n",
       " 'tess/all_data/z_normalized/1/tess2018206045859-s0001-0000000053895723-0120-s_lc.npy',\n",
       " 'tess/all_data/z_normalized/1/tess2018206045859-s0001-0000000326396542-0120-s_lc.npy',\n",
       " 'tess/all_data/z_normalized/1/tess2018206045859-s0001-0000000261205435-0120-s_lc.npy',\n",
       " 'tess/all_data/z_normalized/1/tess2018206045859-s0001-0000000209404265-0120-s_lc.npy',\n",
       " 'tess/all_data/z_normalized/1/tess2018206045859-s0001-0000000052311894-0120-s_lc.npy',\n",
       " 'tess/all_data/z_normalized/1/tess2018206045859-s0001-0000000139207911-0120-s_lc.npy',\n",
       " 'tess/all_data/z_normalized/1/tess2018206045859-s0001-0000000355601331-0120-s_lc.npy',\n",
       " 'tess/all_data/z_normalized/1/tess2018206045859-s0001-0000000033717846-0120-s_lc.npy',\n",
       " 'tess/all_data/z_normalized/1/tess2018206045859-s0001-0000000238191079-0120-s_lc.npy',\n",
       " 'tess/all_data/z_normalized/1/tess2018206045859-s0001-0000000261646873-0120-s_lc.npy',\n",
       " 'tess/all_data/z_normalized/1/tess2018206045859-s0001-0000000220436223-0120-s_lc.npy',\n",
       " 'tess/all_data/z_normalized/1/tess2018206045859-s0001-0000000441157764-0120-s_lc.npy',\n",
       " 'tess/all_data/z_normalized/1/tess2018206045859-s0001-0000000355767053-0120-s_lc.npy',\n",
       " 'tess/all_data/z_normalized/1/tess2018206045859-s0001-0000000201309666-0120-s_lc.npy',\n",
       " 'tess/all_data/z_normalized/1/tess2018206045859-s0001-0000000370244421-0120-s_lc.npy',\n",
       " 'tess/all_data/z_normalized/1/tess2018206045859-s0001-0000000350521162-0120-s_lc.npy',\n",
       " 'tess/all_data/z_normalized/1/tess2018206045859-s0001-0000000348957754-0120-s_lc.npy',\n",
       " 'tess/all_data/z_normalized/1/tess2018206045859-s0001-0000000080085577-0120-s_lc.npy',\n",
       " 'tess/all_data/z_normalized/1/tess2018206045859-s0001-0000000220404995-0120-s_lc.npy',\n",
       " 'tess/all_data/z_normalized/1/tess2018206045859-s0001-0000000220436129-0120-s_lc.npy',\n",
       " 'tess/all_data/z_normalized/1/tess2018206045859-s0001-0000000293526000-0120-s_lc.npy',\n",
       " 'tess/all_data/z_normalized/1/tess2018206045859-s0001-0000000300035305-0120-s_lc.npy',\n",
       " 'tess/all_data/z_normalized/1/tess2018206045859-s0001-0000000355738548-0120-s_lc.npy',\n",
       " 'tess/all_data/z_normalized/1/tess2018206045859-s0001-0000000269762999-0120-s_lc.npy',\n",
       " 'tess/all_data/z_normalized/1/tess2018206045859-s0001-0000000299799658-0120-s_lc.npy',\n",
       " 'tess/all_data/z_normalized/1/tess2018206045859-s0001-0000000140997242-0120-s_lc.npy',\n",
       " 'tess/all_data/z_normalized/1/tess2018206045859-s0001-0000000277889967-0120-s_lc.npy',\n",
       " 'tess/all_data/z_normalized/1/tess2018206045859-s0001-0000000237326845-0120-s_lc.npy',\n",
       " 'tess/all_data/z_normalized/1/tess2018206045859-s0001-0000000382263409-0120-s_lc.npy',\n",
       " 'tess/all_data/z_normalized/1/tess2018206045859-s0001-0000000115106265-0120-s_lc.npy',\n",
       " 'tess/all_data/z_normalized/1/tess2018206045859-s0001-0000000143895646-0120-s_lc.npy',\n",
       " 'tess/all_data/z_normalized/1/tess2018206045859-s0001-0000000201353934-0120-s_lc.npy',\n",
       " 'tess/all_data/z_normalized/1/tess2018206045859-s0001-0000000441157622-0120-s_lc.npy',\n",
       " 'tess/all_data/z_normalized/1/tess2018206045859-s0001-0000000309617906-0120-s_lc.npy',\n",
       " 'tess/all_data/z_normalized/1/tess2018206045859-s0001-0000000261746757-0120-s_lc.npy',\n",
       " 'tess/all_data/z_normalized/1/tess2018206045859-s0001-0000000271974590-0120-s_lc.npy',\n",
       " 'tess/all_data/z_normalized/1/tess2018206045859-s0001-0000000038570991-0120-s_lc.npy',\n",
       " 'tess/all_data/z_normalized/1/tess2018206045859-s0001-0000000231668062-0120-s_lc.npy',\n",
       " 'tess/all_data/z_normalized/1/tess2018206045859-s0001-0000000441125754-0120-s_lc.npy',\n",
       " 'tess/all_data/z_normalized/1/tess2018206045859-s0001-0000000220509904-0120-s_lc.npy',\n",
       " 'tess/all_data/z_normalized/1/tess2018206045859-s0001-0000000306827125-0120-s_lc.npy',\n",
       " 'tess/all_data/z_normalized/1/tess2018206045859-s0001-0000000260189950-0120-s_lc.npy',\n",
       " 'tess/all_data/z_normalized/1/tess2018206045859-s0001-0000000271893721-0120-s_lc.npy',\n",
       " 'tess/all_data/z_normalized/1/tess2018206045859-s0001-0000000293525326-0120-s_lc.npy',\n",
       " 'tess/all_data/z_normalized/1/tess2018206045859-s0001-0000000152936475-0120-s_lc.npy',\n",
       " 'tess/all_data/z_normalized/1/tess2018206045859-s0001-0000000144068927-0120-s_lc.npy',\n",
       " 'tess/all_data/z_normalized/1/tess2018206045859-s0001-0000000177352893-0120-s_lc.npy',\n",
       " 'tess/all_data/z_normalized/1/tess2018206045859-s0001-0000000206534722-0120-s_lc.npy',\n",
       " 'tess/all_data/z_normalized/1/tess2018206045859-s0001-0000000052121796-0120-s_lc.npy',\n",
       " 'tess/all_data/z_normalized/1/tess2018206045859-s0001-0000000099730709-0120-s_lc.npy',\n",
       " 'tess/all_data/z_normalized/1/tess2018206045859-s0001-0000000259719464-0120-s_lc.npy',\n",
       " 'tess/all_data/z_normalized/1/tess2018206045859-s0001-0000000231269344-0120-s_lc.npy',\n",
       " 'tess/all_data/z_normalized/1/tess2018206045859-s0001-0000000279327066-0120-s_lc.npy',\n",
       " 'tess/all_data/z_normalized/1/tess2018206045859-s0001-0000000150188736-0120-s_lc.npy']"
      ]
     },
     "execution_count": 13,
     "metadata": {},
     "output_type": "execute_result"
    }
   ],
   "source": [
    "batches[1]"
   ]
  },
  {
   "cell_type": "code",
   "execution_count": null,
   "metadata": {},
   "outputs": [],
   "source": []
  },
  {
   "cell_type": "code",
   "execution_count": 14,
   "metadata": {},
   "outputs": [],
   "source": [
    "current = batches[100]\n",
    "data = [np.load(x).astype(np.float32) for x in current]"
   ]
  },
  {
   "cell_type": "code",
   "execution_count": 16,
   "metadata": {},
   "outputs": [],
   "source": [
    "x = torch.FloatTensor(data)"
   ]
  },
  {
   "cell_type": "code",
   "execution_count": 17,
   "metadata": {},
   "outputs": [
    {
     "data": {
      "text/plain": [
       "torch.Size([100, 2, 385])"
      ]
     },
     "execution_count": 17,
     "metadata": {},
     "output_type": "execute_result"
    }
   ],
   "source": [
    "x.shape"
   ]
  },
  {
   "cell_type": "code",
   "execution_count": 35,
   "metadata": {},
   "outputs": [
    {
     "data": {
      "text/plain": [
       "[<matplotlib.lines.Line2D at 0x7fb4dd6dd908>]"
      ]
     },
     "execution_count": 35,
     "metadata": {},
     "output_type": "execute_result"
    },
    {
     "data": {
      "image/png": "[encoded data removed]",
      "text/plain": [
       "<Figure size 432x288 with 1 Axes>"
      ]
     },
     "metadata": {
      "needs_background": "light"
     },
     "output_type": "display_data"
    }
   ],
   "source": [
    "plt.plot(data[11][1])"
   ]
  },
  {
   "cell_type": "code",
   "execution_count": null,
   "metadata": {},
   "outputs": [],
   "source": []
  },
  {
   "cell_type": "code",
   "execution_count": null,
   "metadata": {},
   "outputs": [],
   "source": []
  },
  {
   "cell_type": "code",
   "execution_count": null,
   "metadata": {},
   "outputs": [],
   "source": []
  },
  {
   "cell_type": "code",
   "execution_count": null,
   "metadata": {},
   "outputs": [],
   "source": []
  },
  {
   "cell_type": "code",
   "execution_count": null,
   "metadata": {},
   "outputs": [],
   "source": []
  }
 ],
 "metadata": {
  "kernelspec": {
   "display_name": "Python 3",
   "language": "python",
   "name": "python3"
  },
  "language_info": {
   "codemirror_mode": {
    "name": "ipython",
    "version": 3
   },
   "file_extension": ".py",
   "mimetype": "text/x-python",
   "name": "python",
   "nbconvert_exporter": "python",
   "pygments_lexer": "ipython3",
   "version": "3.6.9"
  }
 },
 "nbformat": 4,
 "nbformat_minor": 2
}
