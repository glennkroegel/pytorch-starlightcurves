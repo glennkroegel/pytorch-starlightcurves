{
 "cells": [
  {
   "cell_type": "code",
   "execution_count": null,
   "metadata": {},
   "outputs": [],
   "source": [
    "import torch\n",
    "import pandas as pd\n",
    "import astropy as ap\n",
    "import numpy as np\n",
    "import matplotlib.pyplot as plt \n",
    "import seaborn as sns\n",
    "# from astropy.io import fits\n",
    "import pdb\n",
    "from scipy.ndimage.filters import maximum_filter1d\n",
    "import glob\n",
    "import fitsio as fits\n",
    "import torch\n",
    "import torch.nn as nn\n",
    "import torch.nn.functional as F\n",
    "import torch.utils.data as data_utils\n",
    "from torch.nn.utils import clip_grad_norm_\n",
    "from torch.nn.utils.rnn import pack_padded_sequence, pad_packed_sequence, pad_sequence\n",
    "from torch.distributions.normal import Normal\n",
    "from tqdm import tqdm\n",
    "from loading import TessDataset\n",
    "from ode_rnn import create_ODERNN_model\n",
    "from utils import process_gaia_csv, collate_2d"
   ]
  },
  {
   "cell_type": "code",
   "execution_count": null,
   "metadata": {},
   "outputs": [],
   "source": [
    "from latent_rnn2d import create_LatentODE_model"
   ]
  },
  {
   "cell_type": "code",
   "execution_count": null,
   "metadata": {},
   "outputs": [],
   "source": [
    "import sys\n",
    "sys.path.insert(0, '../')\n",
    "sys.path.insert(1, '../latent_ode/')\n",
    "import latent_ode.lib as ode\n",
    "import latent_ode.lib.utils as utils\n",
    "from latent_ode.lib.latent_ode import LatentODE\n",
    "from latent_ode.lib.ode_rnn import ODE_RNN\n",
    "from latent_ode.lib.encoder_decoder import Encoder_z0_ODE_RNN, Decoder\n",
    "from latent_ode.lib.diffeq_solver import DiffeqSolver\n",
    "from latent_ode.lib.ode_func import ODEFunc"
   ]
  },
  {
   "cell_type": "markdown",
   "metadata": {},
   "source": [
    "### Load Model"
   ]
  },
  {
   "cell_type": "code",
   "execution_count": null,
   "metadata": {},
   "outputs": [],
   "source": [
    "# device = torch.device(\"cuda\" if torch.cuda.is_available() else \"cpu\")\n",
    "device = torch.device(\"cpu\")"
   ]
  },
  {
   "cell_type": "code",
   "execution_count": null,
   "metadata": {},
   "outputs": [],
   "source": [
    "# Options\n",
    "input_dim = 2\n",
    "n_labels = 1\n",
    "status_properties = ['loss', 'ratio']\n",
    "latent_dim = 50"
   ]
  },
  {
   "cell_type": "code",
   "execution_count": null,
   "metadata": {},
   "outputs": [],
   "source": [
    "obsrv_std = torch.Tensor([0.3]).to(device)\n",
    "z0_prior = Normal(torch.Tensor([0.0]).to(device), torch.Tensor([1.]).to(device))\n",
    "model = create_LatentODE_model(input_dim, z0_prior, obsrv_std)"
   ]
  },
  {
   "cell_type": "code",
   "execution_count": null,
   "metadata": {},
   "outputs": [],
   "source": [
    "model_file = 'latent_ode_state_gaia2d_znorm.pth.tar'"
   ]
  },
  {
   "cell_type": "code",
   "execution_count": null,
   "metadata": {},
   "outputs": [],
   "source": [
    "state = torch.load(model_file, map_location=torch.device('cpu'))"
   ]
  },
  {
   "cell_type": "code",
   "execution_count": null,
   "metadata": {},
   "outputs": [],
   "source": [
    "model.load_state_dict(state['state_dict'])"
   ]
  },
  {
   "cell_type": "code",
   "execution_count": null,
   "metadata": {},
   "outputs": [],
   "source": [
    "model.eval()"
   ]
  },
  {
   "cell_type": "markdown",
   "metadata": {},
   "source": [
    "### Calc vecs"
   ]
  },
  {
   "cell_type": "code",
   "execution_count": null,
   "metadata": {},
   "outputs": [],
   "source": [
    "# files = glob.glob('gaia/gdr2/light_curves/csv/light_curves*.csv')\n",
    "files = glob.glob('gaia/gdr2/light_curves*.csv')"
   ]
  },
  {
   "cell_type": "code",
   "execution_count": null,
   "metadata": {},
   "outputs": [],
   "source": [
    "len(files)"
   ]
  },
  {
   "cell_type": "code",
   "execution_count": null,
   "metadata": {},
   "outputs": [],
   "source": [
    "df = process_gaia_csv(files[-2])"
   ]
  },
  {
   "cell_type": "code",
   "execution_count": null,
   "metadata": {},
   "outputs": [],
   "source": [
    "def fmt_inp(df):\n",
    "    grouped = df.groupby(['source_id','band','time_resampled'])['scaled'].mean()\n",
    "    grouped = grouped.unstack(2).fillna(0).stack()\n",
    "    grouped.fillna(0, inplace=True)\n",
    "    grouped.name = 'scaled'\n",
    "    grouped = grouped.unstack(1).reset_index().groupby(['source_id'])[['time_resampled','BP','RP']].apply(\n",
    "        lambda x: sorted(list(x.values.astype(np.float32)), key=lambda x: x[0]))\n",
    "    ids = list(grouped.index)\n",
    "    vs = []\n",
    "    for v in grouped.values:\n",
    "        v = torch.FloatTensor(v)\n",
    "        vs.append(v)\n",
    "    x = torch.stack(vs)\n",
    "    x = x.permute(0, 2, 1)\n",
    "    inputs = collate_2d(x)\n",
    "    return ids, inputs"
   ]
  },
  {
   "cell_type": "code",
   "execution_count": null,
   "metadata": {},
   "outputs": [],
   "source": [
    "def calc(inputs):\n",
    "    observed = inputs['observed_data']#.to(device)\n",
    "    mask = inputs['observed_mask']#.to(device)\n",
    "    t = inputs['observed_tp']\n",
    "    x = torch.cat((observed, mask), -1)\n",
    "#     try:\n",
    "    z_u, z_std = model.encoder_z0.forward(x, t)\n",
    "#     except:\n",
    "#     z_u, z_std = model.ode_gru.forward(x, t)\n",
    "    return z_u"
   ]
  },
  {
   "cell_type": "code",
   "execution_count": null,
   "metadata": {},
   "outputs": [],
   "source": [
    "vecs = {}\n",
    "for file in tqdm(files):\n",
    "    df = process_gaia_csv(file)\n",
    "    if df.empty:\n",
    "        continue\n",
    "    ids, inputs = fmt_inp(df)\n",
    "    zs = calc(inputs)\n",
    "    zs = zs.squeeze().detach().cpu().numpy()\n",
    "    res = zip(ids, zs)\n",
    "    vecs.update(res)"
   ]
  },
  {
   "cell_type": "code",
   "execution_count": null,
   "metadata": {},
   "outputs": [],
   "source": [
    "len(vecs)"
   ]
  },
  {
   "cell_type": "code",
   "execution_count": null,
   "metadata": {},
   "outputs": [],
   "source": [
    "pd.to_pickle(vecs, 'gaia2d_vecs.pkl')"
   ]
  },
  {
   "cell_type": "code",
   "execution_count": null,
   "metadata": {},
   "outputs": [],
   "source": [
    "ls = list(vecs.keys())"
   ]
  },
  {
   "cell_type": "code",
   "execution_count": null,
   "metadata": {},
   "outputs": [],
   "source": [
    "vecs[2081900940499099136]"
   ]
  },
  {
   "cell_type": "code",
   "execution_count": null,
   "metadata": {},
   "outputs": [],
   "source": [
    "df"
   ]
  },
  {
   "cell_type": "code",
   "execution_count": null,
   "metadata": {},
   "outputs": [],
   "source": [
    "min([len(str(x)) for x in ls])"
   ]
  },
  {
   "cell_type": "code",
   "execution_count": null,
   "metadata": {},
   "outputs": [],
   "source": [
    "break"
   ]
  },
  {
   "cell_type": "markdown",
   "metadata": {},
   "source": [
    "### Parallel"
   ]
  },
  {
   "cell_type": "code",
   "execution_count": null,
   "metadata": {},
   "outputs": [],
   "source": [
    "from multiprocessing.pool import Pool"
   ]
  },
  {
   "cell_type": "code",
   "execution_count": null,
   "metadata": {},
   "outputs": [],
   "source": [
    "pool = Pool(8)"
   ]
  },
  {
   "cell_type": "code",
   "execution_count": null,
   "metadata": {},
   "outputs": [],
   "source": [
    "def func(file):\n",
    "    df = process_gaia_csv(file)\n",
    "    if df.empty:\n",
    "        return\n",
    "    ids, inputs = fmt_inp(df)\n",
    "    zs = calc(inputs)\n",
    "    zs = zs.squeeze().detach().cpu().numpy()\n",
    "    res = zip(ids, zs)\n",
    "    return res"
   ]
  },
  {
   "cell_type": "code",
   "execution_count": null,
   "metadata": {},
   "outputs": [],
   "source": [
    "a = pool.map(func, files)"
   ]
  },
  {
   "cell_type": "code",
   "execution_count": null,
   "metadata": {},
   "outputs": [],
   "source": [
    "pool.close()\n",
    "pool.join()"
   ]
  },
  {
   "cell_type": "code",
   "execution_count": null,
   "metadata": {},
   "outputs": [],
   "source": [
    "len(a)"
   ]
  },
  {
   "cell_type": "code",
   "execution_count": null,
   "metadata": {},
   "outputs": [],
   "source": []
  },
  {
   "cell_type": "markdown",
   "metadata": {},
   "source": [
    "### Analysis"
   ]
  },
  {
   "cell_type": "code",
   "execution_count": null,
   "metadata": {},
   "outputs": [],
   "source": [
    "from sklearn.manifold import TSNE"
   ]
  },
  {
   "cell_type": "code",
   "execution_count": null,
   "metadata": {},
   "outputs": [],
   "source": [
    "tsne = TSNE(perplexity=30)"
   ]
  },
  {
   "cell_type": "code",
   "execution_count": null,
   "metadata": {},
   "outputs": [],
   "source": [
    "vs = np.stack([v for v in vecs.values()])"
   ]
  },
  {
   "cell_type": "code",
   "execution_count": null,
   "metadata": {},
   "outputs": [],
   "source": [
    "vs.shape"
   ]
  },
  {
   "cell_type": "code",
   "execution_count": null,
   "metadata": {},
   "outputs": [],
   "source": [
    "xs = tsne.fit_transform(vs)"
   ]
  },
  {
   "cell_type": "code",
   "execution_count": null,
   "metadata": {},
   "outputs": [],
   "source": [
    "sns.scatterplot(x=xs[:,0], y=xs[:,1], size=0.1)"
   ]
  },
  {
   "cell_type": "code",
   "execution_count": null,
   "metadata": {},
   "outputs": [],
   "source": []
  }
 ],
 "metadata": {
  "kernelspec": {
   "display_name": "Python 3",
   "language": "python",
   "name": "python3"
  },
  "language_info": {
   "codemirror_mode": {
    "name": "ipython",
    "version": 3
   },
   "file_extension": ".py",
   "mimetype": "text/x-python",
   "name": "python",
   "nbconvert_exporter": "python",
   "pygments_lexer": "ipython3",
   "version": "3.7.3"
  }
 },
 "nbformat": 4,
 "nbformat_minor": 2
}
