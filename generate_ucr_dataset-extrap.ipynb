{
 "cells": [
  {
   "cell_type": "code",
   "execution_count": 1,
   "metadata": {},
   "outputs": [],
   "source": [
    "import torch\n",
    "import pandas as pd\n",
    "import astropy as ap\n",
    "import numpy as np\n",
    "import matplotlib.pyplot as plt \n",
    "import seaborn as sns\n",
    "import pdb\n",
    "from scipy.ndimage.filters import maximum_filter1d\n",
    "import glob\n",
    "import fitsio as fits\n",
    "import torch\n",
    "import torch.nn as nn\n",
    "import torch.nn.functional as F\n",
    "import torch.utils.data as data_utils\n",
    "from torch.distributions import Bernoulli, Binomial, Normal, Uniform\n",
    "from torch.nn.utils import clip_grad_norm_\n",
    "from torch.nn.utils.rnn import pack_padded_sequence, pad_packed_sequence, pad_sequence\n",
    "from torch.distributions.normal import Normal\n",
    "from tqdm import tqdm\n",
    "from sklearn.model_selection import train_test_split\n",
    "import math\n",
    "from utils import pooling, batchify\n",
    "from config import TRAIN_DATA, CV_DATA"
   ]
  },
  {
   "cell_type": "code",
   "execution_count": 2,
   "metadata": {},
   "outputs": [],
   "source": [
    "n_samples = 100\n",
    "test_size = 0.1\n",
    "pool = 8"
   ]
  },
  {
   "cell_type": "code",
   "execution_count": 3,
   "metadata": {},
   "outputs": [],
   "source": [
    "train_data = pd.read_csv(TRAIN_DATA, delimiter='\\t', header=None)\n",
    "cv_data = pd.read_csv(CV_DATA, delimiter='\\t', header=None)\n",
    "df = pd.concat([train_data, cv_data], axis=0, ignore_index=True)\n",
    "df = df.sample(n=n_samples)\n",
    "df.drop(0, axis=1, inplace=True)\n",
    "data = df.values.astype(np.float32)\n",
    "data = pooling(data, (1,pool))"
   ]
  },
  {
   "cell_type": "code",
   "execution_count": 4,
   "metadata": {},
   "outputs": [],
   "source": [
    "data = torch.FloatTensor(data)"
   ]
  },
  {
   "cell_type": "code",
   "execution_count": 5,
   "metadata": {},
   "outputs": [
    {
     "data": {
      "text/plain": [
       "torch.Size([100, 128])"
      ]
     },
     "execution_count": 5,
     "metadata": {},
     "output_type": "execute_result"
    }
   ],
   "source": [
    "data.shape"
   ]
  },
  {
   "cell_type": "code",
   "execution_count": 6,
   "metadata": {},
   "outputs": [
    {
     "data": {
      "text/plain": [
       "128"
      ]
     },
     "execution_count": 6,
     "metadata": {},
     "output_type": "execute_result"
    }
   ],
   "source": [
    "sl = data.size(1); sl"
   ]
  },
  {
   "cell_type": "code",
   "execution_count": 7,
   "metadata": {},
   "outputs": [],
   "source": [
    "t = torch.FloatTensor(np.arange(0, 1, 1/sl))"
   ]
  },
  {
   "cell_type": "code",
   "execution_count": 8,
   "metadata": {},
   "outputs": [
    {
     "data": {
      "text/plain": [
       "tensor([0.0000, 0.0078, 0.0156, 0.0234, 0.0312, 0.0391, 0.0469, 0.0547, 0.0625,\n",
       "        0.0703, 0.0781, 0.0859, 0.0938, 0.1016, 0.1094, 0.1172, 0.1250, 0.1328,\n",
       "        0.1406, 0.1484, 0.1562, 0.1641, 0.1719, 0.1797, 0.1875, 0.1953, 0.2031,\n",
       "        0.2109, 0.2188, 0.2266, 0.2344, 0.2422, 0.2500, 0.2578, 0.2656, 0.2734,\n",
       "        0.2812, 0.2891, 0.2969, 0.3047, 0.3125, 0.3203, 0.3281, 0.3359, 0.3438,\n",
       "        0.3516, 0.3594, 0.3672, 0.3750, 0.3828, 0.3906, 0.3984, 0.4062, 0.4141,\n",
       "        0.4219, 0.4297, 0.4375, 0.4453, 0.4531, 0.4609, 0.4688, 0.4766, 0.4844,\n",
       "        0.4922, 0.5000, 0.5078, 0.5156, 0.5234, 0.5312, 0.5391, 0.5469, 0.5547,\n",
       "        0.5625, 0.5703, 0.5781, 0.5859, 0.5938, 0.6016, 0.6094, 0.6172, 0.6250,\n",
       "        0.6328, 0.6406, 0.6484, 0.6562, 0.6641, 0.6719, 0.6797, 0.6875, 0.6953,\n",
       "        0.7031, 0.7109, 0.7188, 0.7266, 0.7344, 0.7422, 0.7500, 0.7578, 0.7656,\n",
       "        0.7734, 0.7812, 0.7891, 0.7969, 0.8047, 0.8125, 0.8203, 0.8281, 0.8359,\n",
       "        0.8438, 0.8516, 0.8594, 0.8672, 0.8750, 0.8828, 0.8906, 0.8984, 0.9062,\n",
       "        0.9141, 0.9219, 0.9297, 0.9375, 0.9453, 0.9531, 0.9609, 0.9688, 0.9766,\n",
       "        0.9844, 0.9922])"
      ]
     },
     "execution_count": 8,
     "metadata": {},
     "output_type": "execute_result"
    }
   ],
   "source": [
    "t"
   ]
  },
  {
   "cell_type": "code",
   "execution_count": 10,
   "metadata": {},
   "outputs": [],
   "source": [
    "# def subsample(y):\n",
    "#     p = Uniform(0.2, 0.5)\n",
    "#     measurements = Binomial(probs=p.sample()).sample(y.size())\n",
    "#     y_measure = y * measurements\n",
    "#     y_out = torch.stack((t, y_measure, y))\n",
    "#     return y_out"
   ]
  },
  {
   "cell_type": "code",
   "execution_count": 9,
   "metadata": {},
   "outputs": [],
   "source": [
    "def make_sample(y, p=0.5):\n",
    "    L = len(t)\n",
    "    l = int(p*L)\n",
    "    t1 = t[:l]\n",
    "    t2 = t[l:]\n",
    "    y1 = y[:l]\n",
    "    y2 = y[l:]\n",
    "    out = torch.stack((t1,t2,y1,y2))\n",
    "    return out"
   ]
  },
  {
   "cell_type": "code",
   "execution_count": 11,
   "metadata": {},
   "outputs": [],
   "source": [
    "test=make_sample(data[0])"
   ]
  },
  {
   "cell_type": "code",
   "execution_count": 12,
   "metadata": {},
   "outputs": [
    {
     "data": {
      "text/plain": [
       "torch.Size([4, 64])"
      ]
     },
     "execution_count": 12,
     "metadata": {},
     "output_type": "execute_result"
    }
   ],
   "source": [
    "test.shape"
   ]
  },
  {
   "cell_type": "code",
   "execution_count": 19,
   "metadata": {},
   "outputs": [
    {
     "data": {
      "text/plain": [
       "tensor([-1.3415, -1.2727, -1.2236, -1.1954, -1.1811, -1.1756, -1.1755, -1.1810,\n",
       "        -1.1959, -1.2072, -1.1688, -1.0862, -0.9726, -0.8585, -0.7791, -0.7557,\n",
       "        -0.7572, -0.7892, -0.8345, -0.8300, -0.7623, -0.6746, -0.5934, -0.5339,\n",
       "        -0.4984, -0.4812, -0.4738, -0.4658, -0.4449, -0.4034, -0.3431, -0.2760,\n",
       "        -0.2202, -0.1857, -0.1668, -0.1428, -0.0884,  0.0030,  0.1090,  0.1962,\n",
       "         0.2382,  0.2415,  0.2341,  0.2128,  0.1970,  0.1919,  0.1914,  0.1869,\n",
       "         0.1810,  0.2014,  0.2499,  0.3234,  0.4083,  0.4899,  0.5588,  0.6124,\n",
       "         0.6507,  0.6758,  0.6955,  0.7221,  0.7666,  0.8312,  0.9150,  1.0191])"
      ]
     },
     "execution_count": 19,
     "metadata": {},
     "output_type": "execute_result"
    }
   ],
   "source": [
    "test[3]"
   ]
  },
  {
   "cell_type": "code",
   "execution_count": 20,
   "metadata": {},
   "outputs": [
    {
     "name": "stderr",
     "output_type": "stream",
     "text": [
      "100%|██████████| 100/100 [00:00<00:00, 14277.02it/s]\n"
     ]
    }
   ],
   "source": [
    "dataset = []\n",
    "for y in tqdm(data):\n",
    "    sample = make_sample(y)\n",
    "    dataset.append(sample)"
   ]
  },
  {
   "cell_type": "code",
   "execution_count": 21,
   "metadata": {},
   "outputs": [],
   "source": [
    "dataset = torch.stack(dataset)"
   ]
  },
  {
   "cell_type": "code",
   "execution_count": 22,
   "metadata": {},
   "outputs": [
    {
     "data": {
      "text/plain": [
       "torch.Size([100, 4, 64])"
      ]
     },
     "execution_count": 22,
     "metadata": {},
     "output_type": "execute_result"
    }
   ],
   "source": [
    "dataset.shape"
   ]
  },
  {
   "cell_type": "markdown",
   "metadata": {},
   "source": [
    "### Dataloaders"
   ]
  },
  {
   "cell_type": "code",
   "execution_count": 23,
   "metadata": {},
   "outputs": [],
   "source": [
    "from torch.utils.data import DataLoader\n",
    "from utils import collate_ts, collate_extrap, batchify\n",
    "from loading import ToyDataset"
   ]
  },
  {
   "cell_type": "code",
   "execution_count": 24,
   "metadata": {},
   "outputs": [],
   "source": [
    "train_loader = DataLoader(dataset, batch_size=10, collate_fn=collate_extrap)"
   ]
  },
  {
   "cell_type": "code",
   "execution_count": 25,
   "metadata": {},
   "outputs": [],
   "source": [
    "torch.save(train_loader, 'ucr_train_extrap.pt')"
   ]
  },
  {
   "cell_type": "code",
   "execution_count": null,
   "metadata": {},
   "outputs": [],
   "source": []
  }
 ],
 "metadata": {
  "kernelspec": {
   "display_name": "Python 3",
   "language": "python",
   "name": "python3"
  },
  "language_info": {
   "codemirror_mode": {
    "name": "ipython",
    "version": 3
   },
   "file_extension": ".py",
   "mimetype": "text/x-python",
   "name": "python",
   "nbconvert_exporter": "python",
   "pygments_lexer": "ipython3",
   "version": "3.6.9"
  }
 },
 "nbformat": 4,
 "nbformat_minor": 2
}
