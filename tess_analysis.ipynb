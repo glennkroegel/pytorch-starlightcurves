{
 "cells": [
  {
   "cell_type": "code",
   "execution_count": 2,
   "metadata": {},
   "outputs": [],
   "source": [
    "import pandas as pd\n",
    "import astropy as ap\n",
    "import numpy as np\n",
    "import matplotlib.pyplot as plt \n",
    "import seaborn as sns\n",
    "from astropy.io import fits"
   ]
  },
  {
   "cell_type": "code",
   "execution_count": 14,
   "metadata": {},
   "outputs": [],
   "source": [
    "%matplotlib inline"
   ]
  },
  {
   "cell_type": "markdown",
   "metadata": {},
   "source": [
    "http://docs.astropy.org/en/stable/generated/examples/io/plot_fits-image.html#sphx-glr-generated-examples-io-plot-fits-image-py"
   ]
  },
  {
   "cell_type": "code",
   "execution_count": 25,
   "metadata": {},
   "outputs": [],
   "source": [
    "data = fits.getdata('tess2019253231442-s0016-0000000233046463-0152-s_lc.fits')"
   ]
  },
  {
   "cell_type": "code",
   "execution_count": 26,
   "metadata": {},
   "outputs": [
    {
     "data": {
      "text/plain": [
       "FITS_rec([(1738.64698987,  2.7868573e-05, 368058,       nan,       nan,      nan,        nan,       nan,       nan, 40, nan, nan, nan, nan,           nan,        nan,           nan,        nan,         nan,         nan),\n",
       "          (1738.64837874,  2.7852215e-05, 368059,       nan,       nan,      nan,        nan,       nan,       nan, 32, nan, nan, nan, nan,           nan,        nan,           nan,        nan,         nan,         nan),\n",
       "          (1738.64976761,  2.7835857e-05, 368060,       nan,       nan,      nan,        nan,       nan,       nan, 32, nan, nan, nan, nan,           nan,        nan,           nan,        nan,         nan,         nan),\n",
       "          ...,\n",
       "          (1763.31618985, -2.0548799e-04, 385820, 177262.42, 47.08233 , 7022.286, 10.582022 , 185192.7 , 50.3815  ,  0, nan, nan, nan, nan, 1204.81297759, 0.00023677, 1044.15145311, 0.00023544, -0.00708831, -0.03591938),\n",
       "          (1763.31757873, -2.0549576e-04, 385821, 177261.55, 47.083122, 7008.328, 10.58023  , 185210.39, 50.382347,  0, nan, nan, nan, nan, 1204.81712161, 0.00023675, 1044.14732978, 0.00023546, -0.00277072, -0.04099214),\n",
       "          (1763.31896761, -2.0550351e-04, 385822, 177440.9 , 47.09824 , 6999.723, 10.5608425, 185329.62, 50.398525,  0, nan, nan, nan, nan, 1204.81810997, 0.00023663, 1044.1538049 , 0.00023518, -0.0025719 , -0.03257247)],\n",
       "         dtype=(numpy.record, [('TIME', '>f8'), ('TIMECORR', '>f4'), ('CADENCENO', '>i4'), ('SAP_FLUX', '>f4'), ('SAP_FLUX_ERR', '>f4'), ('SAP_BKG', '>f4'), ('SAP_BKG_ERR', '>f4'), ('PDCSAP_FLUX', '>f4'), ('PDCSAP_FLUX_ERR', '>f4'), ('QUALITY', '>i4'), ('PSF_CENTR1', '>f8'), ('PSF_CENTR1_ERR', '>f4'), ('PSF_CENTR2', '>f8'), ('PSF_CENTR2_ERR', '>f4'), ('MOM_CENTR1', '>f8'), ('MOM_CENTR1_ERR', '>f4'), ('MOM_CENTR2', '>f8'), ('MOM_CENTR2_ERR', '>f4'), ('POS_CORR1', '>f4'), ('POS_CORR2', '>f4')]))"
      ]
     },
     "execution_count": 26,
     "metadata": {},
     "output_type": "execute_result"
    }
   ],
   "source": [
    "data"
   ]
  },
  {
   "cell_type": "code",
   "execution_count": 30,
   "metadata": {},
   "outputs": [],
   "source": [
    "# https://stackoverflow.com/questions/7842157/how-to-convert-numpy-recarray-to-numpy-array\n",
    "# data.astype('>f4')"
   ]
  },
  {
   "cell_type": "code",
   "execution_count": 31,
   "metadata": {},
   "outputs": [],
   "source": [
    "data = data.tolist()"
   ]
  },
  {
   "cell_type": "code",
   "execution_count": 32,
   "metadata": {},
   "outputs": [],
   "source": [
    "normalized = []\n",
    "ts = []\n",
    "for entry in data:\n",
    "    time = entry[0]\n",
    "    flux = entry[3]\n",
    "    flux_err = entry[4]\n",
    "    normd_flux = flux/flux_err\n",
    "    ts.append(time)\n",
    "    normalized.append(normd_flux)"
   ]
  },
  {
   "cell_type": "code",
   "execution_count": 33,
   "metadata": {},
   "outputs": [
    {
     "data": {
      "text/plain": [
       "<matplotlib.axes._subplots.AxesSubplot at 0x7f989d38f8d0>"
      ]
     },
     "execution_count": 33,
     "metadata": {},
     "output_type": "execute_result"
    },
    {
     "data": {
      "image/png": "[encoded data removed]",
      "text/plain": [
       "<Figure size 432x288 with 1 Axes>"
      ]
     },
     "metadata": {
      "needs_background": "light"
     },
     "output_type": "display_data"
    }
   ],
   "source": [
    "sns.lineplot(x=ts, y=normalized)"
   ]
  },
  {
   "cell_type": "code",
   "execution_count": 35,
   "metadata": {},
   "outputs": [
    {
     "data": {
      "text/plain": [
       "17765"
      ]
     },
     "execution_count": 35,
     "metadata": {},
     "output_type": "execute_result"
    }
   ],
   "source": [
    "len(normalized)"
   ]
  },
  {
   "cell_type": "code",
   "execution_count": null,
   "metadata": {},
   "outputs": [],
   "source": []
  },
  {
   "cell_type": "code",
   "execution_count": null,
   "metadata": {},
   "outputs": [],
   "source": []
  },
  {
   "cell_type": "code",
   "execution_count": null,
   "metadata": {},
   "outputs": [],
   "source": []
  }
 ],
 "metadata": {
  "kernelspec": {
   "display_name": "Python 3",
   "language": "python",
   "name": "python3"
  },
  "language_info": {
   "codemirror_mode": {
    "name": "ipython",
    "version": 3
   },
   "file_extension": ".py",
   "mimetype": "text/x-python",
   "name": "python",
   "nbconvert_exporter": "python",
   "pygments_lexer": "ipython3",
   "version": "3.7.3"
  }
 },
 "nbformat": 4,
 "nbformat_minor": 2
}
