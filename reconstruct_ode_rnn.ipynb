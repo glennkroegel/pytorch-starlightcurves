{
 "cells": [
  {
   "cell_type": "code",
   "execution_count": 3,
   "metadata": {},
   "outputs": [],
   "source": [
    "import torch\n",
    "import pandas as pd\n",
    "import astropy as ap\n",
    "import numpy as np\n",
    "import matplotlib.pyplot as plt \n",
    "import seaborn as sns\n",
    "# from astropy.io import fits\n",
    "import pdb\n",
    "from scipy.ndimage.filters import maximum_filter1d\n",
    "import glob\n",
    "import fitsio as fits\n",
    "import torch\n",
    "import torch.nn as nn\n",
    "import torch.nn.functional as F\n",
    "import torch.utils.data as data_utils\n",
    "from torch.nn.utils import clip_grad_norm_\n",
    "from torch.nn.utils.rnn import pack_padded_sequence, pad_packed_sequence, pad_sequence\n",
    "from torch.distributions.normal import Normal\n",
    "from tqdm import tqdm"
   ]
  },
  {
   "cell_type": "code",
   "execution_count": 4,
   "metadata": {},
   "outputs": [],
   "source": [
    "import sys\n",
    "sys.path.insert(0, '../')\n",
    "sys.path.insert(1, '../latent_ode/')\n",
    "import latent_ode.lib as ode\n",
    "import latent_ode.lib.utils as utils\n",
    "from latent_ode.lib.latent_ode import LatentODE\n",
    "from latent_ode.lib.ode_rnn import ODE_RNN\n",
    "from latent_ode.lib.encoder_decoder import Encoder_z0_ODE_RNN, Decoder\n",
    "from latent_ode.lib.diffeq_solver import DiffeqSolver\n",
    "from latent_ode.lib.ode_func import ODEFunc"
   ]
  },
  {
   "cell_type": "markdown",
   "metadata": {},
   "source": [
    "### Loading"
   ]
  },
  {
   "cell_type": "code",
   "execution_count": 5,
   "metadata": {},
   "outputs": [],
   "source": [
    "# device = torch.device(\"cuda\" if torch.cuda.is_available() else \"cpu\")\n",
    "device = torch.device(\"cpu\")"
   ]
  },
  {
   "cell_type": "code",
   "execution_count": 6,
   "metadata": {},
   "outputs": [],
   "source": [
    "##################################################################\n",
    "# Options\n",
    "input_dim = 1\n",
    "classif_per_tp = False\n",
    "n_labels = 1\n",
    "niters = 1\n",
    "status_properties = ['loss']\n",
    "latent_dim = 25\n",
    "\n",
    "##################################################################\n",
    "# Model\n",
    "obsrv_std = torch.Tensor([0.1]).to(device)\n",
    "z0_prior = Normal(torch.Tensor([0.0]).to(device), torch.Tensor([1.]).to(device))\n",
    "gru_units = 40\n",
    "n_ode_gru_dims = latent_dim\n",
    "\t\t\t\t\n",
    "ode_func_net = utils.create_net(n_ode_gru_dims, n_ode_gru_dims, \n",
    "    n_layers = 2, n_units = 50, nonlinear = nn.Tanh)\n",
    "\n",
    "rec_ode_func = ODEFunc(\n",
    "    input_dim = input_dim, \n",
    "    latent_dim = n_ode_gru_dims,\n",
    "    ode_func_net = ode_func_net,\n",
    "    device = device).to(device)\n",
    "\n",
    "z0_diffeq_solver = DiffeqSolver(input_dim, rec_ode_func, \"dopri5\", latent_dim, \n",
    "    odeint_rtol = 1e-3, odeint_atol = 1e-4, device = device)\n",
    "\n",
    "model = ODE_RNN(input_dim=input_dim, latent_dim=latent_dim, \n",
    "            n_gru_units = 50, n_units = 50, device = device, \n",
    "\t\t\tz0_diffeq_solver = z0_diffeq_solver,\n",
    "\t\t\tconcat_mask = True, obsrv_std = obsrv_std,\n",
    "\t\t\tuse_binary_classif = False,\n",
    "\t\t\tclassif_per_tp = False,\n",
    "\t\t\tn_labels = 1,\n",
    "\t\t\ttrain_classif_w_reconstr = False\n",
    "\t\t\t).to(device)"
   ]
  },
  {
   "cell_type": "code",
   "execution_count": 7,
   "metadata": {},
   "outputs": [],
   "source": [
    "model_file = 'ode_rnn_state_ucr.pth.tar'"
   ]
  },
  {
   "cell_type": "code",
   "execution_count": 8,
   "metadata": {},
   "outputs": [],
   "source": [
    "state = torch.load(model_file, map_location=torch.device('cpu'))"
   ]
  },
  {
   "cell_type": "code",
   "execution_count": 9,
   "metadata": {},
   "outputs": [
    {
     "data": {
      "text/plain": [
       "<All keys matched successfully>"
      ]
     },
     "execution_count": 9,
     "metadata": {},
     "output_type": "execute_result"
    }
   ],
   "source": [
    "model.load_state_dict(state['state_dict'])"
   ]
  },
  {
   "cell_type": "code",
   "execution_count": 10,
   "metadata": {},
   "outputs": [
    {
     "data": {
      "text/plain": [
       "ODE_RNN(\n",
       "  (ode_gru): Encoder_z0_ODE_RNN(\n",
       "    (GRU_update): GRU_unit(\n",
       "      (update_gate): Sequential(\n",
       "        (0): Linear(in_features=52, out_features=50, bias=True)\n",
       "        (1): Tanh()\n",
       "        (2): Linear(in_features=50, out_features=25, bias=True)\n",
       "        (3): Sigmoid()\n",
       "      )\n",
       "      (reset_gate): Sequential(\n",
       "        (0): Linear(in_features=52, out_features=50, bias=True)\n",
       "        (1): Tanh()\n",
       "        (2): Linear(in_features=50, out_features=25, bias=True)\n",
       "        (3): Sigmoid()\n",
       "      )\n",
       "      (new_state_net): Sequential(\n",
       "        (0): Linear(in_features=52, out_features=50, bias=True)\n",
       "        (1): Tanh()\n",
       "        (2): Linear(in_features=50, out_features=50, bias=True)\n",
       "      )\n",
       "    )\n",
       "    (z0_diffeq_solver): DiffeqSolver(\n",
       "      (ode_func): ODEFunc(\n",
       "        (gradient_net): Sequential(\n",
       "          (0): Linear(in_features=25, out_features=50, bias=True)\n",
       "          (1): Tanh()\n",
       "          (2): Linear(in_features=50, out_features=50, bias=True)\n",
       "          (3): Tanh()\n",
       "          (4): Linear(in_features=50, out_features=50, bias=True)\n",
       "          (5): Tanh()\n",
       "          (6): Linear(in_features=50, out_features=25, bias=True)\n",
       "        )\n",
       "      )\n",
       "    )\n",
       "    (transform_z0): Sequential(\n",
       "      (0): Linear(in_features=50, out_features=100, bias=True)\n",
       "      (1): Tanh()\n",
       "      (2): Linear(in_features=100, out_features=50, bias=True)\n",
       "    )\n",
       "  )\n",
       "  (z0_diffeq_solver): DiffeqSolver(\n",
       "    (ode_func): ODEFunc(\n",
       "      (gradient_net): Sequential(\n",
       "        (0): Linear(in_features=25, out_features=50, bias=True)\n",
       "        (1): Tanh()\n",
       "        (2): Linear(in_features=50, out_features=50, bias=True)\n",
       "        (3): Tanh()\n",
       "        (4): Linear(in_features=50, out_features=50, bias=True)\n",
       "        (5): Tanh()\n",
       "        (6): Linear(in_features=50, out_features=25, bias=True)\n",
       "      )\n",
       "    )\n",
       "  )\n",
       "  (decoder): Sequential(\n",
       "    (0): Linear(in_features=25, out_features=50, bias=True)\n",
       "    (1): Tanh()\n",
       "    (2): Linear(in_features=50, out_features=1, bias=True)\n",
       "  )\n",
       ")"
      ]
     },
     "execution_count": 10,
     "metadata": {},
     "output_type": "execute_result"
    }
   ],
   "source": [
    "model.eval()"
   ]
  },
  {
   "cell_type": "code",
   "execution_count": 11,
   "metadata": {},
   "outputs": [],
   "source": [
    "loader = torch.load('ucr_cv.pt')"
   ]
  },
  {
   "cell_type": "markdown",
   "metadata": {},
   "source": [
    "## Inference"
   ]
  },
  {
   "cell_type": "code",
   "execution_count": 12,
   "metadata": {},
   "outputs": [
    {
     "name": "stderr",
     "output_type": "stream",
     "text": [
      "100%|██████████| 21/21 [00:09<00:00,  2.20it/s]\n"
     ]
    }
   ],
   "source": [
    "z_us = []\n",
    "z_stds = []\n",
    "truths = []\n",
    "ts = []\n",
    "recs = []\n",
    "rec_stds = []\n",
    "samples = []\n",
    "for batch in tqdm(loader):\n",
    "    observed = batch['observed_data'].to(device)\n",
    "    true = batch['data_to_predict'].to(device)\n",
    "    truths.extend([x for x in true])\n",
    "    mask = batch['observed_mask'].to(device)\n",
    "    mask_pred = batch['mask_predicted_data']#.to(device)\n",
    "#     mask_pred = torch.ones(mask.shape)\n",
    "    x = torch.cat((observed, mask), -1)\n",
    "#     if not mask_pred:\n",
    "#         mask_pred = torch.ones(true.shape)\n",
    "    mask_pred = mask_pred.to(device)\n",
    "    x2 = torch.cat((true, mask_pred), -1)\n",
    "    t = batch['observed_tp'].to(device)\n",
    "#     truth_time_steps = t[mask.nonzero()]\n",
    "#     ts.append(t.detach().cpu())\n",
    "    z_u, z_std = model.ode_gru.forward(x, t)\n",
    "    rec = model.get_reconstruction(\n",
    "        time_steps_to_predict=t, data=observed, truth_time_steps=t, mask=mask, n_traj_samples=20)[0].detach().cpu().squeeze()\n",
    "#     rec_u = rec.mean(dim=0)\n",
    "#     rec_std = rec.std(dim=0)\n",
    "    recs.extend([x for x in rec])\n",
    "#     rec_stds.extend([x for x in rec_std])\n",
    "#     z_u = z_u.squeeze()\n",
    "    z_u = z_u.detach().cpu()\n",
    "    z_std = z_std.detach().cpu()\n",
    "    z_us.append(z_u)\n",
    "    z_stds.append(z_std)"
   ]
  },
  {
   "cell_type": "code",
   "execution_count": 13,
   "metadata": {},
   "outputs": [],
   "source": [
    "ix = 100"
   ]
  },
  {
   "cell_type": "code",
   "execution_count": 14,
   "metadata": {},
   "outputs": [],
   "source": [
    "# y = samples[ix].detach().cpu().numpy().reshape(1,-1)\n",
    "y = recs[ix].numpy().reshape(1,-1)\n",
    "x = t.detach().cpu().numpy().reshape(1,-1)\n",
    "y_true = truths[ix].detach().cpu().numpy().reshape(1,-1)"
   ]
  },
  {
   "cell_type": "code",
   "execution_count": 15,
   "metadata": {},
   "outputs": [],
   "source": [
    "d_predict = np.concatenate([x, y], axis=0).T\n",
    "d_true = np.concatenate([x, y_true], axis=0).T"
   ]
  },
  {
   "cell_type": "code",
   "execution_count": 16,
   "metadata": {},
   "outputs": [],
   "source": [
    "df_predict = pd.DataFrame(d_predict, columns = ['t', 'value'])\n",
    "df_predict['type'] = 'prediction'\n",
    "df_truth = pd.DataFrame(d_true, columns = ['t', 'value'])\n",
    "df_truth['type'] = 'truth'\n",
    "df = pd.concat([df_predict, df_truth], 0)"
   ]
  },
  {
   "cell_type": "code",
   "execution_count": 17,
   "metadata": {},
   "outputs": [
    {
     "data": {
      "text/plain": [
       "<matplotlib.axes._subplots.AxesSubplot at 0x7f38d3d7b240>"
      ]
     },
     "execution_count": 17,
     "metadata": {},
     "output_type": "execute_result"
    },
    {
     "data": {
      "image/png": "[encoded data removed]",
      "text/plain": [
       "<Figure size 432x288 with 1 Axes>"
      ]
     },
     "metadata": {
      "needs_background": "light"
     },
     "output_type": "display_data"
    }
   ],
   "source": [
    "sns.scatterplot(x='t', y='value', data=df, hue='type')"
   ]
  },
  {
   "cell_type": "code",
   "execution_count": null,
   "metadata": {},
   "outputs": [],
   "source": [
    "break"
   ]
  },
  {
   "cell_type": "markdown",
   "metadata": {},
   "source": [
    "### Plot Multiple"
   ]
  },
  {
   "cell_type": "code",
   "execution_count": 21,
   "metadata": {},
   "outputs": [],
   "source": [
    "loader = torch.load('ucr_cv.pt')"
   ]
  },
  {
   "cell_type": "code",
   "execution_count": 22,
   "metadata": {},
   "outputs": [],
   "source": [
    "batch = next(iter(loader))"
   ]
  },
  {
   "cell_type": "code",
   "execution_count": 23,
   "metadata": {},
   "outputs": [],
   "source": [
    "ix = 3"
   ]
  },
  {
   "cell_type": "code",
   "execution_count": 24,
   "metadata": {},
   "outputs": [],
   "source": [
    "observed = batch['observed_data'][ix].unsqueeze(0).to(device)\n",
    "true = batch['data_to_predict'][ix].unsqueeze(0).to(device)\n",
    "mask = batch['observed_mask'][ix].unsqueeze(0).to(device)\n",
    "t = batch['observed_tp'].to(device)"
   ]
  },
  {
   "cell_type": "code",
   "execution_count": 25,
   "metadata": {},
   "outputs": [
    {
     "data": {
      "text/plain": [
       "torch.Size([1, 128, 1])"
      ]
     },
     "execution_count": 25,
     "metadata": {},
     "output_type": "execute_result"
    }
   ],
   "source": [
    "observed.shape"
   ]
  },
  {
   "cell_type": "code",
   "execution_count": 26,
   "metadata": {},
   "outputs": [
    {
     "ename": "TypeError",
     "evalue": "get_reconstruction() got an unexpected keyword argument 'truth'",
     "output_type": "error",
     "traceback": [
      "\u001b[0;31m---------------------------------------------------------------------------\u001b[0m",
      "\u001b[0;31mTypeError\u001b[0m                                 Traceback (most recent call last)",
      "\u001b[0;32m<ipython-input-26-a5d448295b5f>\u001b[0m in \u001b[0;36m<module>\u001b[0;34m\u001b[0m\n\u001b[1;32m      4\u001b[0m     \u001b[0mtruth_time_steps\u001b[0m\u001b[0;34m=\u001b[0m\u001b[0mt\u001b[0m\u001b[0;34m,\u001b[0m\u001b[0;34m\u001b[0m\u001b[0;34m\u001b[0m\u001b[0m\n\u001b[1;32m      5\u001b[0m     \u001b[0mmask\u001b[0m\u001b[0;34m=\u001b[0m\u001b[0mmask\u001b[0m\u001b[0;34m,\u001b[0m\u001b[0;34m\u001b[0m\u001b[0;34m\u001b[0m\u001b[0m\n\u001b[0;32m----> 6\u001b[0;31m     n_traj_samples=50)[0].detach().cpu().squeeze()\n\u001b[0m",
      "\u001b[0;31mTypeError\u001b[0m: get_reconstruction() got an unexpected keyword argument 'truth'"
     ]
    }
   ],
   "source": [
    "rec = model.get_reconstruction(\n",
    "    time_steps_to_predict=t, \n",
    "    truth=observed, \n",
    "    truth_time_steps=t, \n",
    "    mask=mask, \n",
    "    n_traj_samples=50)[0].detach().cpu().squeeze()"
   ]
  },
  {
   "cell_type": "code",
   "execution_count": null,
   "metadata": {},
   "outputs": [],
   "source": [
    "u = rec.mean(dim=0).detach().cpu().numpy()\n",
    "recs = rec.detach().cpu().numpy()\n",
    "t = t.detach().cpu().numpy()"
   ]
  },
  {
   "cell_type": "code",
   "execution_count": null,
   "metadata": {},
   "outputs": [],
   "source": [
    "plt.style.use('seaborn-darkgrid')\n",
    "# my_dpi=48\n",
    "font = {'family': 'serif',\n",
    "        'color':  'black',\n",
    "        'weight': 'normal',\n",
    "        'size': 8,\n",
    "        }"
   ]
  },
  {
   "cell_type": "code",
   "execution_count": null,
   "metadata": {},
   "outputs": [],
   "source": [
    "# plt.figure(figsize=(1.5*480/my_dpi, 480/my_dpi), dpi=my_dpi)\n",
    "for r in recs:\n",
    "    plt.plot(t, r, marker='', color='grey', linewidth=1, alpha=0.4)\n",
    "plt.plot(t, u, marker='', color='orange', linewidth=2, alpha=1)\n",
    "plt.xlabel(\"Time\", fontdict=font)\n",
    "plt.ylabel(\"Magnitude\", fontdict=font)\n",
    "plt.tick_params(\n",
    "    axis='both',          # changes apply to the x-axis\n",
    "    which='both',      # both major and minor ticks are affected\n",
    "    bottom=False,      # ticks along the bottom edge are off\n",
    "    top=False,         # ticks along the top edge are off\n",
    "    labelbottom=False,\n",
    "    labelleft=False,\n",
    "    right=False, \n",
    "    left=False)"
   ]
  },
  {
   "cell_type": "code",
   "execution_count": null,
   "metadata": {},
   "outputs": [],
   "source": []
  },
  {
   "cell_type": "code",
   "execution_count": null,
   "metadata": {},
   "outputs": [],
   "source": []
  },
  {
   "cell_type": "code",
   "execution_count": null,
   "metadata": {},
   "outputs": [],
   "source": []
  },
  {
   "cell_type": "code",
   "execution_count": null,
   "metadata": {},
   "outputs": [],
   "source": []
  }
 ],
 "metadata": {
  "kernelspec": {
   "display_name": "Python 3",
   "language": "python",
   "name": "python3"
  },
  "language_info": {
   "codemirror_mode": {
    "name": "ipython",
    "version": 3
   },
   "file_extension": ".py",
   "mimetype": "text/x-python",
   "name": "python",
   "nbconvert_exporter": "python",
   "pygments_lexer": "ipython3",
   "version": "3.7.3"
  }
 },
 "nbformat": 4,
 "nbformat_minor": 2
}
