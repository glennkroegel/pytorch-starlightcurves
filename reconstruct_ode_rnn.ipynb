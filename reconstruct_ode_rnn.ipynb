{
 "cells": [
  {
   "cell_type": "code",
   "execution_count": 1,
   "metadata": {},
   "outputs": [],
   "source": [
    "import torch\n",
    "import pandas as pd\n",
    "import astropy as ap\n",
    "import numpy as np\n",
    "import matplotlib.pyplot as plt \n",
    "import seaborn as sns\n",
    "# from astropy.io import fits\n",
    "import pdb\n",
    "from scipy.ndimage.filters import maximum_filter1d\n",
    "import glob\n",
    "import fitsio as fits\n",
    "import torch\n",
    "import torch.nn as nn\n",
    "import torch.nn.functional as F\n",
    "import torch.utils.data as data_utils\n",
    "from torch.nn.utils import clip_grad_norm_\n",
    "from torch.nn.utils.rnn import pack_padded_sequence, pad_packed_sequence, pad_sequence\n",
    "from torch.distributions.normal import Normal\n",
    "from tqdm import tqdm"
   ]
  },
  {
   "cell_type": "code",
   "execution_count": 2,
   "metadata": {},
   "outputs": [],
   "source": [
    "import sys\n",
    "sys.path.insert(0, '../')\n",
    "sys.path.insert(1, '../latent_ode/')\n",
    "import latent_ode.lib as ode\n",
    "import latent_ode.lib.utils as utils\n",
    "from latent_ode.lib.latent_ode import LatentODE\n",
    "from latent_ode.lib.ode_rnn import ODE_RNN\n",
    "from latent_ode.lib.encoder_decoder import Encoder_z0_ODE_RNN, Decoder\n",
    "from latent_ode.lib.diffeq_solver import DiffeqSolver\n",
    "from latent_ode.lib.ode_func import ODEFunc"
   ]
  },
  {
   "cell_type": "markdown",
   "metadata": {},
   "source": [
    "### Loading"
   ]
  },
  {
   "cell_type": "code",
   "execution_count": 3,
   "metadata": {},
   "outputs": [],
   "source": [
    "# device = torch.device(\"cuda\" if torch.cuda.is_available() else \"cpu\")\n",
    "device = torch.device(\"cpu\")"
   ]
  },
  {
   "cell_type": "code",
   "execution_count": 4,
   "metadata": {},
   "outputs": [],
   "source": [
    "\n",
    "##################################################################\n",
    "# Options\n",
    "input_dim = 1\n",
    "classif_per_tp = False\n",
    "n_labels = 1\n",
    "niters = 1\n",
    "status_properties = ['loss']\n",
    "latent_dim = 40\n",
    "\n",
    "##################################################################\n",
    "# Model\n",
    "obsrv_std = torch.Tensor([0.1]).to(device)\n",
    "z0_prior = Normal(torch.Tensor([0.0]).to(device), torch.Tensor([1.]).to(device))\n",
    "gru_units = 40\n",
    "n_ode_gru_dims = latent_dim\n",
    "\t\t\t\t\n",
    "ode_func_net = utils.create_net(n_ode_gru_dims, n_ode_gru_dims, \n",
    "    n_layers = 2, n_units = 100, nonlinear = nn.Tanh)\n",
    "\n",
    "rec_ode_func = ODEFunc(\n",
    "    input_dim = input_dim, \n",
    "    latent_dim = n_ode_gru_dims,\n",
    "    ode_func_net = ode_func_net,\n",
    "    device = device).to(device)\n",
    "\n",
    "z0_diffeq_solver = DiffeqSolver(input_dim, rec_ode_func, \"dopri5\", latent_dim, \n",
    "    odeint_rtol = 1e-3, odeint_atol = 1e-4, device = device)\n",
    "\n",
    "model = ODE_RNN(input_dim=input_dim, latent_dim=latent_dim, \n",
    "            n_gru_units = 100, n_units = 100, device = device, \n",
    "\t\t\tz0_diffeq_solver = z0_diffeq_solver,\n",
    "\t\t\tconcat_mask = True, obsrv_std = obsrv_std,\n",
    "\t\t\tuse_binary_classif = False,\n",
    "\t\t\tclassif_per_tp = False,\n",
    "\t\t\tn_labels = 1,\n",
    "\t\t\ttrain_classif_w_reconstr = False\n",
    "\t\t\t).to(device)\n",
    "\n",
    "disable_bias = True\n",
    "if disable_bias:\n",
    "    for module in model.modules():\n",
    "        if hasattr(module, 'bias'):\n",
    "            module.bias = None\n",
    "\n",
    "##################################################################"
   ]
  },
  {
   "cell_type": "code",
   "execution_count": 5,
   "metadata": {},
   "outputs": [],
   "source": [
    "model_file = 'ode_rnn_state_gaia.pth.tar'"
   ]
  },
  {
   "cell_type": "code",
   "execution_count": 6,
   "metadata": {},
   "outputs": [],
   "source": [
    "state = torch.load(model_file, map_location=torch.device('cpu'))"
   ]
  },
  {
   "cell_type": "code",
   "execution_count": 7,
   "metadata": {},
   "outputs": [
    {
     "data": {
      "text/plain": [
       "<All keys matched successfully>"
      ]
     },
     "execution_count": 7,
     "metadata": {},
     "output_type": "execute_result"
    }
   ],
   "source": [
    "model.load_state_dict(state['state_dict'])"
   ]
  },
  {
   "cell_type": "code",
   "execution_count": 8,
   "metadata": {},
   "outputs": [
    {
     "data": {
      "text/plain": [
       "ODE_RNN(\n",
       "  (ode_gru): Encoder_z0_ODE_RNN(\n",
       "    (GRU_update): GRU_unit(\n",
       "      (update_gate): Sequential(\n",
       "        (0): Linear(in_features=82, out_features=100, bias=False)\n",
       "        (1): Tanh()\n",
       "        (2): Linear(in_features=100, out_features=40, bias=False)\n",
       "        (3): Sigmoid()\n",
       "      )\n",
       "      (reset_gate): Sequential(\n",
       "        (0): Linear(in_features=82, out_features=100, bias=False)\n",
       "        (1): Tanh()\n",
       "        (2): Linear(in_features=100, out_features=40, bias=False)\n",
       "        (3): Sigmoid()\n",
       "      )\n",
       "      (new_state_net): Sequential(\n",
       "        (0): Linear(in_features=82, out_features=100, bias=False)\n",
       "        (1): Tanh()\n",
       "        (2): Linear(in_features=100, out_features=80, bias=False)\n",
       "      )\n",
       "    )\n",
       "    (z0_diffeq_solver): DiffeqSolver(\n",
       "      (ode_func): ODEFunc(\n",
       "        (gradient_net): Sequential(\n",
       "          (0): Linear(in_features=40, out_features=100, bias=False)\n",
       "          (1): Tanh()\n",
       "          (2): Linear(in_features=100, out_features=100, bias=False)\n",
       "          (3): Tanh()\n",
       "          (4): Linear(in_features=100, out_features=100, bias=False)\n",
       "          (5): Tanh()\n",
       "          (6): Linear(in_features=100, out_features=40, bias=False)\n",
       "        )\n",
       "      )\n",
       "    )\n",
       "    (transform_z0): Sequential(\n",
       "      (0): Linear(in_features=80, out_features=100, bias=False)\n",
       "      (1): Tanh()\n",
       "      (2): Linear(in_features=100, out_features=80, bias=False)\n",
       "    )\n",
       "  )\n",
       "  (z0_diffeq_solver): DiffeqSolver(\n",
       "    (ode_func): ODEFunc(\n",
       "      (gradient_net): Sequential(\n",
       "        (0): Linear(in_features=40, out_features=100, bias=False)\n",
       "        (1): Tanh()\n",
       "        (2): Linear(in_features=100, out_features=100, bias=False)\n",
       "        (3): Tanh()\n",
       "        (4): Linear(in_features=100, out_features=100, bias=False)\n",
       "        (5): Tanh()\n",
       "        (6): Linear(in_features=100, out_features=40, bias=False)\n",
       "      )\n",
       "    )\n",
       "  )\n",
       "  (decoder): Sequential(\n",
       "    (0): Linear(in_features=40, out_features=100, bias=False)\n",
       "    (1): Tanh()\n",
       "    (2): Linear(in_features=100, out_features=1, bias=False)\n",
       "  )\n",
       ")"
      ]
     },
     "execution_count": 8,
     "metadata": {},
     "output_type": "execute_result"
    }
   ],
   "source": [
    "model.eval()"
   ]
  },
  {
   "cell_type": "code",
   "execution_count": 9,
   "metadata": {},
   "outputs": [],
   "source": [
    "loader = torch.load('gaia_cv.pt')"
   ]
  },
  {
   "cell_type": "markdown",
   "metadata": {},
   "source": [
    "## Inference"
   ]
  },
  {
   "cell_type": "code",
   "execution_count": 10,
   "metadata": {},
   "outputs": [
    {
     "name": "stderr",
     "output_type": "stream",
     "text": [
      "100%|██████████| 7/7 [00:05<00:00,  1.36it/s]\n"
     ]
    }
   ],
   "source": [
    "z_us = []\n",
    "z_stds = []\n",
    "truths = []\n",
    "ts = []\n",
    "recs = []\n",
    "rec_stds = []\n",
    "samples = []\n",
    "for batch in tqdm(loader):\n",
    "    observed = batch['observed_data'].to(device)\n",
    "    true = batch['data_to_predict'].to(device)\n",
    "    truths.extend([x for x in true])\n",
    "    mask = batch['observed_mask'].to(device)\n",
    "    mask_pred = batch['mask_predicted_data']#.to(device)\n",
    "#     mask_pred = torch.ones(mask.shape)\n",
    "    x = torch.cat((observed, mask), -1)\n",
    "#     if not mask_pred:\n",
    "#         mask_pred = torch.ones(true.shape)\n",
    "    mask_pred = mask_pred.to(device)\n",
    "    x2 = torch.cat((true, mask_pred), -1)\n",
    "    t = batch['observed_tp'].to(device)\n",
    "#     truth_time_steps = t[mask.nonzero()]\n",
    "#     ts.append(t.detach().cpu())\n",
    "    z_u, z_std = model.ode_gru.forward(x, t)\n",
    "    rec = model.get_reconstruction(\n",
    "        time_steps_to_predict=t, data=observed, truth_time_steps=t, mask=mask, n_traj_samples=20)[0].detach().cpu().squeeze()\n",
    "#     rec_u = rec.mean(dim=0)\n",
    "#     rec_std = rec.std(dim=0)\n",
    "    recs.extend([x for x in rec])\n",
    "#     rec_stds.extend([x for x in rec_std])\n",
    "#     z_u = z_u.squeeze()\n",
    "    z_u = z_u.detach().cpu()\n",
    "    z_std = z_std.detach().cpu()\n",
    "    z_us.append(z_u)\n",
    "    z_stds.append(z_std)"
   ]
  },
  {
   "cell_type": "code",
   "execution_count": 11,
   "metadata": {},
   "outputs": [
    {
     "data": {
      "text/plain": [
       "tensor([[0.0000, 0.0000, 0.0000, 0.0000, 0.0000, 0.0000, 0.0000, 0.6123, 0.7034,\n",
       "         0.7631, 0.7736, 0.7092, 0.6451, 0.6754, 0.6875, 0.6907, 0.7340, 0.7373,\n",
       "         0.7389, 0.7386, 0.7362, 0.7352, 0.7329, 0.7322, 0.7311, 0.7309, 0.7313,\n",
       "         0.7316, 0.7331, 0.7338, 0.7339, 0.7833, 0.7880, 0.7884, 0.7816, 0.7858,\n",
       "         0.6842, 0.6943, 0.6974, 0.6840, 0.6921, 0.6918, 0.6649, 0.6704, 0.6699,\n",
       "         0.6679, 0.6637, 0.6626, 0.6624, 0.6627],\n",
       "        [0.0000, 0.0000, 0.0000, 0.0000, 0.0000, 0.0000, 0.0000, 0.6086, 0.6411,\n",
       "         0.6218, 0.6309, 0.7245, 0.7301, 0.7306, 0.6479, 0.6501, 0.6516, 0.6517,\n",
       "         0.6509, 0.6505, 0.6498, 0.6496, 0.6498, 0.6500, 0.6512, 0.6518, 0.6539,\n",
       "         0.6549, 0.6577, 0.6589, 0.6591, 0.6620, 0.6634, 0.6636, 0.6669, 0.6683,\n",
       "         0.6686, 0.6649, 0.6694, 0.7173, 0.6815, 0.6850, 0.6627, 0.6709, 0.6438,\n",
       "         0.6492, 0.6463, 0.6446, 0.6440, 0.6434],\n",
       "        [0.0000, 0.0000, 0.0000, 0.0000, 0.0000, 0.0000, 0.0000, 0.0000, 0.0000,\n",
       "         0.5542, 0.5516, 0.6558, 0.6268, 0.6349, 0.6740, 0.7183, 0.7254, 0.6614,\n",
       "         0.7086, 0.7119, 0.6827, 0.6854, 0.6477, 0.6500, 0.6537, 0.6560, 0.6349,\n",
       "         0.6370, 0.6610, 0.6634, 0.6635, 0.7101, 0.7127, 0.7547, 0.7804, 0.7840,\n",
       "         0.7842, 0.7877, 0.6870, 0.6764, 0.6844, 0.6257, 0.6327, 0.6395, 0.6389,\n",
       "         0.6364, 0.6307, 0.6290, 0.6285, 0.6284],\n",
       "        [0.0000, 0.0000, 0.0000, 0.0000, 0.0000, 0.0000, 0.0000, 0.6684, 0.6521,\n",
       "         0.5811, 0.5218, 0.5598, 0.5388, 0.5179, 0.4847, 0.4855, 0.5501, 0.5514,\n",
       "         0.5508, 0.5501, 0.5477, 0.5468, 0.5449, 0.5443, 0.5435, 0.5433, 0.5437,\n",
       "         0.5440, 0.5453, 0.5459, 0.5460, 0.5477, 0.5486, 0.5487, 0.6161, 0.6192,\n",
       "         0.6172, 0.5472, 0.5489, 0.5504, 0.5548, 0.5649, 0.5650, 0.5180, 0.5371,\n",
       "         0.5404, 0.5355, 0.5329, 0.5320, 0.5306],\n",
       "        [0.0000, 0.0000, 0.0000, 0.0000, 0.0000, 0.0000, 0.0000, 0.0000, 0.0000,\n",
       "         0.0000, 0.0000, 0.0000, 0.0000, 0.5905, 0.5883, 0.6535, 0.6418, 0.6759,\n",
       "         0.6487, 0.6880, 0.6923, 0.6491, 0.7237, 0.7533, 0.7818, 0.7433, 0.7660,\n",
       "         0.7701, 0.7017, 0.7047, 0.7096, 0.7181, 0.6244, 0.6071, 0.6132, 0.5513,\n",
       "         0.5918, 0.5969, 0.6868, 0.6308, 0.6377, 0.6371, 0.6370, 0.6342, 0.6323,\n",
       "         0.6284, 0.6249, 0.6248, 0.6249, 0.6263],\n",
       "        [0.0000, 0.0000, 0.0000, 0.0000, 0.0000, 0.0000, 0.0000, 0.0000, 0.0000,\n",
       "         0.0000, 0.0000, 0.0000, 0.0000, 0.0000, 0.0000, 0.0000, 0.0000, 0.5628,\n",
       "         0.5603, 0.6590, 0.6588, 0.6148, 0.6544, 0.6871, 0.6518, 0.6522, 0.6910,\n",
       "         0.7567, 0.7625, 0.6606, 0.6322, 0.6395, 0.6392, 0.6192, 0.6236, 0.6230,\n",
       "         0.6229, 0.6208, 0.6196, 0.6194, 0.6167, 0.6158, 0.6157, 0.6141, 0.6138,\n",
       "         0.6136, 0.6163, 0.6186, 0.6195, 0.6222],\n",
       "        [0.0000, 0.0000, 0.0000, 0.0000, 0.0000, 0.0000, 0.0000, 0.0000, 0.0000,\n",
       "         0.0000, 0.0000, 0.0000, 0.0000, 0.0000, 0.0000, 0.0000, 0.0000, 0.5359,\n",
       "         0.5331, 0.6493, 0.6502, 0.6367, 0.6397, 0.6180, 0.6090, 0.5792, 0.5815,\n",
       "         0.6990, 0.7022, 0.7021, 0.6824, 0.6882, 0.6452, 0.6455, 0.6499, 0.6494,\n",
       "         0.6493, 0.6472, 0.6460, 0.6458, 0.6431, 0.6422, 0.6421, 0.6404, 0.6401,\n",
       "         0.6399, 0.6427, 0.6451, 0.6461, 0.6491],\n",
       "        [0.0000, 0.0000, 0.0000, 0.0000, 0.0000, 0.0000, 0.0000, 0.0000, 0.0000,\n",
       "         0.0000, 0.0000, 0.0000, 0.0000, 0.0000, 0.0000, 0.0000, 0.0000, 0.6684,\n",
       "         0.6670, 0.7602, 0.7386, 0.7350, 0.7316, 0.6855, 0.6716, 0.6490, 0.6436,\n",
       "         0.6719, 0.6761, 0.6763, 0.6562, 0.6617, 0.7168, 0.7172, 0.7230, 0.7222,\n",
       "         0.7220, 0.7189, 0.7173, 0.7171, 0.7133, 0.7121, 0.7119, 0.7095, 0.7090,\n",
       "         0.7084, 0.7110, 0.7134, 0.7143, 0.7171],\n",
       "        [0.0000, 0.0000, 0.0000, 0.5292, 0.5629, 0.7048, 0.5928, 0.5941, 0.6126,\n",
       "         0.6142, 0.6186, 0.6204, 0.6252, 0.6271, 0.6324, 0.6344, 0.6401, 0.6423,\n",
       "         0.6484, 0.6507, 0.6570, 0.6595, 0.6660, 0.6685, 0.6751, 0.6776, 0.6842,\n",
       "         0.6866, 0.6930, 0.6954, 0.6958, 0.7014, 0.7037, 0.7040, 0.7093, 0.7114,\n",
       "         0.7117, 0.7165, 0.7184, 0.7187, 0.7229, 0.7245, 0.7248, 0.7283, 0.7298,\n",
       "         0.5813, 0.6819, 0.6340, 0.6398, 0.6486],\n",
       "        [0.3708, 0.5264, 0.5690, 0.6305, 0.7904, 0.8253, 0.8901, 0.9115, 1.0482,\n",
       "         1.0496, 1.0522, 1.0527, 1.0523, 1.0515, 1.0470, 1.0444, 1.0348, 1.0301,\n",
       "         1.0150, 1.0081, 0.9876, 0.9788, 0.9534, 0.9429, 0.9138, 0.9020, 0.8702,\n",
       "         0.8577, 0.8245, 0.8117, 0.8098, 0.7786, 0.7658, 0.7640, 0.7333, 0.7208,\n",
       "         0.7191, 0.6895, 0.6776, 0.6760, 0.6480, 0.6368, 0.6352, 0.6090, 0.5972,\n",
       "         0.5729, 0.5307, 0.5090, 0.5689, 0.7332]])"
      ]
     },
     "execution_count": 11,
     "metadata": {},
     "output_type": "execute_result"
    }
   ],
   "source": [
    "rec"
   ]
  },
  {
   "cell_type": "code",
   "execution_count": 12,
   "metadata": {},
   "outputs": [],
   "source": [
    "ix = 6"
   ]
  },
  {
   "cell_type": "code",
   "execution_count": 13,
   "metadata": {},
   "outputs": [],
   "source": [
    "# y = samples[ix].detach().cpu().numpy().reshape(1,-1)\n",
    "y = recs[ix].numpy().reshape(1,-1)\n",
    "x = t.detach().cpu().numpy().reshape(1,-1)\n",
    "y_true = truths[ix].detach().cpu().numpy().reshape(1,-1)"
   ]
  },
  {
   "cell_type": "code",
   "execution_count": 14,
   "metadata": {},
   "outputs": [
    {
     "ename": "ValueError",
     "evalue": "all the input array dimensions for the concatenation axis must match exactly, but along dimension 1, the array at index 0 has size 50 and the array at index 1 has size 52",
     "output_type": "error",
     "traceback": [
      "\u001b[0;31m---------------------------------------------------------------------------\u001b[0m",
      "\u001b[0;31mValueError\u001b[0m                                Traceback (most recent call last)",
      "\u001b[0;32m<ipython-input-14-0f40f29112a0>\u001b[0m in \u001b[0;36m<module>\u001b[0;34m\u001b[0m\n\u001b[0;32m----> 1\u001b[0;31m \u001b[0md_predict\u001b[0m \u001b[0;34m=\u001b[0m \u001b[0mnp\u001b[0m\u001b[0;34m.\u001b[0m\u001b[0mconcatenate\u001b[0m\u001b[0;34m(\u001b[0m\u001b[0;34m[\u001b[0m\u001b[0mx\u001b[0m\u001b[0;34m,\u001b[0m \u001b[0my\u001b[0m\u001b[0;34m]\u001b[0m\u001b[0;34m,\u001b[0m \u001b[0maxis\u001b[0m\u001b[0;34m=\u001b[0m\u001b[0;36m0\u001b[0m\u001b[0;34m)\u001b[0m\u001b[0;34m.\u001b[0m\u001b[0mT\u001b[0m\u001b[0;34m\u001b[0m\u001b[0;34m\u001b[0m\u001b[0m\n\u001b[0m\u001b[1;32m      2\u001b[0m \u001b[0md_true\u001b[0m \u001b[0;34m=\u001b[0m \u001b[0mnp\u001b[0m\u001b[0;34m.\u001b[0m\u001b[0mconcatenate\u001b[0m\u001b[0;34m(\u001b[0m\u001b[0;34m[\u001b[0m\u001b[0mx\u001b[0m\u001b[0;34m,\u001b[0m \u001b[0my_true\u001b[0m\u001b[0;34m]\u001b[0m\u001b[0;34m,\u001b[0m \u001b[0maxis\u001b[0m\u001b[0;34m=\u001b[0m\u001b[0;36m0\u001b[0m\u001b[0;34m)\u001b[0m\u001b[0;34m.\u001b[0m\u001b[0mT\u001b[0m\u001b[0;34m\u001b[0m\u001b[0;34m\u001b[0m\u001b[0m\n",
      "\u001b[0;32m<__array_function__ internals>\u001b[0m in \u001b[0;36mconcatenate\u001b[0;34m(*args, **kwargs)\u001b[0m\n",
      "\u001b[0;31mValueError\u001b[0m: all the input array dimensions for the concatenation axis must match exactly, but along dimension 1, the array at index 0 has size 50 and the array at index 1 has size 52"
     ]
    }
   ],
   "source": [
    "d_predict = np.concatenate([x, y], axis=0).T\n",
    "d_true = np.concatenate([x, y_true], axis=0).T"
   ]
  },
  {
   "cell_type": "code",
   "execution_count": null,
   "metadata": {},
   "outputs": [],
   "source": [
    "df_predict = pd.DataFrame(d_predict, columns = ['t', 'value'])\n",
    "df_predict['type'] = 'prediction'\n",
    "df_truth = pd.DataFrame(d_true, columns = ['t', 'value'])\n",
    "df_truth['type'] = 'truth'\n",
    "df = pd.concat([df_predict, df_truth], 0)"
   ]
  },
  {
   "cell_type": "code",
   "execution_count": null,
   "metadata": {},
   "outputs": [],
   "source": [
    "sns.scatterplot(x='t', y='value', data=df, hue='type')"
   ]
  },
  {
   "cell_type": "code",
   "execution_count": null,
   "metadata": {},
   "outputs": [],
   "source": [
    "break"
   ]
  },
  {
   "cell_type": "markdown",
   "metadata": {},
   "source": [
    "### Plot Multiple"
   ]
  },
  {
   "cell_type": "code",
   "execution_count": 49,
   "metadata": {},
   "outputs": [],
   "source": [
    "loader = torch.load('gaia_cv.pt')"
   ]
  },
  {
   "cell_type": "code",
   "execution_count": 50,
   "metadata": {},
   "outputs": [],
   "source": [
    "batch = next(iter(loader))"
   ]
  },
  {
   "cell_type": "code",
   "execution_count": 59,
   "metadata": {},
   "outputs": [],
   "source": [
    "ix = 5"
   ]
  },
  {
   "cell_type": "code",
   "execution_count": 60,
   "metadata": {},
   "outputs": [],
   "source": [
    "observed = batch['observed_data'][ix].unsqueeze(0).to(device)\n",
    "true = batch['data_to_predict'][ix].unsqueeze(0).to(device)\n",
    "mask = batch['observed_mask'][ix].unsqueeze(0).to(device)\n",
    "t = batch['observed_tp'].to(device)"
   ]
  },
  {
   "cell_type": "code",
   "execution_count": 61,
   "metadata": {},
   "outputs": [],
   "source": [
    "# a = t.min().item()\n",
    "# b = t.max().item()\n",
    "# step = (b-a)/1000\n",
    "# t=torch.arange(a,b,step)"
   ]
  },
  {
   "cell_type": "code",
   "execution_count": 62,
   "metadata": {},
   "outputs": [
    {
     "data": {
      "text/plain": [
       "torch.Size([1, 52, 1])"
      ]
     },
     "execution_count": 62,
     "metadata": {},
     "output_type": "execute_result"
    }
   ],
   "source": [
    "observed.shape"
   ]
  },
  {
   "cell_type": "code",
   "execution_count": 63,
   "metadata": {},
   "outputs": [],
   "source": [
    "rec = model.get_reconstruction(\n",
    "    time_steps_to_predict=t, \n",
    "    data=observed, \n",
    "    truth_time_steps=t, \n",
    "    mask=mask, \n",
    "    n_traj_samples=20)[0].detach().cpu().squeeze()"
   ]
  },
  {
   "cell_type": "code",
   "execution_count": 64,
   "metadata": {},
   "outputs": [],
   "source": [
    "rec = rec.detach().cpu().numpy()\n",
    "truth = true.detach().squeeze().cpu().numpy()\n",
    "obs = observed.squeeze().detach().cpu().numpy()\n",
    "t_obs = t[obs != 0]\n",
    "obs = obs[obs != 0]\n",
    "t = t.detach().cpu().numpy()"
   ]
  },
  {
   "cell_type": "code",
   "execution_count": 65,
   "metadata": {},
   "outputs": [],
   "source": [
    "plt.style.use('seaborn-darkgrid')\n",
    "font = {'family': 'serif',\n",
    "        'color':  'grey',\n",
    "        'weight': 'light',\n",
    "        'size': 12,\n",
    "        }"
   ]
  },
  {
   "cell_type": "code",
   "execution_count": 66,
   "metadata": {},
   "outputs": [
    {
     "data": {
      "text/plain": [
       "<matplotlib.legend.Legend at 0x7f5e236e4828>"
      ]
     },
     "execution_count": 66,
     "metadata": {},
     "output_type": "execute_result"
    },
    {
     "data": {
      "image/png": "[encoded data removed]",
      "text/plain": [
       "<Figure size 720x360 with 1 Axes>"
      ]
     },
     "metadata": {},
     "output_type": "display_data"
    }
   ],
   "source": [
    "plt.figure(figsize=(10,5))\n",
    "ax = plt.subplot(111)\n",
    "ax.plot(t, rec, marker='', color='orange', linewidth=2, alpha=1, label='Model prediction')\n",
    "ax.plot(t_obs, obs, marker='+', color='black', linestyle='None', alpha=0.7, markersize=7, label='Observations')\n",
    "plt.xlabel(\"Time (MJD)\", fontdict=font)\n",
    "plt.ylabel(\"Normalized Flux\", fontdict=font)\n",
    "ax.legend(loc='center left', bbox_to_anchor=(1.0, 0.9),\n",
    "          ncol=1, fancybox=True, shadow=True)\n",
    "# ax.tick_params(\n",
    "#     axis='both',          # changes apply to the x-axis\n",
    "#     which='both',      # both major and minor ticks are affected\n",
    "#     bottom=False,      # ticks along the bottom edge are off\n",
    "#     top=False,         # ticks along the top edge are off\n",
    "#     labelbottom=False,\n",
    "#     labelleft=False,\n",
    "#     right=False, \n",
    "#     left=False)"
   ]
  },
  {
   "cell_type": "code",
   "execution_count": null,
   "metadata": {},
   "outputs": [],
   "source": []
  },
  {
   "cell_type": "code",
   "execution_count": null,
   "metadata": {},
   "outputs": [],
   "source": []
  },
  {
   "cell_type": "code",
   "execution_count": null,
   "metadata": {},
   "outputs": [],
   "source": []
  },
  {
   "cell_type": "code",
   "execution_count": null,
   "metadata": {},
   "outputs": [],
   "source": []
  }
 ],
 "metadata": {
  "kernelspec": {
   "display_name": "Python 3",
   "language": "python",
   "name": "python3"
  },
  "language_info": {
   "codemirror_mode": {
    "name": "ipython",
    "version": 3
   },
   "file_extension": ".py",
   "mimetype": "text/x-python",
   "name": "python",
   "nbconvert_exporter": "python",
   "pygments_lexer": "ipython3",
   "version": "3.6.9"
  }
 },
 "nbformat": 4,
 "nbformat_minor": 2
}
