{
 "cells": [
  {
   "cell_type": "code",
   "execution_count": 87,
   "metadata": {},
   "outputs": [],
   "source": [
    "import numpy as np\n",
    "import fitsio as fits\n",
    "import glob\n",
    "from tqdm import tqdm\n",
    "from scipy.ndimage.filters import maximum_filter1d"
   ]
  },
  {
   "cell_type": "code",
   "execution_count": 167,
   "metadata": {},
   "outputs": [],
   "source": [
    "indir = 'tess/16/'"
   ]
  },
  {
   "cell_type": "code",
   "execution_count": 168,
   "metadata": {},
   "outputs": [],
   "source": [
    "files = glob.glob(indir + '*.fits')"
   ]
  },
  {
   "cell_type": "markdown",
   "metadata": {},
   "source": [
    "### Time union"
   ]
  },
  {
   "cell_type": "code",
   "execution_count": 71,
   "metadata": {},
   "outputs": [],
   "source": [
    "union_ts = set([])\n",
    "for file in files:\n",
    "    try:\n",
    "        times = fits.read(file)['TIME']\n",
    "    except:\n",
    "        continue\n",
    "    times = np.unique((np.round(times, 2)))\n",
    "    times = set(times[~np.isnan(times)])\n",
    "    union_ts.update(times)"
   ]
  },
  {
   "cell_type": "code",
   "execution_count": 72,
   "metadata": {},
   "outputs": [
    {
     "data": {
      "text/plain": [
       "2341"
      ]
     },
     "execution_count": 72,
     "metadata": {},
     "output_type": "execute_result"
    }
   ],
   "source": [
    "len(union_ts)"
   ]
  },
  {
   "cell_type": "code",
   "execution_count": 146,
   "metadata": {},
   "outputs": [],
   "source": [
    "i2t = dict(enumerate(sorted(union_ts)))"
   ]
  },
  {
   "cell_type": "code",
   "execution_count": 148,
   "metadata": {},
   "outputs": [],
   "source": [
    "t2i = {v:k for k,v in t2i.items()}"
   ]
  },
  {
   "cell_type": "code",
   "execution_count": 79,
   "metadata": {},
   "outputs": [
    {
     "data": {
      "text/plain": [
       "array([[1738.64, 1738.65, 1738.66, ..., 1763.3 , 1763.31, 1763.32],\n",
       "       [   0.  ,    0.  ,    0.  , ...,    0.  ,    0.  ,    0.  ]])"
      ]
     },
     "execution_count": 79,
     "metadata": {},
     "output_type": "execute_result"
    }
   ],
   "source": [
    "np.array([list(i2t.keys()), np.zeros(len(i2t))])"
   ]
  },
  {
   "cell_type": "markdown",
   "metadata": {},
   "source": [
    "### Process"
   ]
  },
  {
   "cell_type": "code",
   "execution_count": 159,
   "metadata": {},
   "outputs": [],
   "source": [
    "outdir = 'tess/16_processed/'\n",
    "os.makedirs(outdir, exist_ok=True)"
   ]
  },
  {
   "cell_type": "code",
   "execution_count": 99,
   "metadata": {},
   "outputs": [],
   "source": [
    "window = 50"
   ]
  },
  {
   "cell_type": "code",
   "execution_count": 176,
   "metadata": {},
   "outputs": [
    {
     "name": "stderr",
     "output_type": "stream",
     "text": [
      "100%|██████████| 2152/2152 [00:13<00:00, 158.55it/s]\n"
     ]
    }
   ],
   "source": [
    "for file in tqdm(files):\n",
    "    try:\n",
    "        data = fits.read(file, ext=None)\n",
    "    except:\n",
    "        continue\n",
    "    data = data.astype([(x, '<f8') for x in data.dtype.names])\n",
    "    time = data['TIME']\n",
    "    bool_time = ~np.isnan(time)\n",
    "    sap_flux_o_err = data['SAP_FLUX']/data['SAP_FLUX_ERR']\n",
    "    sap_flux_o_err = sap_flux_o_err/np.nanmax(sap_flux_o_err)\n",
    "    bool_flux = ~np.isnan(sap_flux_o_err)\n",
    "    valid = (bool_flux == bool_time) & (bool_time == True)\n",
    "    time = time[valid]\n",
    "    sap_flux_o_err = sap_flux_o_err[valid]\n",
    "    assert(time.shape == sap_flux_o_err.shape)\n",
    "    sap_flux_o_err = maximum_filter1d(sap_flux_o_err, size=window)\n",
    "    res = np.stack([time, sap_flux_o_err])\n",
    "    res[0] = np.round(res[0], 2)\n",
    "    res = res[:,::window]\n",
    "    empty = np.array([list(t2i.keys()), np.zeros(len(i2t))])\n",
    "    ixs = np.array([t2i[x] for x in res[0]])\n",
    "    empty[1][ixs] = res[1]\n",
    "    outname = file.split(indir)[1].split('.')[0]\n",
    "    outname = outdir + outname + '.npy'\n",
    "    np.save(outname, empty)"
   ]
  },
  {
   "cell_type": "code",
   "execution_count": null,
   "metadata": {},
   "outputs": [],
   "source": []
  },
  {
   "cell_type": "code",
   "execution_count": null,
   "metadata": {},
   "outputs": [],
   "source": []
  },
  {
   "cell_type": "code",
   "execution_count": null,
   "metadata": {},
   "outputs": [],
   "source": []
  },
  {
   "cell_type": "code",
   "execution_count": null,
   "metadata": {},
   "outputs": [],
   "source": []
  },
  {
   "cell_type": "code",
   "execution_count": null,
   "metadata": {},
   "outputs": [],
   "source": []
  },
  {
   "cell_type": "code",
   "execution_count": null,
   "metadata": {},
   "outputs": [],
   "source": []
  },
  {
   "cell_type": "code",
   "execution_count": null,
   "metadata": {},
   "outputs": [],
   "source": []
  }
 ],
 "metadata": {
  "kernelspec": {
   "display_name": "Python 3",
   "language": "python",
   "name": "python3"
  },
  "language_info": {
   "codemirror_mode": {
    "name": "ipython",
    "version": 3
   },
   "file_extension": ".py",
   "mimetype": "text/x-python",
   "name": "python",
   "nbconvert_exporter": "python",
   "pygments_lexer": "ipython3",
   "version": "3.6.9"
  }
 },
 "nbformat": 4,
 "nbformat_minor": 2
}
