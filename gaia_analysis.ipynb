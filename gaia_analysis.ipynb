{
 "cells": [
  {
   "cell_type": "code",
   "execution_count": 1,
   "metadata": {},
   "outputs": [],
   "source": [
    "import matplotlib.pyplot as plt\n",
    "import seaborn as sns\n",
    "import numpy as np\n",
    "import pandas as pd"
   ]
  },
  {
   "cell_type": "code",
   "execution_count": 3,
   "metadata": {},
   "outputs": [],
   "source": [
    "%matplotlib inline"
   ]
  },
  {
   "cell_type": "code",
   "execution_count": 4,
   "metadata": {},
   "outputs": [],
   "source": [
    "df = pd.read_csv('light_curves_181646914411688960_200261994165010176.csv')"
   ]
  },
  {
   "cell_type": "code",
   "execution_count": 5,
   "metadata": {},
   "outputs": [
    {
     "data": {
      "text/html": [
       "<div>\n",
       "<style scoped>\n",
       "    .dataframe tbody tr th:only-of-type {\n",
       "        vertical-align: middle;\n",
       "    }\n",
       "\n",
       "    .dataframe tbody tr th {\n",
       "        vertical-align: top;\n",
       "    }\n",
       "\n",
       "    .dataframe thead th {\n",
       "        text-align: right;\n",
       "    }\n",
       "</style>\n",
       "<table border=\"1\" class=\"dataframe\">\n",
       "  <thead>\n",
       "    <tr style=\"text-align: right;\">\n",
       "      <th></th>\n",
       "      <th>source_id</th>\n",
       "      <th>transit_id</th>\n",
       "      <th>band</th>\n",
       "      <th>time</th>\n",
       "      <th>mag</th>\n",
       "      <th>flux</th>\n",
       "      <th>flux_error</th>\n",
       "      <th>flux_over_error</th>\n",
       "      <th>rejected_by_photometry</th>\n",
       "      <th>rejected_by_variability</th>\n",
       "      <th>other_flags</th>\n",
       "      <th>solution_id</th>\n",
       "    </tr>\n",
       "  </thead>\n",
       "  <tbody>\n",
       "    <tr>\n",
       "      <th>0</th>\n",
       "      <td>181646914411688960</td>\n",
       "      <td>17390384531924047</td>\n",
       "      <td>G</td>\n",
       "      <td>1711.339752</td>\n",
       "      <td>15.674099</td>\n",
       "      <td>10132.264128</td>\n",
       "      <td>64.670419</td>\n",
       "      <td>156.67540</td>\n",
       "      <td>False</td>\n",
       "      <td>True</td>\n",
       "      <td>4101</td>\n",
       "      <td>369295549951641967</td>\n",
       "    </tr>\n",
       "    <tr>\n",
       "      <th>1</th>\n",
       "      <td>181646914411688960</td>\n",
       "      <td>19240383064740421</td>\n",
       "      <td>G</td>\n",
       "      <td>1744.799194</td>\n",
       "      <td>15.713665</td>\n",
       "      <td>9769.679686</td>\n",
       "      <td>18.609422</td>\n",
       "      <td>524.98566</td>\n",
       "      <td>False</td>\n",
       "      <td>False</td>\n",
       "      <td>1</td>\n",
       "      <td>369295549951641967</td>\n",
       "    </tr>\n",
       "    <tr>\n",
       "      <th>2</th>\n",
       "      <td>181646914411688960</td>\n",
       "      <td>19250123867579313</td>\n",
       "      <td>G</td>\n",
       "      <td>1744.975366</td>\n",
       "      <td>15.703185</td>\n",
       "      <td>9864.433111</td>\n",
       "      <td>14.214431</td>\n",
       "      <td>693.97314</td>\n",
       "      <td>False</td>\n",
       "      <td>False</td>\n",
       "      <td>1</td>\n",
       "      <td>369295549951641967</td>\n",
       "    </tr>\n",
       "    <tr>\n",
       "      <th>3</th>\n",
       "      <td>181646914411688960</td>\n",
       "      <td>26786862375244063</td>\n",
       "      <td>G</td>\n",
       "      <td>1881.271776</td>\n",
       "      <td>15.706703</td>\n",
       "      <td>9832.526462</td>\n",
       "      <td>31.084255</td>\n",
       "      <td>316.31854</td>\n",
       "      <td>False</td>\n",
       "      <td>False</td>\n",
       "      <td>4097</td>\n",
       "      <td>369295549951641967</td>\n",
       "    </tr>\n",
       "    <tr>\n",
       "      <th>4</th>\n",
       "      <td>181646914411688960</td>\n",
       "      <td>28490402782028622</td>\n",
       "      <td>G</td>\n",
       "      <td>1912.076405</td>\n",
       "      <td>15.698724</td>\n",
       "      <td>9905.046149</td>\n",
       "      <td>13.649018</td>\n",
       "      <td>725.69660</td>\n",
       "      <td>False</td>\n",
       "      <td>False</td>\n",
       "      <td>1</td>\n",
       "      <td>369295549951641967</td>\n",
       "    </tr>\n",
       "  </tbody>\n",
       "</table>\n",
       "</div>"
      ],
      "text/plain": [
       "            source_id         transit_id band         time        mag  \\\n",
       "0  181646914411688960  17390384531924047    G  1711.339752  15.674099   \n",
       "1  181646914411688960  19240383064740421    G  1744.799194  15.713665   \n",
       "2  181646914411688960  19250123867579313    G  1744.975366  15.703185   \n",
       "3  181646914411688960  26786862375244063    G  1881.271776  15.706703   \n",
       "4  181646914411688960  28490402782028622    G  1912.076405  15.698724   \n",
       "\n",
       "           flux  flux_error  flux_over_error  rejected_by_photometry  \\\n",
       "0  10132.264128   64.670419        156.67540                   False   \n",
       "1   9769.679686   18.609422        524.98566                   False   \n",
       "2   9864.433111   14.214431        693.97314                   False   \n",
       "3   9832.526462   31.084255        316.31854                   False   \n",
       "4   9905.046149   13.649018        725.69660                   False   \n",
       "\n",
       "   rejected_by_variability  other_flags         solution_id  \n",
       "0                     True         4101  369295549951641967  \n",
       "1                    False            1  369295549951641967  \n",
       "2                    False            1  369295549951641967  \n",
       "3                    False         4097  369295549951641967  \n",
       "4                    False            1  369295549951641967  "
      ]
     },
     "execution_count": 5,
     "metadata": {},
     "output_type": "execute_result"
    }
   ],
   "source": [
    "df.head()"
   ]
  },
  {
   "cell_type": "code",
   "execution_count": 7,
   "metadata": {},
   "outputs": [
    {
     "data": {
      "text/plain": [
       "source_id           time       \n",
       "181646914411688960  1711.339752    156.675400\n",
       "                    1711.340066     50.274986\n",
       "                    1711.340155     85.977530\n",
       "                    1744.799194    524.985660\n",
       "                    1744.799509     62.459710\n",
       "                                      ...    \n",
       "200261994165010176  2305.304291    138.551200\n",
       "                    2305.304376    361.620670\n",
       "                    2305.377980     70.982050\n",
       "                    2305.378294    154.087330\n",
       "                    2305.378379    463.599800\n",
       "Name: flux_over_error, Length: 86458, dtype: float64"
      ]
     },
     "execution_count": 7,
     "metadata": {},
     "output_type": "execute_result"
    }
   ],
   "source": [
    "df.groupby(['source_id', 'time'])['flux_over_error'].first()"
   ]
  },
  {
   "cell_type": "code",
   "execution_count": 9,
   "metadata": {
    "scrolled": true
   },
   "outputs": [
    {
     "data": {
      "text/plain": [
       "<matplotlib.axes._subplots.AxesSubplot at 0x7fcd536a6400>"
      ]
     },
     "execution_count": 9,
     "metadata": {},
     "output_type": "execute_result"
    },
    {
     "data": {
      "image/png": "[encoded data removed]",
      "text/plain": [
       "<Figure size 432x288 with 1 Axes>"
      ]
     },
     "metadata": {
      "needs_background": "light"
     },
     "output_type": "display_data"
    }
   ],
   "source": [
    "df.groupby('source_id')['time'].apply(lambda x: x.max() - x.min()).hist()"
   ]
  },
  {
   "cell_type": "markdown",
   "metadata": {},
   "source": [
    "Max diff follows poisson distribution"
   ]
  },
  {
   "cell_type": "code",
   "execution_count": 10,
   "metadata": {},
   "outputs": [
    {
     "data": {
      "text/plain": [
       "<matplotlib.axes._subplots.AxesSubplot at 0x7fcd5374a320>"
      ]
     },
     "execution_count": 10,
     "metadata": {},
     "output_type": "execute_result"
    },
    {
     "data": {
      "image/png": "[encoded data removed]",
      "text/plain": [
       "<Figure size 432x288 with 1 Axes>"
      ]
     },
     "metadata": {
      "needs_background": "light"
     },
     "output_type": "display_data"
    }
   ],
   "source": [
    "df.groupby('source_id')['flux_over_error'].apply(lambda x: x.max() - x.min()).hist()"
   ]
  },
  {
   "cell_type": "code",
   "execution_count": 11,
   "metadata": {},
   "outputs": [
    {
     "data": {
      "text/plain": [
       "0          55450\n",
       "1          16715\n",
       "4097        6458\n",
       "4194817     2992\n",
       "4198913     1057\n",
       "           ...  \n",
       "2101257        1\n",
       "1056768        1\n",
       "69639          1\n",
       "3313665        1\n",
       "4198941        1\n",
       "Name: other_flags, Length: 399, dtype: int64"
      ]
     },
     "execution_count": 11,
     "metadata": {},
     "output_type": "execute_result"
    }
   ],
   "source": [
    "df['other_flags'].value_counts()"
   ]
  },
  {
   "cell_type": "code",
   "execution_count": 13,
   "metadata": {},
   "outputs": [
    {
     "data": {
      "text/plain": [
       "<matplotlib.axes._subplots.AxesSubplot at 0x7fcd53989be0>"
      ]
     },
     "execution_count": 13,
     "metadata": {},
     "output_type": "execute_result"
    },
    {
     "data": {
      "image/png": "[encoded data removed]",
      "text/plain": [
       "<Figure size 432x288 with 1 Axes>"
      ]
     },
     "metadata": {
      "needs_background": "light"
     },
     "output_type": "display_data"
    }
   ],
   "source": [
    "df['source_id'].value_counts().hist()"
   ]
  },
  {
   "cell_type": "code",
   "execution_count": 15,
   "metadata": {},
   "outputs": [
    {
     "data": {
      "text/plain": [
       "G     31076\n",
       "BP    27923\n",
       "RP    27527\n",
       "Name: band, dtype: int64"
      ]
     },
     "execution_count": 15,
     "metadata": {},
     "output_type": "execute_result"
    }
   ],
   "source": [
    "df['band'].value_counts()"
   ]
  },
  {
   "cell_type": "code",
   "execution_count": 24,
   "metadata": {},
   "outputs": [
    {
     "data": {
      "text/plain": [
       "184854434646126080    141\n",
       "187839539996486272    140\n",
       "188743269835075456    138\n",
       "188733271151219584    136\n",
       "187838814144889600    135\n",
       "Name: source_id, dtype: int64"
      ]
     },
     "execution_count": 24,
     "metadata": {},
     "output_type": "execute_result"
    }
   ],
   "source": [
    "df['source_id'].value_counts().head()"
   ]
  },
  {
   "cell_type": "code",
   "execution_count": null,
   "metadata": {},
   "outputs": [],
   "source": []
  },
  {
   "cell_type": "code",
   "execution_count": 23,
   "metadata": {},
   "outputs": [
    {
     "data": {
      "text/plain": [
       "0"
      ]
     },
     "execution_count": 23,
     "metadata": {},
     "output_type": "execute_result"
    }
   ],
   "source": []
  },
  {
   "cell_type": "code",
   "execution_count": 25,
   "metadata": {},
   "outputs": [],
   "source": [
    "src = df.loc[df['source_id'] == 184854434646126080]"
   ]
  },
  {
   "cell_type": "code",
   "execution_count": 26,
   "metadata": {
    "scrolled": true
   },
   "outputs": [
    {
     "data": {
      "text/html": [
       "<div>\n",
       "<style scoped>\n",
       "    .dataframe tbody tr th:only-of-type {\n",
       "        vertical-align: middle;\n",
       "    }\n",
       "\n",
       "    .dataframe tbody tr th {\n",
       "        vertical-align: top;\n",
       "    }\n",
       "\n",
       "    .dataframe thead th {\n",
       "        text-align: right;\n",
       "    }\n",
       "</style>\n",
       "<table border=\"1\" class=\"dataframe\">\n",
       "  <thead>\n",
       "    <tr style=\"text-align: right;\">\n",
       "      <th></th>\n",
       "      <th>source_id</th>\n",
       "      <th>transit_id</th>\n",
       "      <th>band</th>\n",
       "      <th>time</th>\n",
       "      <th>mag</th>\n",
       "      <th>flux</th>\n",
       "      <th>flux_error</th>\n",
       "      <th>flux_over_error</th>\n",
       "      <th>rejected_by_photometry</th>\n",
       "      <th>rejected_by_variability</th>\n",
       "      <th>other_flags</th>\n",
       "      <th>solution_id</th>\n",
       "    </tr>\n",
       "  </thead>\n",
       "  <tbody>\n",
       "    <tr>\n",
       "      <th>9032</th>\n",
       "      <td>184854434646126080</td>\n",
       "      <td>17380585512157341</td>\n",
       "      <td>G</td>\n",
       "      <td>1711.162418</td>\n",
       "      <td>14.791303</td>\n",
       "      <td>22846.784826</td>\n",
       "      <td>24.928159</td>\n",
       "      <td>916.50510</td>\n",
       "      <td>False</td>\n",
       "      <td>False</td>\n",
       "      <td>4194817</td>\n",
       "      <td>369295549951641967</td>\n",
       "    </tr>\n",
       "    <tr>\n",
       "      <th>9033</th>\n",
       "      <td>184854434646126080</td>\n",
       "      <td>19240322461372875</td>\n",
       "      <td>G</td>\n",
       "      <td>1744.798038</td>\n",
       "      <td>14.783311</td>\n",
       "      <td>23015.577922</td>\n",
       "      <td>124.460920</td>\n",
       "      <td>184.92212</td>\n",
       "      <td>False</td>\n",
       "      <td>True</td>\n",
       "      <td>36897</td>\n",
       "      <td>369295549951641967</td>\n",
       "    </tr>\n",
       "    <tr>\n",
       "      <th>9034</th>\n",
       "      <td>184854434646126080</td>\n",
       "      <td>19250063268012628</td>\n",
       "      <td>G</td>\n",
       "      <td>1744.974189</td>\n",
       "      <td>14.792147</td>\n",
       "      <td>22829.031799</td>\n",
       "      <td>24.507929</td>\n",
       "      <td>931.49570</td>\n",
       "      <td>False</td>\n",
       "      <td>False</td>\n",
       "      <td>1</td>\n",
       "      <td>369295549951641967</td>\n",
       "    </tr>\n",
       "    <tr>\n",
       "      <th>9035</th>\n",
       "      <td>184854434646126080</td>\n",
       "      <td>26800715513226456</td>\n",
       "      <td>G</td>\n",
       "      <td>1881.522349</td>\n",
       "      <td>14.789563</td>\n",
       "      <td>22883.425327</td>\n",
       "      <td>28.732264</td>\n",
       "      <td>796.43650</td>\n",
       "      <td>False</td>\n",
       "      <td>False</td>\n",
       "      <td>1</td>\n",
       "      <td>369295549951641967</td>\n",
       "    </tr>\n",
       "    <tr>\n",
       "      <th>9036</th>\n",
       "      <td>184854434646126080</td>\n",
       "      <td>26804807812039491</td>\n",
       "      <td>G</td>\n",
       "      <td>1881.596321</td>\n",
       "      <td>14.790292</td>\n",
       "      <td>22868.068041</td>\n",
       "      <td>25.869211</td>\n",
       "      <td>883.98785</td>\n",
       "      <td>False</td>\n",
       "      <td>False</td>\n",
       "      <td>4194817</td>\n",
       "      <td>369295549951641967</td>\n",
       "    </tr>\n",
       "    <tr>\n",
       "      <th>...</th>\n",
       "      <td>...</td>\n",
       "      <td>...</td>\n",
       "      <td>...</td>\n",
       "      <td>...</td>\n",
       "      <td>...</td>\n",
       "      <td>...</td>\n",
       "      <td>...</td>\n",
       "      <td>...</td>\n",
       "      <td>...</td>\n",
       "      <td>...</td>\n",
       "      <td>...</td>\n",
       "      <td>...</td>\n",
       "    </tr>\n",
       "    <tr>\n",
       "      <th>9168</th>\n",
       "      <td>184854434646126080</td>\n",
       "      <td>49602034741339239</td>\n",
       "      <td>RP</td>\n",
       "      <td>2293.868546</td>\n",
       "      <td>14.119464</td>\n",
       "      <td>18071.000560</td>\n",
       "      <td>132.476779</td>\n",
       "      <td>136.40881</td>\n",
       "      <td>False</td>\n",
       "      <td>False</td>\n",
       "      <td>0</td>\n",
       "      <td>369295549951641967</td>\n",
       "    </tr>\n",
       "    <tr>\n",
       "      <th>9169</th>\n",
       "      <td>184854434646126080</td>\n",
       "      <td>50220327324508331</td>\n",
       "      <td>RP</td>\n",
       "      <td>2305.049198</td>\n",
       "      <td>14.121147</td>\n",
       "      <td>18043.024200</td>\n",
       "      <td>131.803276</td>\n",
       "      <td>136.89360</td>\n",
       "      <td>False</td>\n",
       "      <td>False</td>\n",
       "      <td>0</td>\n",
       "      <td>369295549951641967</td>\n",
       "    </tr>\n",
       "    <tr>\n",
       "      <th>9170</th>\n",
       "      <td>184854434646126080</td>\n",
       "      <td>50224419572217629</td>\n",
       "      <td>RP</td>\n",
       "      <td>2305.123199</td>\n",
       "      <td>14.111009</td>\n",
       "      <td>18212.278961</td>\n",
       "      <td>137.405790</td>\n",
       "      <td>132.54375</td>\n",
       "      <td>False</td>\n",
       "      <td>False</td>\n",
       "      <td>0</td>\n",
       "      <td>369295549951641967</td>\n",
       "    </tr>\n",
       "    <tr>\n",
       "      <th>9171</th>\n",
       "      <td>184854434646126080</td>\n",
       "      <td>50234160359290702</td>\n",
       "      <td>RP</td>\n",
       "      <td>2305.299342</td>\n",
       "      <td>14.116655</td>\n",
       "      <td>18117.819594</td>\n",
       "      <td>137.591944</td>\n",
       "      <td>131.67792</td>\n",
       "      <td>False</td>\n",
       "      <td>False</td>\n",
       "      <td>0</td>\n",
       "      <td>369295549951641967</td>\n",
       "    </tr>\n",
       "    <tr>\n",
       "      <th>9172</th>\n",
       "      <td>184854434646126080</td>\n",
       "      <td>50238252676855330</td>\n",
       "      <td>RP</td>\n",
       "      <td>2305.373344</td>\n",
       "      <td>14.123696</td>\n",
       "      <td>18000.715487</td>\n",
       "      <td>142.641479</td>\n",
       "      <td>126.19552</td>\n",
       "      <td>False</td>\n",
       "      <td>False</td>\n",
       "      <td>0</td>\n",
       "      <td>369295549951641967</td>\n",
       "    </tr>\n",
       "  </tbody>\n",
       "</table>\n",
       "<p>141 rows × 12 columns</p>\n",
       "</div>"
      ],
      "text/plain": [
       "               source_id         transit_id band         time        mag  \\\n",
       "9032  184854434646126080  17380585512157341    G  1711.162418  14.791303   \n",
       "9033  184854434646126080  19240322461372875    G  1744.798038  14.783311   \n",
       "9034  184854434646126080  19250063268012628    G  1744.974189  14.792147   \n",
       "9035  184854434646126080  26800715513226456    G  1881.522349  14.789563   \n",
       "9036  184854434646126080  26804807812039491    G  1881.596321  14.790292   \n",
       "...                  ...                ...  ...          ...        ...   \n",
       "9168  184854434646126080  49602034741339239   RP  2293.868546  14.119464   \n",
       "9169  184854434646126080  50220327324508331   RP  2305.049198  14.121147   \n",
       "9170  184854434646126080  50224419572217629   RP  2305.123199  14.111009   \n",
       "9171  184854434646126080  50234160359290702   RP  2305.299342  14.116655   \n",
       "9172  184854434646126080  50238252676855330   RP  2305.373344  14.123696   \n",
       "\n",
       "              flux  flux_error  flux_over_error  rejected_by_photometry  \\\n",
       "9032  22846.784826   24.928159        916.50510                   False   \n",
       "9033  23015.577922  124.460920        184.92212                   False   \n",
       "9034  22829.031799   24.507929        931.49570                   False   \n",
       "9035  22883.425327   28.732264        796.43650                   False   \n",
       "9036  22868.068041   25.869211        883.98785                   False   \n",
       "...            ...         ...              ...                     ...   \n",
       "9168  18071.000560  132.476779        136.40881                   False   \n",
       "9169  18043.024200  131.803276        136.89360                   False   \n",
       "9170  18212.278961  137.405790        132.54375                   False   \n",
       "9171  18117.819594  137.591944        131.67792                   False   \n",
       "9172  18000.715487  142.641479        126.19552                   False   \n",
       "\n",
       "      rejected_by_variability  other_flags         solution_id  \n",
       "9032                    False      4194817  369295549951641967  \n",
       "9033                     True        36897  369295549951641967  \n",
       "9034                    False            1  369295549951641967  \n",
       "9035                    False            1  369295549951641967  \n",
       "9036                    False      4194817  369295549951641967  \n",
       "...                       ...          ...                 ...  \n",
       "9168                    False            0  369295549951641967  \n",
       "9169                    False            0  369295549951641967  \n",
       "9170                    False            0  369295549951641967  \n",
       "9171                    False            0  369295549951641967  \n",
       "9172                    False            0  369295549951641967  \n",
       "\n",
       "[141 rows x 12 columns]"
      ]
     },
     "execution_count": 26,
     "metadata": {},
     "output_type": "execute_result"
    }
   ],
   "source": [
    "src"
   ]
  },
  {
   "cell_type": "code",
   "execution_count": null,
   "metadata": {},
   "outputs": [],
   "source": []
  },
  {
   "cell_type": "code",
   "execution_count": null,
   "metadata": {},
   "outputs": [],
   "source": []
  },
  {
   "cell_type": "code",
   "execution_count": null,
   "metadata": {},
   "outputs": [],
   "source": []
  },
  {
   "cell_type": "code",
   "execution_count": null,
   "metadata": {},
   "outputs": [],
   "source": []
  },
  {
   "cell_type": "code",
   "execution_count": null,
   "metadata": {},
   "outputs": [],
   "source": []
  }
 ],
 "metadata": {
  "kernelspec": {
   "display_name": "Python 3",
   "language": "python",
   "name": "python3"
  },
  "language_info": {
   "codemirror_mode": {
    "name": "ipython",
    "version": 3
   },
   "file_extension": ".py",
   "mimetype": "text/x-python",
   "name": "python",
   "nbconvert_exporter": "python",
   "pygments_lexer": "ipython3",
   "version": "3.6.8"
  }
 },
 "nbformat": 4,
 "nbformat_minor": 2
}
