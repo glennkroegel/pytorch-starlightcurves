{
 "cells": [
  {
   "cell_type": "code",
   "execution_count": 15,
   "metadata": {},
   "outputs": [],
   "source": [
    "import matplotlib.pyplot as plt\n",
    "import seaborn as sns\n",
    "import numpy as np\n",
    "import pandas as pd\n",
    "from astropy.time import Time"
   ]
  },
  {
   "cell_type": "code",
   "execution_count": 2,
   "metadata": {},
   "outputs": [],
   "source": [
    "%matplotlib inline"
   ]
  },
  {
   "cell_type": "code",
   "execution_count": 3,
   "metadata": {},
   "outputs": [],
   "source": [
    "df = pd.read_csv('light_curves_181646914411688960_200261994165010176.csv')"
   ]
  },
  {
   "cell_type": "code",
   "execution_count": 4,
   "metadata": {},
   "outputs": [
    {
     "data": {
      "text/html": [
       "<div>\n",
       "<style scoped>\n",
       "    .dataframe tbody tr th:only-of-type {\n",
       "        vertical-align: middle;\n",
       "    }\n",
       "\n",
       "    .dataframe tbody tr th {\n",
       "        vertical-align: top;\n",
       "    }\n",
       "\n",
       "    .dataframe thead th {\n",
       "        text-align: right;\n",
       "    }\n",
       "</style>\n",
       "<table border=\"1\" class=\"dataframe\">\n",
       "  <thead>\n",
       "    <tr style=\"text-align: right;\">\n",
       "      <th></th>\n",
       "      <th>source_id</th>\n",
       "      <th>transit_id</th>\n",
       "      <th>band</th>\n",
       "      <th>time</th>\n",
       "      <th>mag</th>\n",
       "      <th>flux</th>\n",
       "      <th>flux_error</th>\n",
       "      <th>flux_over_error</th>\n",
       "      <th>rejected_by_photometry</th>\n",
       "      <th>rejected_by_variability</th>\n",
       "      <th>other_flags</th>\n",
       "      <th>solution_id</th>\n",
       "    </tr>\n",
       "  </thead>\n",
       "  <tbody>\n",
       "    <tr>\n",
       "      <th>0</th>\n",
       "      <td>181646914411688960</td>\n",
       "      <td>17390384531924047</td>\n",
       "      <td>G</td>\n",
       "      <td>1711.339752</td>\n",
       "      <td>15.674099</td>\n",
       "      <td>10132.264128</td>\n",
       "      <td>64.670419</td>\n",
       "      <td>156.67540</td>\n",
       "      <td>False</td>\n",
       "      <td>True</td>\n",
       "      <td>4101</td>\n",
       "      <td>369295549951641967</td>\n",
       "    </tr>\n",
       "    <tr>\n",
       "      <th>1</th>\n",
       "      <td>181646914411688960</td>\n",
       "      <td>19240383064740421</td>\n",
       "      <td>G</td>\n",
       "      <td>1744.799194</td>\n",
       "      <td>15.713665</td>\n",
       "      <td>9769.679686</td>\n",
       "      <td>18.609422</td>\n",
       "      <td>524.98566</td>\n",
       "      <td>False</td>\n",
       "      <td>False</td>\n",
       "      <td>1</td>\n",
       "      <td>369295549951641967</td>\n",
       "    </tr>\n",
       "    <tr>\n",
       "      <th>2</th>\n",
       "      <td>181646914411688960</td>\n",
       "      <td>19250123867579313</td>\n",
       "      <td>G</td>\n",
       "      <td>1744.975366</td>\n",
       "      <td>15.703185</td>\n",
       "      <td>9864.433111</td>\n",
       "      <td>14.214431</td>\n",
       "      <td>693.97314</td>\n",
       "      <td>False</td>\n",
       "      <td>False</td>\n",
       "      <td>1</td>\n",
       "      <td>369295549951641967</td>\n",
       "    </tr>\n",
       "    <tr>\n",
       "      <th>3</th>\n",
       "      <td>181646914411688960</td>\n",
       "      <td>26786862375244063</td>\n",
       "      <td>G</td>\n",
       "      <td>1881.271776</td>\n",
       "      <td>15.706703</td>\n",
       "      <td>9832.526462</td>\n",
       "      <td>31.084255</td>\n",
       "      <td>316.31854</td>\n",
       "      <td>False</td>\n",
       "      <td>False</td>\n",
       "      <td>4097</td>\n",
       "      <td>369295549951641967</td>\n",
       "    </tr>\n",
       "    <tr>\n",
       "      <th>4</th>\n",
       "      <td>181646914411688960</td>\n",
       "      <td>28490402782028622</td>\n",
       "      <td>G</td>\n",
       "      <td>1912.076405</td>\n",
       "      <td>15.698724</td>\n",
       "      <td>9905.046149</td>\n",
       "      <td>13.649018</td>\n",
       "      <td>725.69660</td>\n",
       "      <td>False</td>\n",
       "      <td>False</td>\n",
       "      <td>1</td>\n",
       "      <td>369295549951641967</td>\n",
       "    </tr>\n",
       "  </tbody>\n",
       "</table>\n",
       "</div>"
      ],
      "text/plain": [
       "            source_id         transit_id band         time        mag  \\\n",
       "0  181646914411688960  17390384531924047    G  1711.339752  15.674099   \n",
       "1  181646914411688960  19240383064740421    G  1744.799194  15.713665   \n",
       "2  181646914411688960  19250123867579313    G  1744.975366  15.703185   \n",
       "3  181646914411688960  26786862375244063    G  1881.271776  15.706703   \n",
       "4  181646914411688960  28490402782028622    G  1912.076405  15.698724   \n",
       "\n",
       "           flux  flux_error  flux_over_error  rejected_by_photometry  \\\n",
       "0  10132.264128   64.670419        156.67540                   False   \n",
       "1   9769.679686   18.609422        524.98566                   False   \n",
       "2   9864.433111   14.214431        693.97314                   False   \n",
       "3   9832.526462   31.084255        316.31854                   False   \n",
       "4   9905.046149   13.649018        725.69660                   False   \n",
       "\n",
       "   rejected_by_variability  other_flags         solution_id  \n",
       "0                     True         4101  369295549951641967  \n",
       "1                    False            1  369295549951641967  \n",
       "2                    False            1  369295549951641967  \n",
       "3                    False         4097  369295549951641967  \n",
       "4                    False            1  369295549951641967  "
      ]
     },
     "execution_count": 4,
     "metadata": {},
     "output_type": "execute_result"
    }
   ],
   "source": [
    "df.head()"
   ]
  },
  {
   "cell_type": "code",
   "execution_count": 5,
   "metadata": {},
   "outputs": [
    {
     "data": {
      "text/plain": [
       "source_id           time       \n",
       "181646914411688960  1711.339752    156.675400\n",
       "                    1711.340066     50.274986\n",
       "                    1711.340155     85.977530\n",
       "                    1744.799194    524.985660\n",
       "                    1744.799509     62.459710\n",
       "                                      ...    \n",
       "200261994165010176  2305.304291    138.551200\n",
       "                    2305.304376    361.620670\n",
       "                    2305.377980     70.982050\n",
       "                    2305.378294    154.087330\n",
       "                    2305.378379    463.599800\n",
       "Name: flux_over_error, Length: 86458, dtype: float64"
      ]
     },
     "execution_count": 5,
     "metadata": {},
     "output_type": "execute_result"
    }
   ],
   "source": [
    "df.groupby(['source_id', 'time'])['flux_over_error'].first()"
   ]
  },
  {
   "cell_type": "code",
   "execution_count": 6,
   "metadata": {
    "scrolled": true
   },
   "outputs": [
    {
     "data": {
      "text/plain": [
       "<matplotlib.axes._subplots.AxesSubplot at 0x7ff09b4d3470>"
      ]
     },
     "execution_count": 6,
     "metadata": {},
     "output_type": "execute_result"
    },
    {
     "data": {
      "image/png": "[encoded data removed]",
      "text/plain": [
       "<Figure size 432x288 with 1 Axes>"
      ]
     },
     "metadata": {
      "needs_background": "light"
     },
     "output_type": "display_data"
    }
   ],
   "source": [
    "df.groupby('source_id')['time'].apply(lambda x: x.max() - x.min()).hist()"
   ]
  },
  {
   "cell_type": "markdown",
   "metadata": {},
   "source": [
    "Max diff follows poisson distribution"
   ]
  },
  {
   "cell_type": "code",
   "execution_count": 7,
   "metadata": {},
   "outputs": [
    {
     "data": {
      "text/plain": [
       "<matplotlib.axes._subplots.AxesSubplot at 0x7ff0993a8390>"
      ]
     },
     "execution_count": 7,
     "metadata": {},
     "output_type": "execute_result"
    },
    {
     "data": {
      "image/png": "[encoded data removed]",
      "text/plain": [
       "<Figure size 432x288 with 1 Axes>"
      ]
     },
     "metadata": {
      "needs_background": "light"
     },
     "output_type": "display_data"
    }
   ],
   "source": [
    "df.groupby('source_id')['flux_over_error'].apply(lambda x: x.max() - x.min()).hist()"
   ]
  },
  {
   "cell_type": "code",
   "execution_count": 8,
   "metadata": {},
   "outputs": [
    {
     "data": {
      "text/plain": [
       "0          55450\n",
       "1          16715\n",
       "4097        6458\n",
       "4194817     2992\n",
       "4198913     1057\n",
       "           ...  \n",
       "2101257        1\n",
       "1056768        1\n",
       "69639          1\n",
       "3313665        1\n",
       "4198941        1\n",
       "Name: other_flags, Length: 399, dtype: int64"
      ]
     },
     "execution_count": 8,
     "metadata": {},
     "output_type": "execute_result"
    }
   ],
   "source": [
    "df['other_flags'].value_counts()"
   ]
  },
  {
   "cell_type": "code",
   "execution_count": 9,
   "metadata": {},
   "outputs": [
    {
     "data": {
      "text/plain": [
       "<matplotlib.axes._subplots.AxesSubplot at 0x7ff098ef3668>"
      ]
     },
     "execution_count": 9,
     "metadata": {},
     "output_type": "execute_result"
    },
    {
     "data": {
      "image/png": "[encoded data removed]",
      "text/plain": [
       "<Figure size 432x288 with 1 Axes>"
      ]
     },
     "metadata": {
      "needs_background": "light"
     },
     "output_type": "display_data"
    }
   ],
   "source": [
    "df['source_id'].value_counts().hist()"
   ]
  },
  {
   "cell_type": "code",
   "execution_count": 10,
   "metadata": {},
   "outputs": [
    {
     "data": {
      "text/plain": [
       "G     31076\n",
       "BP    27923\n",
       "RP    27527\n",
       "Name: band, dtype: int64"
      ]
     },
     "execution_count": 10,
     "metadata": {},
     "output_type": "execute_result"
    }
   ],
   "source": [
    "df['band'].value_counts()"
   ]
  },
  {
   "cell_type": "code",
   "execution_count": 11,
   "metadata": {},
   "outputs": [
    {
     "data": {
      "text/plain": [
       "184854434646126080    141\n",
       "187839539996486272    140\n",
       "188743269835075456    138\n",
       "188733271151219584    136\n",
       "187838814144889600    135\n",
       "Name: source_id, dtype: int64"
      ]
     },
     "execution_count": 11,
     "metadata": {},
     "output_type": "execute_result"
    }
   ],
   "source": [
    "df['source_id'].value_counts().head()"
   ]
  },
  {
   "cell_type": "code",
   "execution_count": null,
   "metadata": {},
   "outputs": [],
   "source": []
  },
  {
   "cell_type": "code",
   "execution_count": null,
   "metadata": {},
   "outputs": [],
   "source": []
  },
  {
   "cell_type": "code",
   "execution_count": 44,
   "metadata": {},
   "outputs": [],
   "source": [
    "src = df.loc[df['source_id'] == 184854434646126080]"
   ]
  },
  {
   "cell_type": "code",
   "execution_count": 45,
   "metadata": {
    "scrolled": true
   },
   "outputs": [
    {
     "name": "stderr",
     "output_type": "stream",
     "text": [
      "/home/glenn/.local/lib/python3.6/site-packages/ipykernel_launcher.py:1: SettingWithCopyWarning: \n",
      "A value is trying to be set on a copy of a slice from a DataFrame\n",
      "\n",
      "See the caveats in the documentation: http://pandas.pydata.org/pandas-docs/stable/user_guide/indexing.html#returning-a-view-versus-a-copy\n",
      "  \"\"\"Entry point for launching an IPython kernel.\n"
     ]
    }
   ],
   "source": [
    "src.sort_values(by='time', inplace=True)"
   ]
  },
  {
   "cell_type": "code",
   "execution_count": 46,
   "metadata": {},
   "outputs": [
    {
     "data": {
      "text/html": [
       "<div>\n",
       "<style scoped>\n",
       "    .dataframe tbody tr th:only-of-type {\n",
       "        vertical-align: middle;\n",
       "    }\n",
       "\n",
       "    .dataframe tbody tr th {\n",
       "        vertical-align: top;\n",
       "    }\n",
       "\n",
       "    .dataframe thead th {\n",
       "        text-align: right;\n",
       "    }\n",
       "</style>\n",
       "<table border=\"1\" class=\"dataframe\">\n",
       "  <thead>\n",
       "    <tr style=\"text-align: right;\">\n",
       "      <th></th>\n",
       "      <th>source_id</th>\n",
       "      <th>transit_id</th>\n",
       "      <th>band</th>\n",
       "      <th>time</th>\n",
       "      <th>mag</th>\n",
       "      <th>flux</th>\n",
       "      <th>flux_error</th>\n",
       "      <th>flux_over_error</th>\n",
       "      <th>rejected_by_photometry</th>\n",
       "      <th>rejected_by_variability</th>\n",
       "      <th>other_flags</th>\n",
       "      <th>solution_id</th>\n",
       "    </tr>\n",
       "  </thead>\n",
       "  <tbody>\n",
       "    <tr>\n",
       "      <th>9032</th>\n",
       "      <td>184854434646126080</td>\n",
       "      <td>17380585512157341</td>\n",
       "      <td>G</td>\n",
       "      <td>1711.162418</td>\n",
       "      <td>14.791303</td>\n",
       "      <td>22846.784826</td>\n",
       "      <td>24.928159</td>\n",
       "      <td>916.50510</td>\n",
       "      <td>False</td>\n",
       "      <td>False</td>\n",
       "      <td>4194817</td>\n",
       "      <td>369295549951641967</td>\n",
       "    </tr>\n",
       "    <tr>\n",
       "      <th>9080</th>\n",
       "      <td>184854434646126080</td>\n",
       "      <td>17380585512157341</td>\n",
       "      <td>BP</td>\n",
       "      <td>1711.162761</td>\n",
       "      <td>15.282809</td>\n",
       "      <td>10652.015753</td>\n",
       "      <td>124.792369</td>\n",
       "      <td>85.35791</td>\n",
       "      <td>False</td>\n",
       "      <td>False</td>\n",
       "      <td>0</td>\n",
       "      <td>369295549951641967</td>\n",
       "    </tr>\n",
       "    <tr>\n",
       "      <th>9127</th>\n",
       "      <td>184854434646126080</td>\n",
       "      <td>17380585512157341</td>\n",
       "      <td>RP</td>\n",
       "      <td>1711.162849</td>\n",
       "      <td>14.117023</td>\n",
       "      <td>18111.689433</td>\n",
       "      <td>141.276072</td>\n",
       "      <td>128.20068</td>\n",
       "      <td>False</td>\n",
       "      <td>False</td>\n",
       "      <td>0</td>\n",
       "      <td>369295549951641967</td>\n",
       "    </tr>\n",
       "    <tr>\n",
       "      <th>9033</th>\n",
       "      <td>184854434646126080</td>\n",
       "      <td>19240322461372875</td>\n",
       "      <td>G</td>\n",
       "      <td>1744.798038</td>\n",
       "      <td>14.783311</td>\n",
       "      <td>23015.577922</td>\n",
       "      <td>124.460920</td>\n",
       "      <td>184.92212</td>\n",
       "      <td>False</td>\n",
       "      <td>True</td>\n",
       "      <td>36897</td>\n",
       "      <td>369295549951641967</td>\n",
       "    </tr>\n",
       "    <tr>\n",
       "      <th>9081</th>\n",
       "      <td>184854434646126080</td>\n",
       "      <td>19240322461372875</td>\n",
       "      <td>BP</td>\n",
       "      <td>1744.798331</td>\n",
       "      <td>15.295649</td>\n",
       "      <td>10526.780632</td>\n",
       "      <td>100.525953</td>\n",
       "      <td>104.71704</td>\n",
       "      <td>False</td>\n",
       "      <td>False</td>\n",
       "      <td>0</td>\n",
       "      <td>369295549951641967</td>\n",
       "    </tr>\n",
       "    <tr>\n",
       "      <th>...</th>\n",
       "      <td>...</td>\n",
       "      <td>...</td>\n",
       "      <td>...</td>\n",
       "      <td>...</td>\n",
       "      <td>...</td>\n",
       "      <td>...</td>\n",
       "      <td>...</td>\n",
       "      <td>...</td>\n",
       "      <td>...</td>\n",
       "      <td>...</td>\n",
       "      <td>...</td>\n",
       "      <td>...</td>\n",
       "    </tr>\n",
       "    <tr>\n",
       "      <th>9125</th>\n",
       "      <td>184854434646126080</td>\n",
       "      <td>50234160359290702</td>\n",
       "      <td>BP</td>\n",
       "      <td>2305.299255</td>\n",
       "      <td>15.280589</td>\n",
       "      <td>10673.817851</td>\n",
       "      <td>109.641271</td>\n",
       "      <td>97.35219</td>\n",
       "      <td>False</td>\n",
       "      <td>False</td>\n",
       "      <td>0</td>\n",
       "      <td>369295549951641967</td>\n",
       "    </tr>\n",
       "    <tr>\n",
       "      <th>9171</th>\n",
       "      <td>184854434646126080</td>\n",
       "      <td>50234160359290702</td>\n",
       "      <td>RP</td>\n",
       "      <td>2305.299342</td>\n",
       "      <td>14.116655</td>\n",
       "      <td>18117.819594</td>\n",
       "      <td>137.591944</td>\n",
       "      <td>131.67792</td>\n",
       "      <td>False</td>\n",
       "      <td>False</td>\n",
       "      <td>0</td>\n",
       "      <td>369295549951641967</td>\n",
       "    </tr>\n",
       "    <tr>\n",
       "      <th>9079</th>\n",
       "      <td>184854434646126080</td>\n",
       "      <td>50238252676855330</td>\n",
       "      <td>G</td>\n",
       "      <td>2305.372943</td>\n",
       "      <td>14.784592</td>\n",
       "      <td>22988.436333</td>\n",
       "      <td>27.081270</td>\n",
       "      <td>848.86847</td>\n",
       "      <td>False</td>\n",
       "      <td>False</td>\n",
       "      <td>1</td>\n",
       "      <td>369295549951641967</td>\n",
       "    </tr>\n",
       "    <tr>\n",
       "      <th>9126</th>\n",
       "      <td>184854434646126080</td>\n",
       "      <td>50238252676855330</td>\n",
       "      <td>BP</td>\n",
       "      <td>2305.373258</td>\n",
       "      <td>15.280304</td>\n",
       "      <td>10676.621424</td>\n",
       "      <td>114.736023</td>\n",
       "      <td>93.05379</td>\n",
       "      <td>False</td>\n",
       "      <td>False</td>\n",
       "      <td>0</td>\n",
       "      <td>369295549951641967</td>\n",
       "    </tr>\n",
       "    <tr>\n",
       "      <th>9172</th>\n",
       "      <td>184854434646126080</td>\n",
       "      <td>50238252676855330</td>\n",
       "      <td>RP</td>\n",
       "      <td>2305.373344</td>\n",
       "      <td>14.123696</td>\n",
       "      <td>18000.715487</td>\n",
       "      <td>142.641479</td>\n",
       "      <td>126.19552</td>\n",
       "      <td>False</td>\n",
       "      <td>False</td>\n",
       "      <td>0</td>\n",
       "      <td>369295549951641967</td>\n",
       "    </tr>\n",
       "  </tbody>\n",
       "</table>\n",
       "<p>141 rows × 12 columns</p>\n",
       "</div>"
      ],
      "text/plain": [
       "               source_id         transit_id band         time        mag  \\\n",
       "9032  184854434646126080  17380585512157341    G  1711.162418  14.791303   \n",
       "9080  184854434646126080  17380585512157341   BP  1711.162761  15.282809   \n",
       "9127  184854434646126080  17380585512157341   RP  1711.162849  14.117023   \n",
       "9033  184854434646126080  19240322461372875    G  1744.798038  14.783311   \n",
       "9081  184854434646126080  19240322461372875   BP  1744.798331  15.295649   \n",
       "...                  ...                ...  ...          ...        ...   \n",
       "9125  184854434646126080  50234160359290702   BP  2305.299255  15.280589   \n",
       "9171  184854434646126080  50234160359290702   RP  2305.299342  14.116655   \n",
       "9079  184854434646126080  50238252676855330    G  2305.372943  14.784592   \n",
       "9126  184854434646126080  50238252676855330   BP  2305.373258  15.280304   \n",
       "9172  184854434646126080  50238252676855330   RP  2305.373344  14.123696   \n",
       "\n",
       "              flux  flux_error  flux_over_error  rejected_by_photometry  \\\n",
       "9032  22846.784826   24.928159        916.50510                   False   \n",
       "9080  10652.015753  124.792369         85.35791                   False   \n",
       "9127  18111.689433  141.276072        128.20068                   False   \n",
       "9033  23015.577922  124.460920        184.92212                   False   \n",
       "9081  10526.780632  100.525953        104.71704                   False   \n",
       "...            ...         ...              ...                     ...   \n",
       "9125  10673.817851  109.641271         97.35219                   False   \n",
       "9171  18117.819594  137.591944        131.67792                   False   \n",
       "9079  22988.436333   27.081270        848.86847                   False   \n",
       "9126  10676.621424  114.736023         93.05379                   False   \n",
       "9172  18000.715487  142.641479        126.19552                   False   \n",
       "\n",
       "      rejected_by_variability  other_flags         solution_id  \n",
       "9032                    False      4194817  369295549951641967  \n",
       "9080                    False            0  369295549951641967  \n",
       "9127                    False            0  369295549951641967  \n",
       "9033                     True        36897  369295549951641967  \n",
       "9081                    False            0  369295549951641967  \n",
       "...                       ...          ...                 ...  \n",
       "9125                    False            0  369295549951641967  \n",
       "9171                    False            0  369295549951641967  \n",
       "9079                    False            1  369295549951641967  \n",
       "9126                    False            0  369295549951641967  \n",
       "9172                    False            0  369295549951641967  \n",
       "\n",
       "[141 rows x 12 columns]"
      ]
     },
     "execution_count": 46,
     "metadata": {},
     "output_type": "execute_result"
    }
   ],
   "source": [
    "src"
   ]
  },
  {
   "cell_type": "code",
   "execution_count": 47,
   "metadata": {},
   "outputs": [],
   "source": [
    "times = src['time'].values"
   ]
  },
  {
   "cell_type": "code",
   "execution_count": 48,
   "metadata": {},
   "outputs": [],
   "source": [
    "times = Time(times, format='mjd')"
   ]
  },
  {
   "cell_type": "code",
   "execution_count": 49,
   "metadata": {},
   "outputs": [
    {
     "name": "stderr",
     "output_type": "stream",
     "text": [
      "/home/glenn/.local/lib/python3.6/site-packages/astropy/_erfa/core.py:107: ErfaWarning: ERFA function \"d2dtf\" yielded 141 of \"dubious year (Note 5)\"\n",
      "  warnings.warn('ERFA function \"' + func_name + '\" yielded ' + wmsg, ErfaWarning)\n"
     ]
    },
    {
     "data": {
      "text/plain": [
       "array(['1863-07-25 03:53:52.929', '1863-07-25 03:54:22.542',\n",
       "       '1863-07-25 03:54:30.136', '1863-08-27 19:09:10.440',\n",
       "       '1863-08-27 19:09:35.837', '1863-08-27 19:09:43.226',\n",
       "       '1863-08-27 23:22:49.928', '1863-08-27 23:23:17.094',\n",
       "       '1863-08-27 23:23:24.774', '1864-01-11 12:32:10.938',\n",
       "       '1864-01-11 12:32:38.101', '1864-01-11 12:32:45.764',\n",
       "       '1864-01-11 14:18:42.108', '1864-01-11 14:19:11.720',\n",
       "       '1864-01-11 14:19:19.290', '1864-02-11 06:05:20.614',\n",
       "       '1864-02-11 06:05:47.790', '1864-02-11 06:05:55.388',\n",
       "       '1864-03-02 06:06:23.768', '1864-03-02 06:06:51.549',\n",
       "       '1864-03-02 06:06:59.165', '1864-03-02 07:52:55.638',\n",
       "       '1864-03-02 07:53:25.248', '1864-03-02 07:53:32.830',\n",
       "       '1864-07-16 14:32:56.661', '1864-07-16 14:33:23.862',\n",
       "       '1864-07-16 14:33:31.384', '1864-08-19 00:22:11.250',\n",
       "       '1864-08-19 00:22:38.442', '1864-08-19 00:22:45.968',\n",
       "       '1864-08-19 02:08:46.011', '1864-08-19 02:09:13.227',\n",
       "       '1864-08-19 02:09:20.665', '1864-09-05 02:15:15.804',\n",
       "       '1864-09-05 02:15:43.031', '1864-09-05 02:15:50.400',\n",
       "       '1864-09-05 06:28:56.942', '1864-09-05 06:29:24.117',\n",
       "       '1864-09-05 06:29:31.730', '1864-12-08 08:26:36.760',\n",
       "       '1864-12-08 08:27:03.905', '1864-12-08 08:27:11.630',\n",
       "       '1864-12-08 14:26:49.857', '1864-12-08 14:27:17.019',\n",
       "       '1864-12-08 14:27:24.670', '1864-12-08 20:27:00.337',\n",
       "       '1864-12-08 20:27:29.944', '1864-12-08 20:27:37.519',\n",
       "       '1864-12-08 22:13:36.547', '1864-12-08 22:14:03.723',\n",
       "       '1864-12-08 22:14:11.347', '1864-12-09 02:27:15.521',\n",
       "       '1864-12-09 02:27:42.712', '1864-12-09 02:27:50.212',\n",
       "       '1864-12-09 04:13:46.833', '1864-12-09 08:27:28.147',\n",
       "       '1864-12-09 08:27:55.349', '1864-12-09 08:28:02.785',\n",
       "       '1864-12-09 10:14:01.857', '1864-12-09 10:14:29.056',\n",
       "       '1864-12-09 10:14:36.563', '1864-12-09 14:27:40.674',\n",
       "       '1864-12-09 14:28:07.884', '1864-12-09 14:28:15.269',\n",
       "       '1864-12-09 16:14:14.357', '1864-12-09 16:14:41.564',\n",
       "       '1864-12-09 16:14:49.028', '1864-12-09 20:27:53.127',\n",
       "       '1864-12-09 20:28:20.342', '1864-12-09 20:28:27.694',\n",
       "       '1864-12-09 22:14:26.797', '1864-12-09 22:14:54.008',\n",
       "       '1864-12-09 22:15:01.448', '1864-12-10 02:28:05.542',\n",
       "       '1864-12-10 02:28:32.759', '1864-12-10 02:28:40.097',\n",
       "       '1864-12-10 04:14:39.205', '1864-12-10 04:15:06.417',\n",
       "       '1864-12-10 04:15:13.850', '1864-12-10 08:28:17.946',\n",
       "       '1864-12-10 08:28:45.161', '1864-12-10 08:28:52.508',\n",
       "       '1864-12-10 10:14:51.611', '1864-12-10 10:15:18.821',\n",
       "       '1864-12-10 10:15:26.267', '1864-12-10 14:28:32.193',\n",
       "       '1864-12-10 14:28:57.582', '1864-12-10 14:29:04.957',\n",
       "       '1864-12-10 16:15:04.046', '1864-12-10 16:15:31.251',\n",
       "       '1864-12-10 16:15:38.728', '1864-12-10 20:28:42.848',\n",
       "       '1864-12-10 20:29:10.052', '1864-12-10 20:29:17.475',\n",
       "       '1864-12-10 22:15:16.546', '1864-12-10 22:15:43.741',\n",
       "       '1864-12-10 22:15:51.267', '1864-12-11 02:28:55.407',\n",
       "       '1864-12-11 02:29:22.600', '1864-12-11 02:29:30.088',\n",
       "       '1864-12-11 04:15:26.705', '1864-12-11 04:15:56.318',\n",
       "       '1864-12-11 04:16:03.905', '1864-12-11 08:29:05.650',\n",
       "       '1864-12-11 08:29:35.260', '1864-12-11 08:29:42.824',\n",
       "       '1864-12-11 10:15:44.277', '1864-12-11 10:16:09.017',\n",
       "       '1864-12-11 10:16:16.672', '1864-12-11 14:29:20.902',\n",
       "       '1864-12-11 14:29:48.066', '1864-12-11 14:29:55.710',\n",
       "       '1864-12-11 16:15:54.718', '1864-12-11 16:16:21.870',\n",
       "       '1864-12-11 16:16:29.595', '1864-12-11 20:29:33.896',\n",
       "       '1864-12-11 20:30:01.043', '1865-01-21 01:40:09.391',\n",
       "       '1865-01-21 01:40:38.995', '1865-01-21 01:40:46.581',\n",
       "       '1865-02-26 14:49:53.131', '1865-02-26 14:50:22.177',\n",
       "       '1865-02-26 14:50:29.543', '1865-02-26 19:03:33.853',\n",
       "       '1865-02-26 19:04:01.041', '1865-02-26 19:04:08.560',\n",
       "       '1865-02-26 20:50:07.512', '1865-02-26 20:50:34.677',\n",
       "       '1865-02-26 20:50:42.346', '1865-03-10 01:10:15.244',\n",
       "       '1865-03-10 01:10:43.006', '1865-03-10 01:10:50.693',\n",
       "       '1865-03-10 02:56:49.541', '1865-03-10 02:57:16.699',\n",
       "       '1865-03-10 02:57:24.396', '1865-03-10 07:10:28.455',\n",
       "       '1865-03-10 07:10:55.650', '1865-03-10 07:11:03.129',\n",
       "       '1865-03-10 08:57:02.256', '1865-03-10 08:57:29.459',\n",
       "       '1865-03-10 08:57:36.946'], dtype='<U23')"
      ]
     },
     "execution_count": 49,
     "metadata": {},
     "output_type": "execute_result"
    }
   ],
   "source": [
    "times.utc.iso"
   ]
  },
  {
   "cell_type": "code",
   "execution_count": 52,
   "metadata": {},
   "outputs": [
    {
     "name": "stderr",
     "output_type": "stream",
     "text": [
      "/home/glenn/.local/lib/python3.6/site-packages/ipykernel_launcher.py:1: SettingWithCopyWarning: \n",
      "A value is trying to be set on a copy of a slice from a DataFrame.\n",
      "Try using .loc[row_indexer,col_indexer] = value instead\n",
      "\n",
      "See the caveats in the documentation: http://pandas.pydata.org/pandas-docs/stable/user_guide/indexing.html#returning-a-view-versus-a-copy\n",
      "  \"\"\"Entry point for launching an IPython kernel.\n"
     ]
    }
   ],
   "source": [
    "src['utc'] = times.utc.iso"
   ]
  },
  {
   "cell_type": "code",
   "execution_count": 53,
   "metadata": {},
   "outputs": [
    {
     "data": {
      "text/html": [
       "<div>\n",
       "<style scoped>\n",
       "    .dataframe tbody tr th:only-of-type {\n",
       "        vertical-align: middle;\n",
       "    }\n",
       "\n",
       "    .dataframe tbody tr th {\n",
       "        vertical-align: top;\n",
       "    }\n",
       "\n",
       "    .dataframe thead th {\n",
       "        text-align: right;\n",
       "    }\n",
       "</style>\n",
       "<table border=\"1\" class=\"dataframe\">\n",
       "  <thead>\n",
       "    <tr style=\"text-align: right;\">\n",
       "      <th></th>\n",
       "      <th>source_id</th>\n",
       "      <th>transit_id</th>\n",
       "      <th>band</th>\n",
       "      <th>time</th>\n",
       "      <th>mag</th>\n",
       "      <th>flux</th>\n",
       "      <th>flux_error</th>\n",
       "      <th>flux_over_error</th>\n",
       "      <th>rejected_by_photometry</th>\n",
       "      <th>rejected_by_variability</th>\n",
       "      <th>other_flags</th>\n",
       "      <th>solution_id</th>\n",
       "      <th>utc</th>\n",
       "    </tr>\n",
       "  </thead>\n",
       "  <tbody>\n",
       "    <tr>\n",
       "      <th>9032</th>\n",
       "      <td>184854434646126080</td>\n",
       "      <td>17380585512157341</td>\n",
       "      <td>G</td>\n",
       "      <td>1711.162418</td>\n",
       "      <td>14.791303</td>\n",
       "      <td>22846.784826</td>\n",
       "      <td>24.928159</td>\n",
       "      <td>916.50510</td>\n",
       "      <td>False</td>\n",
       "      <td>False</td>\n",
       "      <td>4194817</td>\n",
       "      <td>369295549951641967</td>\n",
       "      <td>1863-07-25 03:53:52.929</td>\n",
       "    </tr>\n",
       "    <tr>\n",
       "      <th>9080</th>\n",
       "      <td>184854434646126080</td>\n",
       "      <td>17380585512157341</td>\n",
       "      <td>BP</td>\n",
       "      <td>1711.162761</td>\n",
       "      <td>15.282809</td>\n",
       "      <td>10652.015753</td>\n",
       "      <td>124.792369</td>\n",
       "      <td>85.35791</td>\n",
       "      <td>False</td>\n",
       "      <td>False</td>\n",
       "      <td>0</td>\n",
       "      <td>369295549951641967</td>\n",
       "      <td>1863-07-25 03:54:22.542</td>\n",
       "    </tr>\n",
       "    <tr>\n",
       "      <th>9127</th>\n",
       "      <td>184854434646126080</td>\n",
       "      <td>17380585512157341</td>\n",
       "      <td>RP</td>\n",
       "      <td>1711.162849</td>\n",
       "      <td>14.117023</td>\n",
       "      <td>18111.689433</td>\n",
       "      <td>141.276072</td>\n",
       "      <td>128.20068</td>\n",
       "      <td>False</td>\n",
       "      <td>False</td>\n",
       "      <td>0</td>\n",
       "      <td>369295549951641967</td>\n",
       "      <td>1863-07-25 03:54:30.136</td>\n",
       "    </tr>\n",
       "    <tr>\n",
       "      <th>9033</th>\n",
       "      <td>184854434646126080</td>\n",
       "      <td>19240322461372875</td>\n",
       "      <td>G</td>\n",
       "      <td>1744.798038</td>\n",
       "      <td>14.783311</td>\n",
       "      <td>23015.577922</td>\n",
       "      <td>124.460920</td>\n",
       "      <td>184.92212</td>\n",
       "      <td>False</td>\n",
       "      <td>True</td>\n",
       "      <td>36897</td>\n",
       "      <td>369295549951641967</td>\n",
       "      <td>1863-08-27 19:09:10.440</td>\n",
       "    </tr>\n",
       "    <tr>\n",
       "      <th>9081</th>\n",
       "      <td>184854434646126080</td>\n",
       "      <td>19240322461372875</td>\n",
       "      <td>BP</td>\n",
       "      <td>1744.798331</td>\n",
       "      <td>15.295649</td>\n",
       "      <td>10526.780632</td>\n",
       "      <td>100.525953</td>\n",
       "      <td>104.71704</td>\n",
       "      <td>False</td>\n",
       "      <td>False</td>\n",
       "      <td>0</td>\n",
       "      <td>369295549951641967</td>\n",
       "      <td>1863-08-27 19:09:35.837</td>\n",
       "    </tr>\n",
       "    <tr>\n",
       "      <th>...</th>\n",
       "      <td>...</td>\n",
       "      <td>...</td>\n",
       "      <td>...</td>\n",
       "      <td>...</td>\n",
       "      <td>...</td>\n",
       "      <td>...</td>\n",
       "      <td>...</td>\n",
       "      <td>...</td>\n",
       "      <td>...</td>\n",
       "      <td>...</td>\n",
       "      <td>...</td>\n",
       "      <td>...</td>\n",
       "      <td>...</td>\n",
       "    </tr>\n",
       "    <tr>\n",
       "      <th>9125</th>\n",
       "      <td>184854434646126080</td>\n",
       "      <td>50234160359290702</td>\n",
       "      <td>BP</td>\n",
       "      <td>2305.299255</td>\n",
       "      <td>15.280589</td>\n",
       "      <td>10673.817851</td>\n",
       "      <td>109.641271</td>\n",
       "      <td>97.35219</td>\n",
       "      <td>False</td>\n",
       "      <td>False</td>\n",
       "      <td>0</td>\n",
       "      <td>369295549951641967</td>\n",
       "      <td>1865-03-10 07:10:55.650</td>\n",
       "    </tr>\n",
       "    <tr>\n",
       "      <th>9171</th>\n",
       "      <td>184854434646126080</td>\n",
       "      <td>50234160359290702</td>\n",
       "      <td>RP</td>\n",
       "      <td>2305.299342</td>\n",
       "      <td>14.116655</td>\n",
       "      <td>18117.819594</td>\n",
       "      <td>137.591944</td>\n",
       "      <td>131.67792</td>\n",
       "      <td>False</td>\n",
       "      <td>False</td>\n",
       "      <td>0</td>\n",
       "      <td>369295549951641967</td>\n",
       "      <td>1865-03-10 07:11:03.129</td>\n",
       "    </tr>\n",
       "    <tr>\n",
       "      <th>9079</th>\n",
       "      <td>184854434646126080</td>\n",
       "      <td>50238252676855330</td>\n",
       "      <td>G</td>\n",
       "      <td>2305.372943</td>\n",
       "      <td>14.784592</td>\n",
       "      <td>22988.436333</td>\n",
       "      <td>27.081270</td>\n",
       "      <td>848.86847</td>\n",
       "      <td>False</td>\n",
       "      <td>False</td>\n",
       "      <td>1</td>\n",
       "      <td>369295549951641967</td>\n",
       "      <td>1865-03-10 08:57:02.256</td>\n",
       "    </tr>\n",
       "    <tr>\n",
       "      <th>9126</th>\n",
       "      <td>184854434646126080</td>\n",
       "      <td>50238252676855330</td>\n",
       "      <td>BP</td>\n",
       "      <td>2305.373258</td>\n",
       "      <td>15.280304</td>\n",
       "      <td>10676.621424</td>\n",
       "      <td>114.736023</td>\n",
       "      <td>93.05379</td>\n",
       "      <td>False</td>\n",
       "      <td>False</td>\n",
       "      <td>0</td>\n",
       "      <td>369295549951641967</td>\n",
       "      <td>1865-03-10 08:57:29.459</td>\n",
       "    </tr>\n",
       "    <tr>\n",
       "      <th>9172</th>\n",
       "      <td>184854434646126080</td>\n",
       "      <td>50238252676855330</td>\n",
       "      <td>RP</td>\n",
       "      <td>2305.373344</td>\n",
       "      <td>14.123696</td>\n",
       "      <td>18000.715487</td>\n",
       "      <td>142.641479</td>\n",
       "      <td>126.19552</td>\n",
       "      <td>False</td>\n",
       "      <td>False</td>\n",
       "      <td>0</td>\n",
       "      <td>369295549951641967</td>\n",
       "      <td>1865-03-10 08:57:36.946</td>\n",
       "    </tr>\n",
       "  </tbody>\n",
       "</table>\n",
       "<p>141 rows × 13 columns</p>\n",
       "</div>"
      ],
      "text/plain": [
       "               source_id         transit_id band         time        mag  \\\n",
       "9032  184854434646126080  17380585512157341    G  1711.162418  14.791303   \n",
       "9080  184854434646126080  17380585512157341   BP  1711.162761  15.282809   \n",
       "9127  184854434646126080  17380585512157341   RP  1711.162849  14.117023   \n",
       "9033  184854434646126080  19240322461372875    G  1744.798038  14.783311   \n",
       "9081  184854434646126080  19240322461372875   BP  1744.798331  15.295649   \n",
       "...                  ...                ...  ...          ...        ...   \n",
       "9125  184854434646126080  50234160359290702   BP  2305.299255  15.280589   \n",
       "9171  184854434646126080  50234160359290702   RP  2305.299342  14.116655   \n",
       "9079  184854434646126080  50238252676855330    G  2305.372943  14.784592   \n",
       "9126  184854434646126080  50238252676855330   BP  2305.373258  15.280304   \n",
       "9172  184854434646126080  50238252676855330   RP  2305.373344  14.123696   \n",
       "\n",
       "              flux  flux_error  flux_over_error  rejected_by_photometry  \\\n",
       "9032  22846.784826   24.928159        916.50510                   False   \n",
       "9080  10652.015753  124.792369         85.35791                   False   \n",
       "9127  18111.689433  141.276072        128.20068                   False   \n",
       "9033  23015.577922  124.460920        184.92212                   False   \n",
       "9081  10526.780632  100.525953        104.71704                   False   \n",
       "...            ...         ...              ...                     ...   \n",
       "9125  10673.817851  109.641271         97.35219                   False   \n",
       "9171  18117.819594  137.591944        131.67792                   False   \n",
       "9079  22988.436333   27.081270        848.86847                   False   \n",
       "9126  10676.621424  114.736023         93.05379                   False   \n",
       "9172  18000.715487  142.641479        126.19552                   False   \n",
       "\n",
       "      rejected_by_variability  other_flags         solution_id  \\\n",
       "9032                    False      4194817  369295549951641967   \n",
       "9080                    False            0  369295549951641967   \n",
       "9127                    False            0  369295549951641967   \n",
       "9033                     True        36897  369295549951641967   \n",
       "9081                    False            0  369295549951641967   \n",
       "...                       ...          ...                 ...   \n",
       "9125                    False            0  369295549951641967   \n",
       "9171                    False            0  369295549951641967   \n",
       "9079                    False            1  369295549951641967   \n",
       "9126                    False            0  369295549951641967   \n",
       "9172                    False            0  369295549951641967   \n",
       "\n",
       "                          utc  \n",
       "9032  1863-07-25 03:53:52.929  \n",
       "9080  1863-07-25 03:54:22.542  \n",
       "9127  1863-07-25 03:54:30.136  \n",
       "9033  1863-08-27 19:09:10.440  \n",
       "9081  1863-08-27 19:09:35.837  \n",
       "...                       ...  \n",
       "9125  1865-03-10 07:10:55.650  \n",
       "9171  1865-03-10 07:11:03.129  \n",
       "9079  1865-03-10 08:57:02.256  \n",
       "9126  1865-03-10 08:57:29.459  \n",
       "9172  1865-03-10 08:57:36.946  \n",
       "\n",
       "[141 rows x 13 columns]"
      ]
     },
     "execution_count": 53,
     "metadata": {},
     "output_type": "execute_result"
    }
   ],
   "source": [
    "src"
   ]
  },
  {
   "cell_type": "code",
   "execution_count": 54,
   "metadata": {},
   "outputs": [],
   "source": [
    "data = src[['utc','flux_over_error']]"
   ]
  },
  {
   "cell_type": "code",
   "execution_count": 56,
   "metadata": {},
   "outputs": [
    {
     "ename": "ValueError",
     "evalue": "Could not interpret input 'utc'",
     "output_type": "error",
     "traceback": [
      "\u001b[0;31m---------------------------------------------------------------------------\u001b[0m",
      "\u001b[0;31mValueError\u001b[0m                                Traceback (most recent call last)",
      "\u001b[0;32m<ipython-input-56-7579aa8063e6>\u001b[0m in \u001b[0;36m<module>\u001b[0;34m\u001b[0m\n\u001b[0;32m----> 1\u001b[0;31m \u001b[0msns\u001b[0m\u001b[0;34m.\u001b[0m\u001b[0mlineplot\u001b[0m\u001b[0;34m(\u001b[0m\u001b[0mx\u001b[0m\u001b[0;34m=\u001b[0m\u001b[0;34m'utc'\u001b[0m\u001b[0;34m,\u001b[0m \u001b[0my\u001b[0m\u001b[0;34m=\u001b[0m\u001b[0;34m'flux_over_erro'\u001b[0m\u001b[0;34m)\u001b[0m\u001b[0;34m\u001b[0m\u001b[0;34m\u001b[0m\u001b[0m\n\u001b[0m",
      "\u001b[0;32m~/.local/lib/python3.6/site-packages/seaborn/relational.py\u001b[0m in \u001b[0;36mlineplot\u001b[0;34m(x, y, hue, size, style, data, palette, hue_order, hue_norm, sizes, size_order, size_norm, dashes, markers, style_order, units, estimator, ci, n_boot, sort, err_style, err_kws, legend, ax, **kwargs)\u001b[0m\n\u001b[1;32m   1076\u001b[0m         \u001b[0mdashes\u001b[0m\u001b[0;34m=\u001b[0m\u001b[0mdashes\u001b[0m\u001b[0;34m,\u001b[0m \u001b[0mmarkers\u001b[0m\u001b[0;34m=\u001b[0m\u001b[0mmarkers\u001b[0m\u001b[0;34m,\u001b[0m \u001b[0mstyle_order\u001b[0m\u001b[0;34m=\u001b[0m\u001b[0mstyle_order\u001b[0m\u001b[0;34m,\u001b[0m\u001b[0;34m\u001b[0m\u001b[0;34m\u001b[0m\u001b[0m\n\u001b[1;32m   1077\u001b[0m         \u001b[0munits\u001b[0m\u001b[0;34m=\u001b[0m\u001b[0munits\u001b[0m\u001b[0;34m,\u001b[0m \u001b[0mestimator\u001b[0m\u001b[0;34m=\u001b[0m\u001b[0mestimator\u001b[0m\u001b[0;34m,\u001b[0m \u001b[0mci\u001b[0m\u001b[0;34m=\u001b[0m\u001b[0mci\u001b[0m\u001b[0;34m,\u001b[0m \u001b[0mn_boot\u001b[0m\u001b[0;34m=\u001b[0m\u001b[0mn_boot\u001b[0m\u001b[0;34m,\u001b[0m\u001b[0;34m\u001b[0m\u001b[0;34m\u001b[0m\u001b[0m\n\u001b[0;32m-> 1078\u001b[0;31m         \u001b[0msort\u001b[0m\u001b[0;34m=\u001b[0m\u001b[0msort\u001b[0m\u001b[0;34m,\u001b[0m \u001b[0merr_style\u001b[0m\u001b[0;34m=\u001b[0m\u001b[0merr_style\u001b[0m\u001b[0;34m,\u001b[0m \u001b[0merr_kws\u001b[0m\u001b[0;34m=\u001b[0m\u001b[0merr_kws\u001b[0m\u001b[0;34m,\u001b[0m \u001b[0mlegend\u001b[0m\u001b[0;34m=\u001b[0m\u001b[0mlegend\u001b[0m\u001b[0;34m,\u001b[0m\u001b[0;34m\u001b[0m\u001b[0;34m\u001b[0m\u001b[0m\n\u001b[0m\u001b[1;32m   1079\u001b[0m     )\n\u001b[1;32m   1080\u001b[0m \u001b[0;34m\u001b[0m\u001b[0m\n",
      "\u001b[0;32m~/.local/lib/python3.6/site-packages/seaborn/relational.py\u001b[0m in \u001b[0;36m__init__\u001b[0;34m(self, x, y, hue, size, style, data, palette, hue_order, hue_norm, sizes, size_order, size_norm, dashes, markers, style_order, units, estimator, ci, n_boot, sort, err_style, err_kws, legend)\u001b[0m\n\u001b[1;32m    661\u001b[0m \u001b[0;34m\u001b[0m\u001b[0m\n\u001b[1;32m    662\u001b[0m         plot_data = self.establish_variables(\n\u001b[0;32m--> 663\u001b[0;31m             \u001b[0mx\u001b[0m\u001b[0;34m,\u001b[0m \u001b[0my\u001b[0m\u001b[0;34m,\u001b[0m \u001b[0mhue\u001b[0m\u001b[0;34m,\u001b[0m \u001b[0msize\u001b[0m\u001b[0;34m,\u001b[0m \u001b[0mstyle\u001b[0m\u001b[0;34m,\u001b[0m \u001b[0munits\u001b[0m\u001b[0;34m,\u001b[0m \u001b[0mdata\u001b[0m\u001b[0;34m\u001b[0m\u001b[0;34m\u001b[0m\u001b[0m\n\u001b[0m\u001b[1;32m    664\u001b[0m         )\n\u001b[1;32m    665\u001b[0m \u001b[0;34m\u001b[0m\u001b[0m\n",
      "\u001b[0;32m~/.local/lib/python3.6/site-packages/seaborn/relational.py\u001b[0m in \u001b[0;36mestablish_variables\u001b[0;34m(self, x, y, hue, size, style, units, data)\u001b[0m\n\u001b[1;32m    140\u001b[0m                 \u001b[0;32mif\u001b[0m \u001b[0misinstance\u001b[0m\u001b[0;34m(\u001b[0m\u001b[0mvar\u001b[0m\u001b[0;34m,\u001b[0m \u001b[0mstring_types\u001b[0m\u001b[0;34m)\u001b[0m\u001b[0;34m:\u001b[0m\u001b[0;34m\u001b[0m\u001b[0;34m\u001b[0m\u001b[0m\n\u001b[1;32m    141\u001b[0m                     \u001b[0merr\u001b[0m \u001b[0;34m=\u001b[0m \u001b[0;34m\"Could not interpret input '{}'\"\u001b[0m\u001b[0;34m.\u001b[0m\u001b[0mformat\u001b[0m\u001b[0;34m(\u001b[0m\u001b[0mvar\u001b[0m\u001b[0;34m)\u001b[0m\u001b[0;34m\u001b[0m\u001b[0;34m\u001b[0m\u001b[0m\n\u001b[0;32m--> 142\u001b[0;31m                     \u001b[0;32mraise\u001b[0m \u001b[0mValueError\u001b[0m\u001b[0;34m(\u001b[0m\u001b[0merr\u001b[0m\u001b[0;34m)\u001b[0m\u001b[0;34m\u001b[0m\u001b[0;34m\u001b[0m\u001b[0m\n\u001b[0m\u001b[1;32m    143\u001b[0m \u001b[0;34m\u001b[0m\u001b[0m\n\u001b[1;32m    144\u001b[0m             \u001b[0;31m# Extract variable names\u001b[0m\u001b[0;34m\u001b[0m\u001b[0;34m\u001b[0m\u001b[0;34m\u001b[0m\u001b[0m\n",
      "\u001b[0;31mValueError\u001b[0m: Could not interpret input 'utc'"
     ]
    }
   ],
   "source": [
    "sns.lineplot(x='utc', y='flux_over_erro')"
   ]
  },
  {
   "cell_type": "code",
   "execution_count": null,
   "metadata": {},
   "outputs": [],
   "source": []
  },
  {
   "cell_type": "code",
   "execution_count": null,
   "metadata": {},
   "outputs": [],
   "source": []
  },
  {
   "cell_type": "code",
   "execution_count": null,
   "metadata": {},
   "outputs": [],
   "source": []
  }
 ],
 "metadata": {
  "kernelspec": {
   "display_name": "Python 3",
   "language": "python",
   "name": "python3"
  },
  "language_info": {
   "codemirror_mode": {
    "name": "ipython",
    "version": 3
   },
   "file_extension": ".py",
   "mimetype": "text/x-python",
   "name": "python",
   "nbconvert_exporter": "python",
   "pygments_lexer": "ipython3",
   "version": "3.6.8"
  }
 },
 "nbformat": 4,
 "nbformat_minor": 2
}
